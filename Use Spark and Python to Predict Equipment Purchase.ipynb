{
    "cells": [
        {
            "metadata": {},
            "cell_type": "code",
            "source": "# @hidden_cell\n# The project token is an authorization token that is used to access project resources like data sources, connections, and used by platform APIs.\nfrom project_lib import Project\nproject = Project(project_id='0ac856a2-d38f-4474-82c3-d7eeb53ab64a', project_access_token='p-bacfdfd2a2127adeed90fae8308e2366003da8e8')\n",
            "execution_count": 1,
            "outputs": [
                {
                    "output_type": "stream",
                    "text": "Waiting for a Spark session to start...\nSpark Initialization Done! ApplicationId = app-20200304214015-0000\nKERNEL_ID = 23348eff-8083-47e9-9ae1-19d3e6cf8f83\n",
                    "name": "stdout"
                }
            ]
        },
        {
            "metadata": {},
            "cell_type": "markdown",
            "source": "<table style=\"border: none\" align=\"left\">\n   <tr style=\"border: none\">\n      <th style=\"border: none\"><font face=\"verdana\" size=\"5\" color=\"black\"><b>Use Spark and Python to Predict Equipment Purchase</b></th>\n   </tr>\n   <tr style=\"border: none\">\n       <th style=\"border: none\"><img src=\"https://github.com/pmservice/wml-sample-models/blob/master/spark/product-line-prediction/images/products_graphics.png?raw=true\" alt=\"Icon\"> </th>\n   </tr>\n</table>"
        },
        {
            "metadata": {},
            "cell_type": "markdown",
            "source": "This notebook demonstrates how to perform data analysis on a classification problem. You will build a machine learning model to predict clients' interests in terms of product line, such as golf accessories, camping equipment, etc. You will use a publicly available data set, **GoSales Transactions for Naive Bayes Model**, which details anonymous outdoor equipment purchases. The data contains five features (predictors) namely `PRODUCT_LINE`, `GENDER`, `AGE`, `MARITAL_STATUS` and `PROFESSION`.\n\n\n\n**Note**: The GoSales data is available to the <a  href=\"https://dataplatform.cloud.ibm.com/exchange/public/entry/view/8044492073eb964f46597b4be06ff5ea\" target=\"_blank\" rel=\"noopener no referrer\">Watson Studio Community</a>. The machine learning model is built using <a href=\"http://spark.apache.org/docs/2.3.0/api/python/pyspark.ml.html\" target=\"_blank\" rel=\"noopener no referrer\">PySpark ML package</a>. Some familiarity with Python is helpful. This notebook is compatible with Python 3.6 and Spark 2.x.\n\n\n## Learning goals\n\nYou will learn how to:\n\n-  Load data into an Apache\u00ae Spark DataFrame.\n-  Explore the data.\n-  Prepare data for training and evaluation.\n-  Create an Apache\u00ae Spark machine learning pipeline.\n-  Train and evaluate a model.\n-  Explore and visualize the prediction results.\n\n\n## Contents\n\nThis notebook contains the following parts. You need to execute the code cells in order from the top to bottom. Code cells can be executed by either clicking on the run cell button from the toolbar or hitting `Shift + Return` keys.\n\n1.\t[Load the data](#load)\n2.\t[Explore the data](#explore)\n3.\t[Build a machine learning model](#model)\n4.\t[Predict and visualize prediction results](#visualization)\n5.\t[Summary and next steps](#summary)\n\n**Note**: Make sure you run the code cell at the top of this notebook. All projects in IBM Watson Studio have an authorization token that is used to enable access to project assets, for example data assets and connections, and is used by platform APIs. This token is called the project access token. The code to use this token was added to the notebook for you during the project template import."
        },
        {
            "metadata": {},
            "cell_type": "markdown",
            "source": "<a id=\"load\"></a>\n## 1. Load the data"
        },
        {
            "metadata": {},
            "cell_type": "markdown",
            "source": "In this section, you will load the data as an Apache\u00ae Spark DataFrame. You will access the data set `GoSales_Tx_NaiveBayes.csv` loaded in the Cloud Object Storage bucket associated with the project. The CSV file is added to the project together with the notebook and project token when this Project Template is used to create a project. \n\nExecute the code cell below to create a connection to Cloud Object Storage, and use the Spark `read` method to read the data into the dataFrame. The code below will also display the first 5 records from the dataset. Take a moment to analyse the values present in the dataset."
        },
        {
            "metadata": {},
            "cell_type": "code",
            "source": "# @hidden_cell\n\nimport ibmos2spark\nimport pandas as pd\nstorage_metadata = project.get_storage_metadata()\n\ncredentials = {\n    'endpoint': storage_metadata['properties']['endpoint_url'],\n    'service_id': storage_metadata['properties']['credentials']['editor']['service_id'],\n    'iam_service_endpoint': 'https://iam.bluemix.net/oidc/token',\n    'api_key': storage_metadata['properties']['credentials']['editor']['api_key']\n}\n\nconfiguration_name = 'cos_config'\ncos = ibmos2spark.CloudObjectStorage(sc, credentials, configuration_name, 'bluemix_cos')\n\nfrom pyspark.sql import SparkSession\nspark = SparkSession.builder.getOrCreate()\ndf = spark.read\\\n  .format('org.apache.spark.sql.execution.datasources.csv.CSVFileFormat')\\\n  .option('header', 'true')\\\n  .load(cos.url('GoSales_Tx_NaiveBayes.csv', storage_metadata['properties']['bucket_name']))\ndf.take(5)",
            "execution_count": 2,
            "outputs": [
                {
                    "output_type": "execute_result",
                    "execution_count": 2,
                    "data": {
                        "text/plain": "[Row(PRODUCT_LINE='Personal Accessories', GENDER='M', AGE='27', MARITAL_STATUS='Single', PROFESSION='Professional'),\n Row(PRODUCT_LINE='Personal Accessories', GENDER='F', AGE='39', MARITAL_STATUS='Married', PROFESSION='Other'),\n Row(PRODUCT_LINE='Mountaineering Equipment', GENDER='F', AGE='39', MARITAL_STATUS='Married', PROFESSION='Other'),\n Row(PRODUCT_LINE='Personal Accessories', GENDER='F', AGE='56', MARITAL_STATUS='Unspecified', PROFESSION='Hospitality'),\n Row(PRODUCT_LINE='Golf Equipment', GENDER='M', AGE='45', MARITAL_STATUS='Married', PROFESSION='Retired')]"
                    },
                    "metadata": {}
                }
            ]
        },
        {
            "metadata": {},
            "cell_type": "markdown",
            "source": "As you can see, the data contains five features (predictors) namely `PRODUCT_LINE`, `GENDER`, `AGE`, `MARITAL_STATUS` and `PROFESSION`. `PRODUCT_LINE` is the one you want to predict (label).\n"
        },
        {
            "metadata": {},
            "cell_type": "markdown",
            "source": "<a id=\"explore\"></a>\n## 2. Explore the data"
        },
        {
            "metadata": {},
            "cell_type": "markdown",
            "source": "Now you have successfully loaded your data into an Apache\u00ae Spark DataFrame. In the next steps you will inspect the data and examine its properties. You will also do visual exploration to understand more about the structure of the dataset and the characteristics of the data."
        },
        {
            "metadata": {},
            "cell_type": "markdown",
            "source": "You can check the schema of the DataFrame by executing the next code cell.  You will notice that the attribute `AGE` is of string type, but this is a numerical data, we will convert it to a numerical type in the next section."
        },
        {
            "metadata": {},
            "cell_type": "code",
            "source": "df.dtypes",
            "execution_count": 3,
            "outputs": [
                {
                    "output_type": "execute_result",
                    "execution_count": 3,
                    "data": {
                        "text/plain": "[('PRODUCT_LINE', 'string'),\n ('GENDER', 'string'),\n ('AGE', 'string'),\n ('MARITAL_STATUS', 'string'),\n ('PROFESSION', 'string')]"
                    },
                    "metadata": {}
                }
            ]
        },
        {
            "metadata": {},
            "cell_type": "markdown",
            "source": "### 2.1 Change data type<a id=\"dtype\"></a>"
        },
        {
            "metadata": {},
            "cell_type": "markdown",
            "source": "Convert the attribute `AGE` from a string type to a numerical type."
        },
        {
            "metadata": {},
            "cell_type": "code",
            "source": "from pyspark.sql.types import IntegerType\ndf = df.withColumn(\"AGE\", df[\"AGE\"].cast(IntegerType()))",
            "execution_count": 4,
            "outputs": []
        },
        {
            "metadata": {},
            "cell_type": "markdown",
            "source": "Have a look at the new data types."
        },
        {
            "metadata": {},
            "cell_type": "code",
            "source": "df.dtypes",
            "execution_count": 5,
            "outputs": [
                {
                    "output_type": "execute_result",
                    "execution_count": 5,
                    "data": {
                        "text/plain": "[('PRODUCT_LINE', 'string'),\n ('GENDER', 'string'),\n ('AGE', 'int'),\n ('MARITAL_STATUS', 'string'),\n ('PROFESSION', 'string')]"
                    },
                    "metadata": {}
                }
            ]
        },
        {
            "metadata": {},
            "cell_type": "markdown",
            "source": "### 2.2 Visualize the data\nData visualization helps to identify significant trends and characterstics of the data. Simple charts like bar chart or pie chart might help to build a better understanding of the data. You will use the Python library called `brunel` to create visualizations. `brunel` defines a highly succinct and novel language that defines interactive data visualizations based on tabular data. `brunel` documentation and code can be found <a href=\"https://github.com/Brunel-Visualization/Brunel\" target=\"_blank\" rel=\"noopener no referrer\">here</a>.  You will notice that zoom in and zoom out are supported in brunel plots."
        },
        {
            "metadata": {},
            "cell_type": "markdown",
            "source": "You have to convert the PySpark DataFrame into a Pandas DataFrame first in order to pass it to `brunel`. Execute the next code cell to do so."
        },
        {
            "metadata": {},
            "cell_type": "code",
            "source": "df_pd = df.toPandas()",
            "execution_count": 6,
            "outputs": []
        },
        {
            "metadata": {},
            "cell_type": "markdown",
            "source": "Now plot a couple of bar charts to understand the proportion of values in individual features. Let's start with the target column i.e. `PRODUCT_LINE`. "
        },
        {
            "metadata": {},
            "cell_type": "code",
            "source": "import brunel\n%brunel data('df_pd') bar x(PRODUCT_LINE) y(#count) color(PRODUCT_LINE) :: width=600, height=400",
            "execution_count": 7,
            "outputs": [
                {
                    "output_type": "display_data",
                    "data": {
                        "text/html": "<!--\n  ~ Copyright (c) 2015 IBM Corporation and others.\n  ~\n  ~ Licensed under the Apache License, Version 2.0 (the \"License\");\n  ~ You may not use this file except in compliance with the License.\n  ~ You may obtain a copy of the License at\n  ~\n  ~     http://www.apache.org/licenses/LICENSE-2.0\n  ~\n  ~ Unless required by applicable law or agreed to in writing, software\n  ~ distributed under the License is distributed on an \"AS IS\" BASIS,\n  ~ WITHOUT WARRANTIES OR CONDITIONS OF ANY KIND, either express or implied.\n  ~ See the License for the specific language governing permissions and\n  ~ limitations under the License.\n  -->\n\n\n<link rel=\"stylesheet\" type=\"text/css\" href=\"/data/jupyter2/static-file-content-delivery-network/nbextensions/brunel_ext/brunel.2.3.css\">\n<link rel=\"stylesheet\" type=\"text/css\" href=\"/data/jupyter2/static-file-content-delivery-network/nbextensions/brunel_ext/sumoselect.css\">\n\n<style>\n    \n</style>\n\n<div id=\"controlsidd0f89dfc-5e60-11ea-b7bc-6fda9e14f743\" class=\"brunel\"/>\n<svg id=\"visidd0f89c1c-5e60-11ea-b7bc-6fda9e14f743\" width=\"600\" height=\"400\"></svg>",
                        "text/plain": "<IPython.core.display.HTML object>"
                    },
                    "metadata": {}
                },
                {
                    "output_type": "execute_result",
                    "execution_count": 7,
                    "data": {
                        "application/javascript": "/*\n * Copyright (c) 2015 IBM Corporation and others.\n *\n * Licensed under the Apache License, Version 2.0 (the \"License\");\n * You may not use this file except in compliance with the License.\n * You may obtain a copy of the License at\n *\n *     http://www.apache.org/licenses/LICENSE-2.0\n *\n * Unless required by applicable law or agreed to in writing, software\n * distributed under the License is distributed on an \"AS IS\" BASIS,\n * WITHOUT WARRANTIES OR CONDITIONS OF ANY KIND, either express or implied.\n * See the License for the specific language governing permissions and\n * limitations under the License.\n */\n\nrequire.config({\n    waitSeconds: 60,\n    paths: {\n        'd3': '//cdnjs.cloudflare.com/ajax/libs/d3/4.2.1/d3.min',\n        'topojson': '//cdnjs.cloudflare.com/ajax/libs/topojson/1.6.20/topojson.min',\n        'brunel' : '/data/jupyter2/static-file-content-delivery-network/nbextensions/brunel_ext/brunel.2.3.min',\n        'brunelControls' : '/data/jupyter2/static-file-content-delivery-network/nbextensions/brunel_ext/brunel.controls.2.3.min'\n    },\n    shim: {\n       'brunel' : {\n            exports: 'BrunelD3',\n            deps: ['d3', 'topojson'],\n            init: function() {\n               return {\n                 BrunelD3 : BrunelD3,\n                 BrunelData : BrunelData\n              }\n            }\n        },\n       'brunelControls' : {\n            exports: 'BrunelEventHandlers',\n            init: function() {\n               return {\n                 BrunelEventHandlers: BrunelEventHandlers,\n                 BrunelJQueryControlFactory: BrunelJQueryControlFactory\n              }\n            }\n        }\n\n    }\n\n});\n\nrequire([\"d3\"], function(d3) {\n    require([\"brunel\", \"brunelControls\"], function(brunel, brunelControls) {\n        function  BrunelVis(visId) {\n  \"use strict\";                                                                       // strict mode\n  var datasets = [],                                      // array of datasets for the original data\n      pre = function(d, i) { return d },                         // default pre-process does nothing\n      post = function(d, i) { return d },                       // default post-process does nothing\n      transitionTime = 200,                                        // transition time for animations\n      charts = [],                                                       // the charts in the system\n      vis = d3.select('#' + visId).attr('class', 'brunel');                     // the SVG container\n\n  BrunelD3.addDefinitions(vis);                                   // ensure standard symbols present\n\n  // Define chart #1 in the visualization //////////////////////////////////////////////////////////\n\n  charts[0] = function(parentNode, filterRows) {\n    var geom = BrunelD3.geometry(parentNode || vis.node(), 0, 0, 1, 1, 5, 55, 132, 176),\n      elements = [];                                              // array of elements in this chart\n\n    // Define groups for the chart parts ///////////////////////////////////////////////////////////\n\n    var chart =  vis.append('g').attr('class', 'chart1')\n      .attr('transform','translate(' + geom.chart_left + ',' + geom.chart_top + ')');\n    var overlay = chart.append('g').attr('class', 'element').attr('class', 'overlay');\n    var zoom = d3.zoom().scaleExtent([1/3,3]);\n    var zoomNode = overlay.append('rect').attr('class', 'overlay')\n      .attr('x', geom.inner_left).attr('y', geom.inner_top)\n      .attr('width', geom.inner_rawWidth).attr('height', geom.inner_rawHeight)\n      .style('cursor', 'move').call(zoom)\n      .node();\n    zoomNode.__zoom = d3.zoomIdentity;\n    chart.append('rect').attr('class', 'background').attr('width', geom.chart_right-geom.chart_left).attr('height', geom.chart_bottom-geom.chart_top);\n    var interior = chart.append('g').attr('class', 'interior zoomNone')\n      .attr('transform','translate(' + geom.inner_left + ',' + geom.inner_top + ')')\n      .attr('clip-path', 'url(#clip_visidd0f89c1c-5e60-11ea-b7bc-6fda9e14f743_chart1_inner)');\n    interior.append('rect').attr('class', 'inner').attr('width', geom.inner_width).attr('height', geom.inner_height);\n    var gridGroup = interior.append('g').attr('class', 'grid');\n    var axes = chart.append('g').attr('class', 'axis')\n      .attr('transform','translate(' + geom.inner_left + ',' + geom.inner_top + ')');\n    var legends = chart.append('g').attr('class', 'legend')\n      .attr('transform','translate(' + (geom.chart_right-geom.chart_left - 3) + ',' + 0 + ')');\n    vis.append('clipPath').attr('id', 'clip_visidd0f89c1c-5e60-11ea-b7bc-6fda9e14f743_chart1_inner').append('rect')\n      .attr('x', 0).attr('y', 0)\n      .attr('width', geom.inner_rawWidth+1).attr('height', geom.inner_rawHeight+1);\n\n    // Scales //////////////////////////////////////////////////////////////////////////////////////\n\n    var scale_x = d3.scalePoint().padding(0.5)\n      .domain(['Camping Equipment', 'Golf Equipment', 'Mountaineering Equipment', 'Outdoor Protection', 'Personal Accessories'])\n      .range([0, geom.inner_width]);\n    var scale_inner = d3.scaleLinear().domain([0,1])\n      .range([-0.5, 0.5]);\n    var scale_y = d3.scaleLinear().domain([0, 25000.002])\n      .range([geom.inner_height, 0]);\n    var base_scales = [scale_x, scale_y];                           // untransformed original scales\n\n    // Axes ////////////////////////////////////////////////////////////////////////////////////////\n\n    axes.append('g').attr('class', 'x axis')\n      .attr('transform','translate(0,' + geom.inner_rawHeight + ')')\n      .attr('clip-path', 'url(#clip_visidd0f89c1c-5e60-11ea-b7bc-6fda9e14f743_chart1_haxis)');\n    vis.append('clipPath').attr('id', 'clip_visidd0f89c1c-5e60-11ea-b7bc-6fda9e14f743_chart1_haxis').append('polyline')\n      .attr('points', '-1,-1000, -1,-1 -5,5, -1000,5, -100,1000, 10000,1000 10000,-1000');\n    axes.select('g.axis.x').append('text').attr('class', 'title').text('PRODUCT LINE').style('text-anchor', 'middle')\n      .attr('x',geom.inner_rawWidth/2)\n      .attr('y', geom.inner_bottom - 2.0).attr('dy','-0.27em');\n    axes.append('g').attr('class', 'y axis')\n      .attr('clip-path', 'url(#clip_visidd0f89c1c-5e60-11ea-b7bc-6fda9e14f743_chart1_vaxis)');\n    vis.append('clipPath').attr('id', 'clip_visidd0f89c1c-5e60-11ea-b7bc-6fda9e14f743_chart1_vaxis').append('polyline')\n      .attr('points', '-1000,-10000, 10000,-10000, 10000,' + (geom.inner_rawHeight+1) + ', -1,' + (geom.inner_rawHeight+1) + ', -1,' + (geom.inner_rawHeight+5) + ', -1000,' + (geom.inner_rawHeight+5) );\n\n    var axis_bottom = d3.axisBottom(scale_x).ticks(Math.min(10, Math.round(geom.inner_width / 207.0)));\n    var axis_left = d3.axisLeft(scale_y).ticks(Math.min(10, Math.round(geom.inner_width / 20)));\n\n    function buildAxes(time) {\n      axis_bottom.tickValues(BrunelD3.filterTicks(scale_x))\n      var axis_x = axes.select('g.axis.x');\n      BrunelD3.transition(axis_x, time).call(axis_bottom.scale(scale_x)).selectAll('.tick text')\n        .attr('transform', function() {\n          var v = this.getComputedTextLength() / Math.sqrt(2)/2;\n          return 'translate(-' + (v+6) + ',' + v + ') rotate(-45)'\n      });\n      var axis_y = axes.select('g.axis.y');\n      BrunelD3.transition(axis_y, time).call(axis_left.scale(scale_y));\n    }\n    zoom.on('zoom', function(t, time) {\n        t = t ||BrunelD3.restrictZoom(d3.event.transform, geom, this);\n        scale_y = t.rescaleY(base_scales[1]);\n        zoomNode.__zoom = t;\n        interior.attr('class', 'interior ' + BrunelD3.zoomLabel(t.k));;\n        build(time || -1);\n    });\n\n    // Define element #1 ///////////////////////////////////////////////////////////////////////////\n\n    elements[0] = function() {\n      var original, processed,                           // data sets passed in and then transformed\n        element, data,                                 // brunel element information and brunel data\n        selection, merged;                                      // d3 selection and merged selection\n      var elementGroup = interior.append('g').attr('class', 'element1'),\n        main = elementGroup.append('g').attr('class', 'main'),\n        labels = BrunelD3.undoTransform(elementGroup.append('g').attr('class', 'labels').attr('aria-hidden', 'true'), elementGroup);\n\n      function makeData() {\n        original = datasets[0];\n        if (filterRows) original = original.retainRows(filterRows);\n        processed = pre(original, 0)\n          .summarize('#count=#count:sum; PRODUCT_LINE=PRODUCT_LINE:base');\n        processed = post(processed, 0);\n        var f0 = processed.field('PRODUCT_LINE'),\n          f1 = processed.field('#count'),\n          f2 = processed.field('#row'),\n          f3 = processed.field('#selection');\n        var keyFunc = function(d) { return f0.value(d) };\n        data = {\n          PRODUCT_LINE: function(d) { return f0.value(d.row) },\n          $count:       function(d) { return f1.value(d.row) },\n          $row:         function(d) { return f2.value(d.row) },\n          $selection:   function(d) { return f3.value(d.row) },\n          PRODUCT_LINE_f:function(d) { return f0.valueFormatted(d.row) },\n          $count_f:     function(d) { return f1.valueFormatted(d.row) },\n          $row_f:       function(d) { return f2.valueFormatted(d.row) },\n          $selection_f: function(d) { return f3.valueFormatted(d.row) },\n          _split:       function(d) { return f0.value(d.row) },\n          _key:         keyFunc,\n          _rows:        BrunelD3.makeRowsWithKeys(keyFunc, processed.rowCount())\n        };\n      }\n      // Aesthetic Functions\n      var scale_color = d3.scaleOrdinal()\n        .domain(['Camping Equipment', 'Golf Equipment', 'Mountaineering Equipment', 'Outdoor Protection', 'Personal Accessories'])\n        .range([ '#347DAD', '#D43F58', '#F7D84A', '#31A461', '#A66A9C', '#FF954D', \n          '#A7978E', '#FFCA4D', '#F99EAF', '#B1C43B', '#7E64A2', '#FFB04D', '#CA5C7C', \n          '#DDBC8C', '#FFA28D', '#A5473D', '#8B6141', '#F57357', '#5C6B46']);\n      var color = function(d) { return scale_color(data.PRODUCT_LINE(d)) };\n      legends._legend = legends._legend || { title: ['PRODUCT LINE'], \n        ticks: scale_color.domain()};\n      legends._legend.color = scale_color;\n\n      // Build element from data ///////////////////////////////////////////////////////////////////\n\n      function build(transitionMillis) {\n        element = elements[0];\n        var w = 0.9 * Math.abs(scale_x(scale_x.domain()[1]) - scale_x(scale_x.domain()[0]) );\n        var x = function(d) { return scale_x(data.PRODUCT_LINE(d))};\n        var h = Math.abs( scale_y(scale_y.domain()[0] + 3553.0) - scale_y.range()[0] );\n        var y1 = scale_y.range()[0];\n        var y2 = function(d) { return scale_y(data.$count(d))};\n\n        // Define selection entry operations\n        function initialState(selection) {\n          selection\n            .attr('class', 'element bar filled')\n            .style('pointer-events', 'none')\n        }\n\n        // Define selection update operations on merged data\n        function updateState(selection) {\n          selection\n            .each(function(d) {\n              var width = w, left = x(d) - width/2, \n              c = y1, d = y2(d), top = Math.min(c,d), height = Math.max(1e-6, Math.abs(c-d));\n              this.r = {x:left, y:top, w:width, h:height};\n            })\n            .attr('x', function(d) { return this.r.x })\n            .attr('y', function(d) { return this.r.y })\n            .attr('width', function(d) { return this.r.w })\n            .attr('height', function(d) { return this.r.h })\n            .filter(BrunelD3.hasData)                     // following only performed for data items\n            .style('fill', color);\n        }\n\n        // Define labeling for the selection\n        function label(selection, transitionMillis) {\n        }\n        // Create selections, set the initial state and transition updates\n        selection = main.selectAll('.element').data(data._rows, function(d) { return d.key });\n        var added = selection.enter().append('rect');\n        merged = selection.merge(added);\n        initialState(added);\n        selection.filter(BrunelD3.hasData)\n          .classed('selected', BrunelD3.isSelected(data))\n          .filter(BrunelD3.isSelected(data)).raise();\n        updateState(BrunelD3.transition(merged, transitionMillis));\n\n        BrunelD3.transition(selection.exit(), transitionMillis/3)\n          .style('opacity', 0.5).each( function() {\n            this.remove(); BrunelD3.removeLabels(this); \n        });\n      }\n\n      return {\n        data:           function() { return processed },\n        original:       function() { return original },\n        internal:       function() { return data },\n        selection:      function() { return merged },\n        makeData:       makeData,\n        build:          build,\n        chart:          function() { return charts[0] },\n        group:          function() { return elementGroup },\n        fields: {\n          x:            ['PRODUCT_LINE'],\n          y:            ['#count'],\n          key:          ['PRODUCT_LINE'],\n          color:        ['PRODUCT_LINE']\n        }\n      };\n    }();\n\n    function build(time, noData) {\n      var first = elements[0].data() == null;\n      if (first) time = 0;                                           // no transition for first call\n      buildAxes(time);\n      if ((first || time > -1) && !noData) {\n        elements[0].makeData();\n        BrunelD3.addLegend(legends, legends._legend);\n      }\n      elements[0].build(time);\n    }\n\n    // Expose the following components of the chart\n    return {\n      elements : elements,\n      interior : interior,\n      scales: {x:scale_x, y:scale_y},\n      zoom: function(params, time) {\n          if (params) zoom.on('zoom').call(zoomNode, params, time);\n          return d3.zoomTransform(zoomNode);\n      },\n      build : build\n    };\n    }();\n\n  function setData(rowData, i) { datasets[i||0] = BrunelD3.makeData(rowData) }\n  function updateAll(time) { charts.forEach(function(x) {x.build(time || 0)}) }\n  function buildAll() {\n    for (var i=0;i<arguments.length;i++) setData(arguments[i], i);\n    updateAll(transitionTime);\n  }\n\n  return {\n    dataPreProcess:     function(f) { if (f) pre = f; return pre },\n    dataPostProcess:    function(f) { if (f) post = f; return post },\n    data:               function(d,i) { if (d) setData(d,i); return datasets[i||0] },\n    visId:              visId,\n    build:              buildAll,\n    rebuild:            updateAll,\n    charts:             charts\n  }\n}\n\n// Data Tables /////////////////////////////////////////////////////////////////////////////////////\n\nvar table1 = {\n   summarized: true,\n   names: ['PRODUCT_LINE', '#count'], \n   options: ['string', 'numeric'], \n   rows: [['Camping Equipment', 24056], ['Golf Equipment', 6461],\n  ['Mountaineering Equipment', 10014], ['Outdoor Protection', 2538], ['Personal Accessories', 17183]]\n};\n\n// Call Code to Build the system ///////////////////////////////////////////////////////////////////\n\nvar v  = new BrunelVis('visidd0f89c1c-5e60-11ea-b7bc-6fda9e14f743');\nv.build(table1);\n\n    });\n});",
                        "text/plain": "<IPython.core.display.Javascript object>"
                    },
                    "metadata": {}
                }
            ]
        },
        {
            "metadata": {},
            "cell_type": "markdown",
            "source": "In the plot above we see that `Camping Equipment` is the `PRODUCT_LINE` appraring most often and `Outdoor Protection` the least."
        },
        {
            "metadata": {},
            "cell_type": "markdown",
            "source": "The following three bar plots below represent the distribution of other categorical columns in the dataset: `PROFESSION`, `GENDER`and `MARITAL_STATUS`."
        },
        {
            "metadata": {},
            "cell_type": "code",
            "source": "%brunel data('df_pd') bar x(PROFESSION) y(#count) color(PROFESSION) :: width=600, height=400",
            "execution_count": 8,
            "outputs": [
                {
                    "output_type": "display_data",
                    "data": {
                        "text/html": "<!--\n  ~ Copyright (c) 2015 IBM Corporation and others.\n  ~\n  ~ Licensed under the Apache License, Version 2.0 (the \"License\");\n  ~ You may not use this file except in compliance with the License.\n  ~ You may obtain a copy of the License at\n  ~\n  ~     http://www.apache.org/licenses/LICENSE-2.0\n  ~\n  ~ Unless required by applicable law or agreed to in writing, software\n  ~ distributed under the License is distributed on an \"AS IS\" BASIS,\n  ~ WITHOUT WARRANTIES OR CONDITIONS OF ANY KIND, either express or implied.\n  ~ See the License for the specific language governing permissions and\n  ~ limitations under the License.\n  -->\n\n\n<link rel=\"stylesheet\" type=\"text/css\" href=\"/data/jupyter2/static-file-content-delivery-network/nbextensions/brunel_ext/brunel.2.3.css\">\n<link rel=\"stylesheet\" type=\"text/css\" href=\"/data/jupyter2/static-file-content-delivery-network/nbextensions/brunel_ext/sumoselect.css\">\n\n<style>\n    \n</style>\n\n<div id=\"controlsidd200c2ce-5e60-11ea-b7bc-6fda9e14f743\" class=\"brunel\"/>\n<svg id=\"visidd200c12a-5e60-11ea-b7bc-6fda9e14f743\" width=\"600\" height=\"400\"></svg>",
                        "text/plain": "<IPython.core.display.HTML object>"
                    },
                    "metadata": {}
                },
                {
                    "output_type": "execute_result",
                    "execution_count": 8,
                    "data": {
                        "application/javascript": "/*\n * Copyright (c) 2015 IBM Corporation and others.\n *\n * Licensed under the Apache License, Version 2.0 (the \"License\");\n * You may not use this file except in compliance with the License.\n * You may obtain a copy of the License at\n *\n *     http://www.apache.org/licenses/LICENSE-2.0\n *\n * Unless required by applicable law or agreed to in writing, software\n * distributed under the License is distributed on an \"AS IS\" BASIS,\n * WITHOUT WARRANTIES OR CONDITIONS OF ANY KIND, either express or implied.\n * See the License for the specific language governing permissions and\n * limitations under the License.\n */\n\nrequire.config({\n    waitSeconds: 60,\n    paths: {\n        'd3': '//cdnjs.cloudflare.com/ajax/libs/d3/4.2.1/d3.min',\n        'topojson': '//cdnjs.cloudflare.com/ajax/libs/topojson/1.6.20/topojson.min',\n        'brunel' : '/data/jupyter2/static-file-content-delivery-network/nbextensions/brunel_ext/brunel.2.3.min',\n        'brunelControls' : '/data/jupyter2/static-file-content-delivery-network/nbextensions/brunel_ext/brunel.controls.2.3.min'\n    },\n    shim: {\n       'brunel' : {\n            exports: 'BrunelD3',\n            deps: ['d3', 'topojson'],\n            init: function() {\n               return {\n                 BrunelD3 : BrunelD3,\n                 BrunelData : BrunelData\n              }\n            }\n        },\n       'brunelControls' : {\n            exports: 'BrunelEventHandlers',\n            init: function() {\n               return {\n                 BrunelEventHandlers: BrunelEventHandlers,\n                 BrunelJQueryControlFactory: BrunelJQueryControlFactory\n              }\n            }\n        }\n\n    }\n\n});\n\nrequire([\"d3\"], function(d3) {\n    require([\"brunel\", \"brunelControls\"], function(brunel, brunelControls) {\n        function  BrunelVis(visId) {\n  \"use strict\";                                                                       // strict mode\n  var datasets = [],                                      // array of datasets for the original data\n      pre = function(d, i) { return d },                         // default pre-process does nothing\n      post = function(d, i) { return d },                       // default post-process does nothing\n      transitionTime = 200,                                        // transition time for animations\n      charts = [],                                                       // the charts in the system\n      vis = d3.select('#' + visId).attr('class', 'brunel');                     // the SVG container\n\n  BrunelD3.addDefinitions(vis);                                   // ensure standard symbols present\n\n  // Define chart #1 in the visualization //////////////////////////////////////////////////////////\n\n  charts[0] = function(parentNode, filterRows) {\n    var geom = BrunelD3.geometry(parentNode || vis.node(), 0, 0, 1, 1, 5, 42, 85, 110),\n      elements = [];                                              // array of elements in this chart\n\n    // Define groups for the chart parts ///////////////////////////////////////////////////////////\n\n    var chart =  vis.append('g').attr('class', 'chart1')\n      .attr('transform','translate(' + geom.chart_left + ',' + geom.chart_top + ')');\n    var overlay = chart.append('g').attr('class', 'element').attr('class', 'overlay');\n    var zoom = d3.zoom().scaleExtent([1/3,3]);\n    var zoomNode = overlay.append('rect').attr('class', 'overlay')\n      .attr('x', geom.inner_left).attr('y', geom.inner_top)\n      .attr('width', geom.inner_rawWidth).attr('height', geom.inner_rawHeight)\n      .style('cursor', 'move').call(zoom)\n      .node();\n    zoomNode.__zoom = d3.zoomIdentity;\n    chart.append('rect').attr('class', 'background').attr('width', geom.chart_right-geom.chart_left).attr('height', geom.chart_bottom-geom.chart_top);\n    var interior = chart.append('g').attr('class', 'interior zoomNone')\n      .attr('transform','translate(' + geom.inner_left + ',' + geom.inner_top + ')')\n      .attr('clip-path', 'url(#clip_visidd200c12a-5e60-11ea-b7bc-6fda9e14f743_chart1_inner)');\n    interior.append('rect').attr('class', 'inner').attr('width', geom.inner_width).attr('height', geom.inner_height);\n    var gridGroup = interior.append('g').attr('class', 'grid');\n    var axes = chart.append('g').attr('class', 'axis')\n      .attr('transform','translate(' + geom.inner_left + ',' + geom.inner_top + ')');\n    var legends = chart.append('g').attr('class', 'legend')\n      .attr('transform','translate(' + (geom.chart_right-geom.chart_left - 3) + ',' + 0 + ')');\n    vis.append('clipPath').attr('id', 'clip_visidd200c12a-5e60-11ea-b7bc-6fda9e14f743_chart1_inner').append('rect')\n      .attr('x', 0).attr('y', 0)\n      .attr('width', geom.inner_rawWidth+1).attr('height', geom.inner_rawHeight+1);\n\n    // Scales //////////////////////////////////////////////////////////////////////////////////////\n\n    var scale_x = d3.scalePoint().padding(0.5)\n      .domain(['Executive', 'Hospitality', 'Other', 'Professional', 'Retail', 'Retired', 'Sales', 'Student', 'Trades'])\n      .range([0, geom.inner_width]);\n    var scale_inner = d3.scaleLinear().domain([0,1])\n      .range([-0.5, 0.5]);\n    var scale_y = d3.scaleSqrt().domain([0, 25000.002])\n      .range([geom.inner_height, 0]);\n    var base_scales = [scale_x, scale_y];                           // untransformed original scales\n\n    // Axes ////////////////////////////////////////////////////////////////////////////////////////\n\n    axes.append('g').attr('class', 'x axis')\n      .attr('transform','translate(0,' + geom.inner_rawHeight + ')')\n      .attr('clip-path', 'url(#clip_visidd200c12a-5e60-11ea-b7bc-6fda9e14f743_chart1_haxis)');\n    vis.append('clipPath').attr('id', 'clip_visidd200c12a-5e60-11ea-b7bc-6fda9e14f743_chart1_haxis').append('polyline')\n      .attr('points', '-1,-1000, -1,-1 -5,5, -1000,5, -100,1000, 10000,1000 10000,-1000');\n    axes.select('g.axis.x').append('text').attr('class', 'title').text('PROFESSION').style('text-anchor', 'middle')\n      .attr('x',geom.inner_rawWidth/2)\n      .attr('y', geom.inner_bottom - 2.0).attr('dy','-0.27em');\n    axes.append('g').attr('class', 'y axis')\n      .attr('clip-path', 'url(#clip_visidd200c12a-5e60-11ea-b7bc-6fda9e14f743_chart1_vaxis)');\n    vis.append('clipPath').attr('id', 'clip_visidd200c12a-5e60-11ea-b7bc-6fda9e14f743_chart1_vaxis').append('polyline')\n      .attr('points', '-1000,-10000, 10000,-10000, 10000,' + (geom.inner_rawHeight+1) + ', -1,' + (geom.inner_rawHeight+1) + ', -1,' + (geom.inner_rawHeight+5) + ', -1000,' + (geom.inner_rawHeight+5) );\n\n    var axis_bottom = d3.axisBottom(scale_x).ticks(Math.min(10, Math.round(geom.inner_width / 108.0)));\n    var axis_left = d3.axisLeft(scale_y).ticks(Math.min(10, Math.round(geom.inner_width / 20)));\n\n    function buildAxes(time) {\n      axis_bottom.tickValues(BrunelD3.filterTicks(scale_x))\n      var axis_x = axes.select('g.axis.x');\n      BrunelD3.transition(axis_x, time).call(axis_bottom.scale(scale_x)).selectAll('.tick text')\n        .attr('transform', function() {\n          var v = this.getComputedTextLength() / Math.sqrt(2)/2;\n          return 'translate(-' + (v+6) + ',' + v + ') rotate(-45)'\n      });\n      var axis_y = axes.select('g.axis.y');\n      BrunelD3.transition(axis_y, time).call(axis_left.scale(scale_y));\n    }\n    zoom.on('zoom', function(t, time) {\n        t = t ||BrunelD3.restrictZoom(d3.event.transform, geom, this);\n        scale_y = t.rescaleY(base_scales[1]);\n        zoomNode.__zoom = t;\n        interior.attr('class', 'interior ' + BrunelD3.zoomLabel(t.k));;\n        build(time || -1);\n    });\n\n    // Define element #1 ///////////////////////////////////////////////////////////////////////////\n\n    elements[0] = function() {\n      var original, processed,                           // data sets passed in and then transformed\n        element, data,                                 // brunel element information and brunel data\n        selection, merged;                                      // d3 selection and merged selection\n      var elementGroup = interior.append('g').attr('class', 'element1'),\n        main = elementGroup.append('g').attr('class', 'main'),\n        labels = BrunelD3.undoTransform(elementGroup.append('g').attr('class', 'labels').attr('aria-hidden', 'true'), elementGroup);\n\n      function makeData() {\n        original = datasets[0];\n        if (filterRows) original = original.retainRows(filterRows);\n        processed = pre(original, 0)\n          .summarize('#count=#count:sum; PROFESSION=PROFESSION:base');\n        processed = post(processed, 0);\n        var f0 = processed.field('PROFESSION'),\n          f1 = processed.field('#count'),\n          f2 = processed.field('#row'),\n          f3 = processed.field('#selection');\n        var keyFunc = function(d) { return f0.value(d) };\n        data = {\n          PROFESSION:   function(d) { return f0.value(d.row) },\n          $count:       function(d) { return f1.value(d.row) },\n          $row:         function(d) { return f2.value(d.row) },\n          $selection:   function(d) { return f3.value(d.row) },\n          PROFESSION_f: function(d) { return f0.valueFormatted(d.row) },\n          $count_f:     function(d) { return f1.valueFormatted(d.row) },\n          $row_f:       function(d) { return f2.valueFormatted(d.row) },\n          $selection_f: function(d) { return f3.valueFormatted(d.row) },\n          _split:       function(d) { return f0.value(d.row) },\n          _key:         keyFunc,\n          _rows:        BrunelD3.makeRowsWithKeys(keyFunc, processed.rowCount())\n        };\n      }\n      // Aesthetic Functions\n      var scale_color = d3.scaleOrdinal()\n        .domain(['Executive', 'Hospitality', 'Other', 'Professional', 'Retail', 'Retired', 'Sales', 'Student', 'Trades'])\n        .range([ '#347DAD', '#D43F58', '#F7D84A', '#31A461', '#A66A9C', '#FF954D', \n          '#A7978E', '#FFCA4D', '#F99EAF', '#B1C43B', '#7E64A2', '#FFB04D', '#CA5C7C', \n          '#DDBC8C', '#FFA28D', '#A5473D', '#8B6141', '#F57357', '#5C6B46']);\n      var color = function(d) { return scale_color(data.PROFESSION(d)) };\n      legends._legend = legends._legend || { title: ['PROFESSION'], \n        ticks: scale_color.domain()};\n      legends._legend.color = scale_color;\n\n      // Build element from data ///////////////////////////////////////////////////////////////////\n\n      function build(transitionMillis) {\n        element = elements[0];\n        var w = 0.9 * Math.abs(scale_x(scale_x.domain()[1]) - scale_x(scale_x.domain()[0]) );\n        var x = function(d) { return scale_x(data.PROFESSION(d))};\n        var h = geom.default_point_size;\n        var y1 = scale_y.range()[0];\n        var y2 = function(d) { return scale_y(data.$count(d))};\n\n        // Define selection entry operations\n        function initialState(selection) {\n          selection\n            .attr('class', 'element bar filled')\n            .style('pointer-events', 'none')\n        }\n\n        // Define selection update operations on merged data\n        function updateState(selection) {\n          selection\n            .each(function(d) {\n              var width = w, left = x(d) - width/2, \n              c = y1, d = y2(d), top = Math.min(c,d), height = Math.max(1e-6, Math.abs(c-d));\n              this.r = {x:left, y:top, w:width, h:height};\n            })\n            .attr('x', function(d) { return this.r.x })\n            .attr('y', function(d) { return this.r.y })\n            .attr('width', function(d) { return this.r.w })\n            .attr('height', function(d) { return this.r.h })\n            .filter(BrunelD3.hasData)                     // following only performed for data items\n            .style('fill', color);\n        }\n\n        // Define labeling for the selection\n        function label(selection, transitionMillis) {\n        }\n        // Create selections, set the initial state and transition updates\n        selection = main.selectAll('.element').data(data._rows, function(d) { return d.key });\n        var added = selection.enter().append('rect');\n        merged = selection.merge(added);\n        initialState(added);\n        selection.filter(BrunelD3.hasData)\n          .classed('selected', BrunelD3.isSelected(data))\n          .filter(BrunelD3.isSelected(data)).raise();\n        updateState(BrunelD3.transition(merged, transitionMillis));\n\n        BrunelD3.transition(selection.exit(), transitionMillis/3)\n          .style('opacity', 0.5).each( function() {\n            this.remove(); BrunelD3.removeLabels(this); \n        });\n      }\n\n      return {\n        data:           function() { return processed },\n        original:       function() { return original },\n        internal:       function() { return data },\n        selection:      function() { return merged },\n        makeData:       makeData,\n        build:          build,\n        chart:          function() { return charts[0] },\n        group:          function() { return elementGroup },\n        fields: {\n          x:            ['PROFESSION'],\n          y:            ['#count'],\n          key:          ['PROFESSION'],\n          color:        ['PROFESSION']\n        }\n      };\n    }();\n\n    function build(time, noData) {\n      var first = elements[0].data() == null;\n      if (first) time = 0;                                           // no transition for first call\n      buildAxes(time);\n      if ((first || time > -1) && !noData) {\n        elements[0].makeData();\n        BrunelD3.addLegend(legends, legends._legend);\n      }\n      elements[0].build(time);\n    }\n\n    // Expose the following components of the chart\n    return {\n      elements : elements,\n      interior : interior,\n      scales: {x:scale_x, y:scale_y},\n      zoom: function(params, time) {\n          if (params) zoom.on('zoom').call(zoomNode, params, time);\n          return d3.zoomTransform(zoomNode);\n      },\n      build : build\n    };\n    }();\n\n  function setData(rowData, i) { datasets[i||0] = BrunelD3.makeData(rowData) }\n  function updateAll(time) { charts.forEach(function(x) {x.build(time || 0)}) }\n  function buildAll() {\n    for (var i=0;i<arguments.length;i++) setData(arguments[i], i);\n    updateAll(transitionTime);\n  }\n\n  return {\n    dataPreProcess:     function(f) { if (f) pre = f; return pre },\n    dataPostProcess:    function(f) { if (f) post = f; return post },\n    data:               function(d,i) { if (d) setData(d,i); return datasets[i||0] },\n    visId:              visId,\n    build:              buildAll,\n    rebuild:            updateAll,\n    charts:             charts\n  }\n}\n\n// Data Tables /////////////////////////////////////////////////////////////////////////////////////\n\nvar table1 = {\n   summarized: true,\n   names: ['PROFESSION', '#count'], \n   options: ['string', 'numeric'], \n   rows: [['Executive', 5871], ['Hospitality', 3311], ['Other', 24503], ['Professional', 8938],\n  ['Retail', 2785], ['Retired', 1183], ['Sales', 6708], ['Student', 2945], ['Trades', 4008]]\n};\n\n// Call Code to Build the system ///////////////////////////////////////////////////////////////////\n\nvar v  = new BrunelVis('visidd200c12a-5e60-11ea-b7bc-6fda9e14f743');\nv.build(table1);\n\n    });\n});",
                        "text/plain": "<IPython.core.display.Javascript object>"
                    },
                    "metadata": {}
                }
            ]
        },
        {
            "metadata": {
                "scrolled": false
            },
            "cell_type": "code",
            "source": "%brunel data('df_pd') bar x(MARITAL_STATUS) y(#count) color(MARITAL_STATUS) :: width=600, height=400",
            "execution_count": 9,
            "outputs": [
                {
                    "output_type": "display_data",
                    "data": {
                        "text/html": "<!--\n  ~ Copyright (c) 2015 IBM Corporation and others.\n  ~\n  ~ Licensed under the Apache License, Version 2.0 (the \"License\");\n  ~ You may not use this file except in compliance with the License.\n  ~ You may obtain a copy of the License at\n  ~\n  ~     http://www.apache.org/licenses/LICENSE-2.0\n  ~\n  ~ Unless required by applicable law or agreed to in writing, software\n  ~ distributed under the License is distributed on an \"AS IS\" BASIS,\n  ~ WITHOUT WARRANTIES OR CONDITIONS OF ANY KIND, either express or implied.\n  ~ See the License for the specific language governing permissions and\n  ~ limitations under the License.\n  -->\n\n\n<link rel=\"stylesheet\" type=\"text/css\" href=\"/data/jupyter2/static-file-content-delivery-network/nbextensions/brunel_ext/brunel.2.3.css\">\n<link rel=\"stylesheet\" type=\"text/css\" href=\"/data/jupyter2/static-file-content-delivery-network/nbextensions/brunel_ext/sumoselect.css\">\n\n<style>\n    \n</style>\n\n<div id=\"controlsidd2c1c4ba-5e60-11ea-b7bc-6fda9e14f743\" class=\"brunel\"/>\n<svg id=\"visidd2c1c302-5e60-11ea-b7bc-6fda9e14f743\" width=\"600\" height=\"400\"></svg>",
                        "text/plain": "<IPython.core.display.HTML object>"
                    },
                    "metadata": {}
                },
                {
                    "output_type": "execute_result",
                    "execution_count": 9,
                    "data": {
                        "application/javascript": "/*\n * Copyright (c) 2015 IBM Corporation and others.\n *\n * Licensed under the Apache License, Version 2.0 (the \"License\");\n * You may not use this file except in compliance with the License.\n * You may obtain a copy of the License at\n *\n *     http://www.apache.org/licenses/LICENSE-2.0\n *\n * Unless required by applicable law or agreed to in writing, software\n * distributed under the License is distributed on an \"AS IS\" BASIS,\n * WITHOUT WARRANTIES OR CONDITIONS OF ANY KIND, either express or implied.\n * See the License for the specific language governing permissions and\n * limitations under the License.\n */\n\nrequire.config({\n    waitSeconds: 60,\n    paths: {\n        'd3': '//cdnjs.cloudflare.com/ajax/libs/d3/4.2.1/d3.min',\n        'topojson': '//cdnjs.cloudflare.com/ajax/libs/topojson/1.6.20/topojson.min',\n        'brunel' : '/data/jupyter2/static-file-content-delivery-network/nbextensions/brunel_ext/brunel.2.3.min',\n        'brunelControls' : '/data/jupyter2/static-file-content-delivery-network/nbextensions/brunel_ext/brunel.controls.2.3.min'\n    },\n    shim: {\n       'brunel' : {\n            exports: 'BrunelD3',\n            deps: ['d3', 'topojson'],\n            init: function() {\n               return {\n                 BrunelD3 : BrunelD3,\n                 BrunelData : BrunelData\n              }\n            }\n        },\n       'brunelControls' : {\n            exports: 'BrunelEventHandlers',\n            init: function() {\n               return {\n                 BrunelEventHandlers: BrunelEventHandlers,\n                 BrunelJQueryControlFactory: BrunelJQueryControlFactory\n              }\n            }\n        }\n\n    }\n\n});\n\nrequire([\"d3\"], function(d3) {\n    require([\"brunel\", \"brunelControls\"], function(brunel, brunelControls) {\n        function  BrunelVis(visId) {\n  \"use strict\";                                                                       // strict mode\n  var datasets = [],                                      // array of datasets for the original data\n      pre = function(d, i) { return d },                         // default pre-process does nothing\n      post = function(d, i) { return d },                       // default post-process does nothing\n      transitionTime = 200,                                        // transition time for animations\n      charts = [],                                                       // the charts in the system\n      vis = d3.select('#' + visId).attr('class', 'brunel');                     // the SVG container\n\n  BrunelD3.addDefinitions(vis);                                   // ensure standard symbols present\n\n  // Define chart #1 in the visualization //////////////////////////////////////////////////////////\n\n  charts[0] = function(parentNode, filterRows) {\n    var geom = BrunelD3.geometry(parentNode || vis.node(), 0, 0, 1, 1, 5, 42, 37, 104),\n      elements = [];                                              // array of elements in this chart\n\n    // Define groups for the chart parts ///////////////////////////////////////////////////////////\n\n    var chart =  vis.append('g').attr('class', 'chart1')\n      .attr('transform','translate(' + geom.chart_left + ',' + geom.chart_top + ')');\n    var overlay = chart.append('g').attr('class', 'element').attr('class', 'overlay');\n    var zoom = d3.zoom().scaleExtent([1/3,3]);\n    var zoomNode = overlay.append('rect').attr('class', 'overlay')\n      .attr('x', geom.inner_left).attr('y', geom.inner_top)\n      .attr('width', geom.inner_rawWidth).attr('height', geom.inner_rawHeight)\n      .style('cursor', 'move').call(zoom)\n      .node();\n    zoomNode.__zoom = d3.zoomIdentity;\n    chart.append('rect').attr('class', 'background').attr('width', geom.chart_right-geom.chart_left).attr('height', geom.chart_bottom-geom.chart_top);\n    var interior = chart.append('g').attr('class', 'interior zoomNone')\n      .attr('transform','translate(' + geom.inner_left + ',' + geom.inner_top + ')')\n      .attr('clip-path', 'url(#clip_visidd2c1c302-5e60-11ea-b7bc-6fda9e14f743_chart1_inner)');\n    interior.append('rect').attr('class', 'inner').attr('width', geom.inner_width).attr('height', geom.inner_height);\n    var gridGroup = interior.append('g').attr('class', 'grid');\n    var axes = chart.append('g').attr('class', 'axis')\n      .attr('transform','translate(' + geom.inner_left + ',' + geom.inner_top + ')');\n    var legends = chart.append('g').attr('class', 'legend')\n      .attr('transform','translate(' + (geom.chart_right-geom.chart_left - 3) + ',' + 0 + ')');\n    vis.append('clipPath').attr('id', 'clip_visidd2c1c302-5e60-11ea-b7bc-6fda9e14f743_chart1_inner').append('rect')\n      .attr('x', 0).attr('y', 0)\n      .attr('width', geom.inner_rawWidth+1).attr('height', geom.inner_rawHeight+1);\n\n    // Scales //////////////////////////////////////////////////////////////////////////////////////\n\n    var scale_x = d3.scalePoint().padding(0.5)\n      .domain(['Married', 'Single', 'Unspecified'])\n      .range([0, geom.inner_width]);\n    var scale_inner = d3.scaleLinear().domain([0,1])\n      .range([-0.5, 0.5]);\n    var scale_y = d3.scaleLinear().domain([0, 35000.003])\n      .range([geom.inner_height, 0]);\n    var base_scales = [scale_x, scale_y];                           // untransformed original scales\n\n    // Axes ////////////////////////////////////////////////////////////////////////////////////////\n\n    axes.append('g').attr('class', 'x axis')\n      .attr('transform','translate(0,' + geom.inner_rawHeight + ')')\n      .attr('clip-path', 'url(#clip_visidd2c1c302-5e60-11ea-b7bc-6fda9e14f743_chart1_haxis)');\n    vis.append('clipPath').attr('id', 'clip_visidd2c1c302-5e60-11ea-b7bc-6fda9e14f743_chart1_haxis').append('polyline')\n      .attr('points', '-1,-1000, -1,-1 -5,5, -1000,5, -100,1000, 10000,1000 10000,-1000');\n    axes.select('g.axis.x').append('text').attr('class', 'title').text('MARITAL STATUS').style('text-anchor', 'middle')\n      .attr('x',geom.inner_rawWidth/2)\n      .attr('y', geom.inner_bottom - 2.0).attr('dy','-0.27em');\n    axes.append('g').attr('class', 'y axis')\n      .attr('clip-path', 'url(#clip_visidd2c1c302-5e60-11ea-b7bc-6fda9e14f743_chart1_vaxis)');\n    vis.append('clipPath').attr('id', 'clip_visidd2c1c302-5e60-11ea-b7bc-6fda9e14f743_chart1_vaxis').append('polyline')\n      .attr('points', '-1000,-10000, 10000,-10000, 10000,' + (geom.inner_rawHeight+1) + ', -1,' + (geom.inner_rawHeight+1) + ', -1,' + (geom.inner_rawHeight+5) + ', -1000,' + (geom.inner_rawHeight+5) );\n\n    var axis_bottom = d3.axisBottom(scale_x).ticks(Math.min(10, Math.round(geom.inner_width / 99.0)));\n    var axis_left = d3.axisLeft(scale_y).ticks(Math.min(10, Math.round(geom.inner_width / 20)));\n\n    function buildAxes(time) {\n      axis_bottom.tickValues(BrunelD3.filterTicks(scale_x))\n      var axis_x = axes.select('g.axis.x');\n      BrunelD3.transition(axis_x, time).call(axis_bottom.scale(scale_x));\n      var axis_y = axes.select('g.axis.y');\n      BrunelD3.transition(axis_y, time).call(axis_left.scale(scale_y));\n    }\n    zoom.on('zoom', function(t, time) {\n        t = t ||BrunelD3.restrictZoom(d3.event.transform, geom, this);\n        scale_y = t.rescaleY(base_scales[1]);\n        zoomNode.__zoom = t;\n        interior.attr('class', 'interior ' + BrunelD3.zoomLabel(t.k));;\n        build(time || -1);\n    });\n\n    // Define element #1 ///////////////////////////////////////////////////////////////////////////\n\n    elements[0] = function() {\n      var original, processed,                           // data sets passed in and then transformed\n        element, data,                                 // brunel element information and brunel data\n        selection, merged;                                      // d3 selection and merged selection\n      var elementGroup = interior.append('g').attr('class', 'element1'),\n        main = elementGroup.append('g').attr('class', 'main'),\n        labels = BrunelD3.undoTransform(elementGroup.append('g').attr('class', 'labels').attr('aria-hidden', 'true'), elementGroup);\n\n      function makeData() {\n        original = datasets[0];\n        if (filterRows) original = original.retainRows(filterRows);\n        processed = pre(original, 0)\n          .summarize('#count=#count:sum; MARITAL_STATUS=MARITAL_STATUS:base');\n        processed = post(processed, 0);\n        var f0 = processed.field('MARITAL_STATUS'),\n          f1 = processed.field('#count'),\n          f2 = processed.field('#row'),\n          f3 = processed.field('#selection');\n        var keyFunc = function(d) { return f0.value(d) };\n        data = {\n          MARITAL_STATUS:function(d) { return f0.value(d.row) },\n          $count:       function(d) { return f1.value(d.row) },\n          $row:         function(d) { return f2.value(d.row) },\n          $selection:   function(d) { return f3.value(d.row) },\n          MARITAL_STATUS_f:function(d) { return f0.valueFormatted(d.row) },\n          $count_f:     function(d) { return f1.valueFormatted(d.row) },\n          $row_f:       function(d) { return f2.valueFormatted(d.row) },\n          $selection_f: function(d) { return f3.valueFormatted(d.row) },\n          _split:       function(d) { return f0.value(d.row) },\n          _key:         keyFunc,\n          _rows:        BrunelD3.makeRowsWithKeys(keyFunc, processed.rowCount())\n        };\n      }\n      // Aesthetic Functions\n      var scale_color = d3.scaleOrdinal()\n        .domain(['Married', 'Single', 'Unspecified'])\n        .range([ '#347DAD', '#D43F58', '#F7D84A', '#31A461', '#A66A9C', '#FF954D', \n          '#A7978E', '#FFCA4D', '#F99EAF', '#B1C43B', '#7E64A2', '#FFB04D', '#CA5C7C', \n          '#DDBC8C', '#FFA28D', '#A5473D', '#8B6141', '#F57357', '#5C6B46']);\n      var color = function(d) { return scale_color(data.MARITAL_STATUS(d)) };\n      legends._legend = legends._legend || { title: ['MARITAL STATUS'], \n        ticks: scale_color.domain()};\n      legends._legend.color = scale_color;\n\n      // Build element from data ///////////////////////////////////////////////////////////////////\n\n      function build(transitionMillis) {\n        element = elements[0];\n        var w = 0.9 * Math.abs(scale_x(scale_x.domain()[1]) - scale_x(scale_x.domain()[0]) );\n        var x = function(d) { return scale_x(data.MARITAL_STATUS(d))};\n        var h = Math.abs( scale_y(scale_y.domain()[0] + 6230.0) - scale_y.range()[0] );\n        var y1 = scale_y.range()[0];\n        var y2 = function(d) { return scale_y(data.$count(d))};\n\n        // Define selection entry operations\n        function initialState(selection) {\n          selection\n            .attr('class', 'element bar filled')\n            .style('pointer-events', 'none')\n        }\n\n        // Define selection update operations on merged data\n        function updateState(selection) {\n          selection\n            .each(function(d) {\n              var width = w, left = x(d) - width/2, \n              c = y1, d = y2(d), top = Math.min(c,d), height = Math.max(1e-6, Math.abs(c-d));\n              this.r = {x:left, y:top, w:width, h:height};\n            })\n            .attr('x', function(d) { return this.r.x })\n            .attr('y', function(d) { return this.r.y })\n            .attr('width', function(d) { return this.r.w })\n            .attr('height', function(d) { return this.r.h })\n            .filter(BrunelD3.hasData)                     // following only performed for data items\n            .style('fill', color);\n        }\n\n        // Define labeling for the selection\n        function label(selection, transitionMillis) {\n        }\n        // Create selections, set the initial state and transition updates\n        selection = main.selectAll('.element').data(data._rows, function(d) { return d.key });\n        var added = selection.enter().append('rect');\n        merged = selection.merge(added);\n        initialState(added);\n        selection.filter(BrunelD3.hasData)\n          .classed('selected', BrunelD3.isSelected(data))\n          .filter(BrunelD3.isSelected(data)).raise();\n        updateState(BrunelD3.transition(merged, transitionMillis));\n\n        BrunelD3.transition(selection.exit(), transitionMillis/3)\n          .style('opacity', 0.5).each( function() {\n            this.remove(); BrunelD3.removeLabels(this); \n        });\n      }\n\n      return {\n        data:           function() { return processed },\n        original:       function() { return original },\n        internal:       function() { return data },\n        selection:      function() { return merged },\n        makeData:       makeData,\n        build:          build,\n        chart:          function() { return charts[0] },\n        group:          function() { return elementGroup },\n        fields: {\n          x:            ['MARITAL_STATUS'],\n          y:            ['#count'],\n          key:          ['MARITAL_STATUS'],\n          color:        ['MARITAL_STATUS']\n        }\n      };\n    }();\n\n    function build(time, noData) {\n      var first = elements[0].data() == null;\n      if (first) time = 0;                                           // no transition for first call\n      buildAxes(time);\n      if ((first || time > -1) && !noData) {\n        elements[0].makeData();\n        BrunelD3.addLegend(legends, legends._legend);\n      }\n      elements[0].build(time);\n    }\n\n    // Expose the following components of the chart\n    return {\n      elements : elements,\n      interior : interior,\n      scales: {x:scale_x, y:scale_y},\n      zoom: function(params, time) {\n          if (params) zoom.on('zoom').call(zoomNode, params, time);\n          return d3.zoomTransform(zoomNode);\n      },\n      build : build\n    };\n    }();\n\n  function setData(rowData, i) { datasets[i||0] = BrunelD3.makeData(rowData) }\n  function updateAll(time) { charts.forEach(function(x) {x.build(time || 0)}) }\n  function buildAll() {\n    for (var i=0;i<arguments.length;i++) setData(arguments[i], i);\n    updateAll(transitionTime);\n  }\n\n  return {\n    dataPreProcess:     function(f) { if (f) pre = f; return pre },\n    dataPostProcess:    function(f) { if (f) post = f; return post },\n    data:               function(d,i) { if (d) setData(d,i); return datasets[i||0] },\n    visId:              visId,\n    build:              buildAll,\n    rebuild:            updateAll,\n    charts:             charts\n  }\n}\n\n// Data Tables /////////////////////////////////////////////////////////////////////////////////////\n\nvar table1 = {\n   summarized: true,\n   names: ['MARITAL_STATUS', '#count'], \n   options: ['string', 'numeric'], \n   rows: [['Married', 30779], ['Single', 24549], ['Unspecified', 4924]]\n};\n\n// Call Code to Build the system ///////////////////////////////////////////////////////////////////\n\nvar v  = new BrunelVis('visidd2c1c302-5e60-11ea-b7bc-6fda9e14f743');\nv.build(table1);\n\n    });\n});",
                        "text/plain": "<IPython.core.display.Javascript object>"
                    },
                    "metadata": {}
                }
            ]
        },
        {
            "metadata": {},
            "cell_type": "code",
            "source": "%brunel data('df_pd') bar x(GENDER) y(#count) color(GENDER) :: width=600, height=400",
            "execution_count": 10,
            "outputs": [
                {
                    "output_type": "display_data",
                    "data": {
                        "text/html": "<!--\n  ~ Copyright (c) 2015 IBM Corporation and others.\n  ~\n  ~ Licensed under the Apache License, Version 2.0 (the \"License\");\n  ~ You may not use this file except in compliance with the License.\n  ~ You may obtain a copy of the License at\n  ~\n  ~     http://www.apache.org/licenses/LICENSE-2.0\n  ~\n  ~ Unless required by applicable law or agreed to in writing, software\n  ~ distributed under the License is distributed on an \"AS IS\" BASIS,\n  ~ WITHOUT WARRANTIES OR CONDITIONS OF ANY KIND, either express or implied.\n  ~ See the License for the specific language governing permissions and\n  ~ limitations under the License.\n  -->\n\n\n<link rel=\"stylesheet\" type=\"text/css\" href=\"/data/jupyter2/static-file-content-delivery-network/nbextensions/brunel_ext/brunel.2.3.css\">\n<link rel=\"stylesheet\" type=\"text/css\" href=\"/data/jupyter2/static-file-content-delivery-network/nbextensions/brunel_ext/sumoselect.css\">\n\n<style>\n    \n</style>\n\n<div id=\"controlsidd3703c5c-5e60-11ea-b7bc-6fda9e14f743\" class=\"brunel\"/>\n<svg id=\"visidd3703ad6-5e60-11ea-b7bc-6fda9e14f743\" width=\"600\" height=\"400\"></svg>",
                        "text/plain": "<IPython.core.display.HTML object>"
                    },
                    "metadata": {}
                },
                {
                    "output_type": "execute_result",
                    "execution_count": 10,
                    "data": {
                        "application/javascript": "/*\n * Copyright (c) 2015 IBM Corporation and others.\n *\n * Licensed under the Apache License, Version 2.0 (the \"License\");\n * You may not use this file except in compliance with the License.\n * You may obtain a copy of the License at\n *\n *     http://www.apache.org/licenses/LICENSE-2.0\n *\n * Unless required by applicable law or agreed to in writing, software\n * distributed under the License is distributed on an \"AS IS\" BASIS,\n * WITHOUT WARRANTIES OR CONDITIONS OF ANY KIND, either express or implied.\n * See the License for the specific language governing permissions and\n * limitations under the License.\n */\n\nrequire.config({\n    waitSeconds: 60,\n    paths: {\n        'd3': '//cdnjs.cloudflare.com/ajax/libs/d3/4.2.1/d3.min',\n        'topojson': '//cdnjs.cloudflare.com/ajax/libs/topojson/1.6.20/topojson.min',\n        'brunel' : '/data/jupyter2/static-file-content-delivery-network/nbextensions/brunel_ext/brunel.2.3.min',\n        'brunelControls' : '/data/jupyter2/static-file-content-delivery-network/nbextensions/brunel_ext/brunel.controls.2.3.min'\n    },\n    shim: {\n       'brunel' : {\n            exports: 'BrunelD3',\n            deps: ['d3', 'topojson'],\n            init: function() {\n               return {\n                 BrunelD3 : BrunelD3,\n                 BrunelData : BrunelData\n              }\n            }\n        },\n       'brunelControls' : {\n            exports: 'BrunelEventHandlers',\n            init: function() {\n               return {\n                 BrunelEventHandlers: BrunelEventHandlers,\n                 BrunelJQueryControlFactory: BrunelJQueryControlFactory\n              }\n            }\n        }\n\n    }\n\n});\n\nrequire([\"d3\"], function(d3) {\n    require([\"brunel\", \"brunelControls\"], function(brunel, brunelControls) {\n        function  BrunelVis(visId) {\n  \"use strict\";                                                                       // strict mode\n  var datasets = [],                                      // array of datasets for the original data\n      pre = function(d, i) { return d },                         // default pre-process does nothing\n      post = function(d, i) { return d },                       // default post-process does nothing\n      transitionTime = 200,                                        // transition time for animations\n      charts = [],                                                       // the charts in the system\n      vis = d3.select('#' + visId).attr('class', 'brunel');                     // the SVG container\n\n  BrunelD3.addDefinitions(vis);                                   // ensure standard symbols present\n\n  // Define chart #1 in the visualization //////////////////////////////////////////////////////////\n\n  charts[0] = function(parentNode, filterRows) {\n    var geom = BrunelD3.geometry(parentNode || vis.node(), 0, 0, 1, 1, 5, 42, 37, 49),\n      elements = [];                                              // array of elements in this chart\n\n    // Define groups for the chart parts ///////////////////////////////////////////////////////////\n\n    var chart =  vis.append('g').attr('class', 'chart1')\n      .attr('transform','translate(' + geom.chart_left + ',' + geom.chart_top + ')');\n    var overlay = chart.append('g').attr('class', 'element').attr('class', 'overlay');\n    var zoom = d3.zoom().scaleExtent([1/3,3]);\n    var zoomNode = overlay.append('rect').attr('class', 'overlay')\n      .attr('x', geom.inner_left).attr('y', geom.inner_top)\n      .attr('width', geom.inner_rawWidth).attr('height', geom.inner_rawHeight)\n      .style('cursor', 'move').call(zoom)\n      .node();\n    zoomNode.__zoom = d3.zoomIdentity;\n    chart.append('rect').attr('class', 'background').attr('width', geom.chart_right-geom.chart_left).attr('height', geom.chart_bottom-geom.chart_top);\n    var interior = chart.append('g').attr('class', 'interior zoomNone')\n      .attr('transform','translate(' + geom.inner_left + ',' + geom.inner_top + ')')\n      .attr('clip-path', 'url(#clip_visidd3703ad6-5e60-11ea-b7bc-6fda9e14f743_chart1_inner)');\n    interior.append('rect').attr('class', 'inner').attr('width', geom.inner_width).attr('height', geom.inner_height);\n    var gridGroup = interior.append('g').attr('class', 'grid');\n    var axes = chart.append('g').attr('class', 'axis')\n      .attr('transform','translate(' + geom.inner_left + ',' + geom.inner_top + ')');\n    var legends = chart.append('g').attr('class', 'legend')\n      .attr('transform','translate(' + (geom.chart_right-geom.chart_left - 3) + ',' + 0 + ')');\n    vis.append('clipPath').attr('id', 'clip_visidd3703ad6-5e60-11ea-b7bc-6fda9e14f743_chart1_inner').append('rect')\n      .attr('x', 0).attr('y', 0)\n      .attr('width', geom.inner_rawWidth+1).attr('height', geom.inner_rawHeight+1);\n\n    // Scales //////////////////////////////////////////////////////////////////////////////////////\n\n    var scale_x = d3.scalePoint().padding(0.5)\n      .domain(['F', 'M'])\n      .range([0, geom.inner_width]);\n    var scale_inner = d3.scaleLinear().domain([0,1])\n      .range([-0.5, 0.5]);\n    var scale_y = d3.scaleLinear().domain([0, 35000.003])\n      .range([geom.inner_height, 0]);\n    var base_scales = [scale_x, scale_y];                           // untransformed original scales\n\n    // Axes ////////////////////////////////////////////////////////////////////////////////////////\n\n    axes.append('g').attr('class', 'x axis')\n      .attr('transform','translate(0,' + geom.inner_rawHeight + ')')\n      .attr('clip-path', 'url(#clip_visidd3703ad6-5e60-11ea-b7bc-6fda9e14f743_chart1_haxis)');\n    vis.append('clipPath').attr('id', 'clip_visidd3703ad6-5e60-11ea-b7bc-6fda9e14f743_chart1_haxis').append('polyline')\n      .attr('points', '-1,-1000, -1,-1 -5,5, -1000,5, -100,1000, 10000,1000 10000,-1000');\n    axes.select('g.axis.x').append('text').attr('class', 'title').text('GENDER').style('text-anchor', 'middle')\n      .attr('x',geom.inner_rawWidth/2)\n      .attr('y', geom.inner_bottom - 2.0).attr('dy','-0.27em');\n    axes.append('g').attr('class', 'y axis')\n      .attr('clip-path', 'url(#clip_visidd3703ad6-5e60-11ea-b7bc-6fda9e14f743_chart1_vaxis)');\n    vis.append('clipPath').attr('id', 'clip_visidd3703ad6-5e60-11ea-b7bc-6fda9e14f743_chart1_vaxis').append('polyline')\n      .attr('points', '-1000,-10000, 10000,-10000, 10000,' + (geom.inner_rawHeight+1) + ', -1,' + (geom.inner_rawHeight+1) + ', -1,' + (geom.inner_rawHeight+5) + ', -1000,' + (geom.inner_rawHeight+5) );\n\n    var axis_bottom = d3.axisBottom(scale_x).ticks(Math.min(10, Math.round(geom.inner_width / 16.5)));\n    var axis_left = d3.axisLeft(scale_y).ticks(Math.min(10, Math.round(geom.inner_width / 20)));\n\n    function buildAxes(time) {\n      axis_bottom.tickValues(BrunelD3.filterTicks(scale_x))\n      var axis_x = axes.select('g.axis.x');\n      BrunelD3.transition(axis_x, time).call(axis_bottom.scale(scale_x));\n      var axis_y = axes.select('g.axis.y');\n      BrunelD3.transition(axis_y, time).call(axis_left.scale(scale_y));\n    }\n    zoom.on('zoom', function(t, time) {\n        t = t ||BrunelD3.restrictZoom(d3.event.transform, geom, this);\n        scale_y = t.rescaleY(base_scales[1]);\n        zoomNode.__zoom = t;\n        interior.attr('class', 'interior ' + BrunelD3.zoomLabel(t.k));;\n        build(time || -1);\n    });\n\n    // Define element #1 ///////////////////////////////////////////////////////////////////////////\n\n    elements[0] = function() {\n      var original, processed,                           // data sets passed in and then transformed\n        element, data,                                 // brunel element information and brunel data\n        selection, merged;                                      // d3 selection and merged selection\n      var elementGroup = interior.append('g').attr('class', 'element1'),\n        main = elementGroup.append('g').attr('class', 'main'),\n        labels = BrunelD3.undoTransform(elementGroup.append('g').attr('class', 'labels').attr('aria-hidden', 'true'), elementGroup);\n\n      function makeData() {\n        original = datasets[0];\n        if (filterRows) original = original.retainRows(filterRows);\n        processed = pre(original, 0)\n          .summarize('#count=#count:sum; GENDER=GENDER:base');\n        processed = post(processed, 0);\n        var f0 = processed.field('GENDER'),\n          f1 = processed.field('#count'),\n          f2 = processed.field('#row'),\n          f3 = processed.field('#selection');\n        var keyFunc = function(d) { return f0.value(d) };\n        data = {\n          GENDER:       function(d) { return f0.value(d.row) },\n          $count:       function(d) { return f1.value(d.row) },\n          $row:         function(d) { return f2.value(d.row) },\n          $selection:   function(d) { return f3.value(d.row) },\n          GENDER_f:     function(d) { return f0.valueFormatted(d.row) },\n          $count_f:     function(d) { return f1.valueFormatted(d.row) },\n          $row_f:       function(d) { return f2.valueFormatted(d.row) },\n          $selection_f: function(d) { return f3.valueFormatted(d.row) },\n          _split:       function(d) { return f0.value(d.row) },\n          _key:         keyFunc,\n          _rows:        BrunelD3.makeRowsWithKeys(keyFunc, processed.rowCount())\n        };\n      }\n      // Aesthetic Functions\n      var scale_color = d3.scaleOrdinal()\n        .domain(['F', 'M'])\n        .range([ '#347DAD', '#D43F58', '#F7D84A', '#31A461', '#A66A9C', '#FF954D', \n          '#A7978E', '#FFCA4D', '#F99EAF', '#B1C43B', '#7E64A2', '#FFB04D', '#CA5C7C', \n          '#DDBC8C', '#FFA28D', '#A5473D', '#8B6141', '#F57357', '#5C6B46']);\n      var color = function(d) { return scale_color(data.GENDER(d)) };\n      legends._legend = legends._legend || { title: ['GENDER'], \n        ticks: scale_color.domain()};\n      legends._legend.color = scale_color;\n\n      // Build element from data ///////////////////////////////////////////////////////////////////\n\n      function build(transitionMillis) {\n        element = elements[0];\n        var w = 0.9 * Math.abs(scale_x(scale_x.domain()[1]) - scale_x(scale_x.domain()[0]) );\n        var x = function(d) { return scale_x(data.GENDER(d))};\n        var h = Math.abs( scale_y(scale_y.domain()[0] + 2452.0) - scale_y.range()[0] );\n        var y1 = scale_y.range()[0];\n        var y2 = function(d) { return scale_y(data.$count(d))};\n\n        // Define selection entry operations\n        function initialState(selection) {\n          selection\n            .attr('class', 'element bar filled')\n            .style('pointer-events', 'none')\n        }\n\n        // Define selection update operations on merged data\n        function updateState(selection) {\n          selection\n            .each(function(d) {\n              var width = w, left = x(d) - width/2, \n              c = y1, d = y2(d), top = Math.min(c,d), height = Math.max(1e-6, Math.abs(c-d));\n              this.r = {x:left, y:top, w:width, h:height};\n            })\n            .attr('x', function(d) { return this.r.x })\n            .attr('y', function(d) { return this.r.y })\n            .attr('width', function(d) { return this.r.w })\n            .attr('height', function(d) { return this.r.h })\n            .filter(BrunelD3.hasData)                     // following only performed for data items\n            .style('fill', color);\n        }\n\n        // Define labeling for the selection\n        function label(selection, transitionMillis) {\n        }\n        // Create selections, set the initial state and transition updates\n        selection = main.selectAll('.element').data(data._rows, function(d) { return d.key });\n        var added = selection.enter().append('rect');\n        merged = selection.merge(added);\n        initialState(added);\n        selection.filter(BrunelD3.hasData)\n          .classed('selected', BrunelD3.isSelected(data))\n          .filter(BrunelD3.isSelected(data)).raise();\n        updateState(BrunelD3.transition(merged, transitionMillis));\n\n        BrunelD3.transition(selection.exit(), transitionMillis/3)\n          .style('opacity', 0.5).each( function() {\n            this.remove(); BrunelD3.removeLabels(this); \n        });\n      }\n\n      return {\n        data:           function() { return processed },\n        original:       function() { return original },\n        internal:       function() { return data },\n        selection:      function() { return merged },\n        makeData:       makeData,\n        build:          build,\n        chart:          function() { return charts[0] },\n        group:          function() { return elementGroup },\n        fields: {\n          x:            ['GENDER'],\n          y:            ['#count'],\n          key:          ['GENDER'],\n          color:        ['GENDER']\n        }\n      };\n    }();\n\n    function build(time, noData) {\n      var first = elements[0].data() == null;\n      if (first) time = 0;                                           // no transition for first call\n      buildAxes(time);\n      if ((first || time > -1) && !noData) {\n        elements[0].makeData();\n        BrunelD3.addLegend(legends, legends._legend);\n      }\n      elements[0].build(time);\n    }\n\n    // Expose the following components of the chart\n    return {\n      elements : elements,\n      interior : interior,\n      scales: {x:scale_x, y:scale_y},\n      zoom: function(params, time) {\n          if (params) zoom.on('zoom').call(zoomNode, params, time);\n          return d3.zoomTransform(zoomNode);\n      },\n      build : build\n    };\n    }();\n\n  function setData(rowData, i) { datasets[i||0] = BrunelD3.makeData(rowData) }\n  function updateAll(time) { charts.forEach(function(x) {x.build(time || 0)}) }\n  function buildAll() {\n    for (var i=0;i<arguments.length;i++) setData(arguments[i], i);\n    updateAll(transitionTime);\n  }\n\n  return {\n    dataPreProcess:     function(f) { if (f) pre = f; return pre },\n    dataPostProcess:    function(f) { if (f) post = f; return post },\n    data:               function(d,i) { if (d) setData(d,i); return datasets[i||0] },\n    visId:              visId,\n    build:              buildAll,\n    rebuild:            updateAll,\n    charts:             charts\n  }\n}\n\n// Data Tables /////////////////////////////////////////////////////////////////////////////////////\n\nvar table1 = {\n   summarized: true,\n   names: ['GENDER', '#count'], \n   options: ['string', 'numeric'], \n   rows: [['F', 28900], ['M', 31352]]\n};\n\n// Call Code to Build the system ///////////////////////////////////////////////////////////////////\n\nvar v  = new BrunelVis('visidd3703ad6-5e60-11ea-b7bc-6fda9e14f743');\nv.build(table1);\n\n    });\n});",
                        "text/plain": "<IPython.core.display.Javascript object>"
                    },
                    "metadata": {}
                }
            ]
        },
        {
            "metadata": {},
            "cell_type": "markdown",
            "source": "Age of a customer might have a strong impact on the buying preferences. Let's use another type of plotting technique called Heat map to visualize the relation between `AGE` and `PRODUCT_LINE`. Heat map provides an immediate visual summary of the information."
        },
        {
            "metadata": {},
            "cell_type": "code",
            "source": "%brunel data('df_pd') x(PRODUCT_LINE) y(AGE) color(#count:blue) style('symbol:rect; size:100%;') :: width=750, height=500",
            "execution_count": 11,
            "outputs": [
                {
                    "output_type": "display_data",
                    "data": {
                        "text/html": "<!--\n  ~ Copyright (c) 2015 IBM Corporation and others.\n  ~\n  ~ Licensed under the Apache License, Version 2.0 (the \"License\");\n  ~ You may not use this file except in compliance with the License.\n  ~ You may obtain a copy of the License at\n  ~\n  ~     http://www.apache.org/licenses/LICENSE-2.0\n  ~\n  ~ Unless required by applicable law or agreed to in writing, software\n  ~ distributed under the License is distributed on an \"AS IS\" BASIS,\n  ~ WITHOUT WARRANTIES OR CONDITIONS OF ANY KIND, either express or implied.\n  ~ See the License for the specific language governing permissions and\n  ~ limitations under the License.\n  -->\n\n\n<link rel=\"stylesheet\" type=\"text/css\" href=\"/data/jupyter2/static-file-content-delivery-network/nbextensions/brunel_ext/brunel.2.3.css\">\n<link rel=\"stylesheet\" type=\"text/css\" href=\"/data/jupyter2/static-file-content-delivery-network/nbextensions/brunel_ext/sumoselect.css\">\n\n<style>\n    #visidd41b6320-5e60-11ea-b7bc-6fda9e14f743.brunel .chart1 .element1 .element {\n\tsize: 100%;\n\tsymbol: rect;\n}\n</style>\n\n<div id=\"controlsidd41b64ce-5e60-11ea-b7bc-6fda9e14f743\" class=\"brunel\"/>\n<svg id=\"visidd41b6320-5e60-11ea-b7bc-6fda9e14f743\" width=\"750\" height=\"500\"></svg>",
                        "text/plain": "<IPython.core.display.HTML object>"
                    },
                    "metadata": {}
                },
                {
                    "output_type": "execute_result",
                    "execution_count": 11,
                    "data": {
                        "application/javascript": "/*\n * Copyright (c) 2015 IBM Corporation and others.\n *\n * Licensed under the Apache License, Version 2.0 (the \"License\");\n * You may not use this file except in compliance with the License.\n * You may obtain a copy of the License at\n *\n *     http://www.apache.org/licenses/LICENSE-2.0\n *\n * Unless required by applicable law or agreed to in writing, software\n * distributed under the License is distributed on an \"AS IS\" BASIS,\n * WITHOUT WARRANTIES OR CONDITIONS OF ANY KIND, either express or implied.\n * See the License for the specific language governing permissions and\n * limitations under the License.\n */\n\nrequire.config({\n    waitSeconds: 60,\n    paths: {\n        'd3': '//cdnjs.cloudflare.com/ajax/libs/d3/4.2.1/d3.min',\n        'topojson': '//cdnjs.cloudflare.com/ajax/libs/topojson/1.6.20/topojson.min',\n        'brunel' : '/data/jupyter2/static-file-content-delivery-network/nbextensions/brunel_ext/brunel.2.3.min',\n        'brunelControls' : '/data/jupyter2/static-file-content-delivery-network/nbextensions/brunel_ext/brunel.controls.2.3.min'\n    },\n    shim: {\n       'brunel' : {\n            exports: 'BrunelD3',\n            deps: ['d3', 'topojson'],\n            init: function() {\n               return {\n                 BrunelD3 : BrunelD3,\n                 BrunelData : BrunelData\n              }\n            }\n        },\n       'brunelControls' : {\n            exports: 'BrunelEventHandlers',\n            init: function() {\n               return {\n                 BrunelEventHandlers: BrunelEventHandlers,\n                 BrunelJQueryControlFactory: BrunelJQueryControlFactory\n              }\n            }\n        }\n\n    }\n\n});\n\nrequire([\"d3\"], function(d3) {\n    require([\"brunel\", \"brunelControls\"], function(brunel, brunelControls) {\n        function  BrunelVis(visId) {\n  \"use strict\";                                                                       // strict mode\n  var datasets = [],                                      // array of datasets for the original data\n      pre = function(d, i) { return d },                         // default pre-process does nothing\n      post = function(d, i) { return d },                       // default post-process does nothing\n      transitionTime = 200,                                        // transition time for animations\n      charts = [],                                                       // the charts in the system\n      vis = d3.select('#' + visId).attr('class', 'brunel');                     // the SVG container\n\n  BrunelD3.addDefinitions(vis);                                   // ensure standard symbols present\n\n  // Define chart #1 in the visualization //////////////////////////////////////////////////////////\n\n  charts[0] = function(parentNode, filterRows) {\n    var geom = BrunelD3.geometry(parentNode || vis.node(), 0, 0, 1, 1, 5, 43, 132, 66),\n      elements = [];                                              // array of elements in this chart\n\n    // Define groups for the chart parts ///////////////////////////////////////////////////////////\n\n    var chart =  vis.append('g').attr('class', 'chart1')\n      .attr('transform','translate(' + geom.chart_left + ',' + geom.chart_top + ')');\n    var overlay = chart.append('g').attr('class', 'element').attr('class', 'overlay');\n    var zoom = d3.zoom().scaleExtent([1/3,3]);\n    var zoomNode = overlay.append('rect').attr('class', 'overlay')\n      .attr('x', geom.inner_left).attr('y', geom.inner_top)\n      .attr('width', geom.inner_rawWidth).attr('height', geom.inner_rawHeight)\n      .style('cursor', 'move').call(zoom)\n      .node();\n    zoomNode.__zoom = d3.zoomIdentity;\n    chart.append('rect').attr('class', 'background').attr('width', geom.chart_right-geom.chart_left).attr('height', geom.chart_bottom-geom.chart_top);\n    var interior = chart.append('g').attr('class', 'interior zoomNone')\n      .attr('transform','translate(' + geom.inner_left + ',' + geom.inner_top + ')')\n      .attr('clip-path', 'url(#clip_visidd41b6320-5e60-11ea-b7bc-6fda9e14f743_chart1_inner)');\n    interior.append('rect').attr('class', 'inner').attr('width', geom.inner_width).attr('height', geom.inner_height);\n    var gridGroup = interior.append('g').attr('class', 'grid');\n    var axes = chart.append('g').attr('class', 'axis')\n      .attr('transform','translate(' + geom.inner_left + ',' + geom.inner_top + ')');\n    var legends = chart.append('g').attr('class', 'legend')\n      .attr('transform','translate(' + (geom.chart_right-geom.chart_left - 3) + ',' + 0 + ')');\n    vis.append('clipPath').attr('id', 'clip_visidd41b6320-5e60-11ea-b7bc-6fda9e14f743_chart1_inner').append('rect')\n      .attr('x', 0).attr('y', 0)\n      .attr('width', geom.inner_rawWidth+1).attr('height', geom.inner_rawHeight+1);\n\n    // Scales //////////////////////////////////////////////////////////////////////////////////////\n\n    var scale_x = d3.scalePoint().padding(0.5)\n      .domain(['Camping Equipment', 'Golf Equipment', 'Mountaineering Equipment', 'Outdoor Protection', 'Personal Accessories'])\n      .range([0, geom.inner_width]);\n    var scale_inner = d3.scaleLinear().domain([0,1])\n      .range([-0.5, 0.5]);\n    var scale_y = d3.scaleLinear().domain([10, 80.000007])\n      .range([geom.inner_height, 0]);\n    var base_scales = [scale_x, scale_y];                           // untransformed original scales\n\n    // Axes ////////////////////////////////////////////////////////////////////////////////////////\n\n    axes.append('g').attr('class', 'x axis')\n      .attr('transform','translate(0,' + geom.inner_rawHeight + ')')\n      .attr('clip-path', 'url(#clip_visidd41b6320-5e60-11ea-b7bc-6fda9e14f743_chart1_haxis)');\n    vis.append('clipPath').attr('id', 'clip_visidd41b6320-5e60-11ea-b7bc-6fda9e14f743_chart1_haxis').append('polyline')\n      .attr('points', '-1,-1000, -1,-1 -5,5, -1000,5, -100,1000, 10000,1000 10000,-1000');\n    axes.select('g.axis.x').append('text').attr('class', 'title').text('PRODUCT LINE').style('text-anchor', 'middle')\n      .attr('x',geom.inner_rawWidth/2)\n      .attr('y', geom.inner_bottom - 2.0).attr('dy','-0.27em');\n    axes.append('g').attr('class', 'y axis')\n      .attr('clip-path', 'url(#clip_visidd41b6320-5e60-11ea-b7bc-6fda9e14f743_chart1_vaxis)');\n    vis.append('clipPath').attr('id', 'clip_visidd41b6320-5e60-11ea-b7bc-6fda9e14f743_chart1_vaxis').append('polyline')\n      .attr('points', '-1000,-10000, 10000,-10000, 10000,' + (geom.inner_rawHeight+1) + ', -1,' + (geom.inner_rawHeight+1) + ', -1,' + (geom.inner_rawHeight+5) + ', -1000,' + (geom.inner_rawHeight+5) );\n    axes.select('g.axis.y').append('text').attr('class', 'title').text('AGE').style('text-anchor', 'middle')\n      .attr('x',-geom.inner_rawHeight/2)\n      .attr('y', 4-geom.inner_left).attr('dy', '0.7em').attr('transform', 'rotate(270)');\n\n    var axis_bottom = d3.axisBottom(scale_x).ticks(Math.min(10, Math.round(geom.inner_width / 207.0)));\n    var axis_left = d3.axisLeft(scale_y).ticks(Math.min(10, Math.round(geom.inner_width / 20)));\n\n    function buildAxes(time) {\n      axis_bottom.tickValues(BrunelD3.filterTicks(scale_x))\n      var axis_x = axes.select('g.axis.x');\n      BrunelD3.transition(axis_x, time).call(axis_bottom.scale(scale_x)).selectAll('.tick text')\n        .attr('transform', function() {\n          var v = this.getComputedTextLength() / Math.sqrt(2)/2;\n          return 'translate(-' + (v+6) + ',' + v + ') rotate(-45)'\n      });\n      var axis_y = axes.select('g.axis.y');\n      BrunelD3.transition(axis_y, time).call(axis_left.scale(scale_y));\n    }\n    zoom.on('zoom', function(t, time) {\n        t = t ||BrunelD3.restrictZoom(d3.event.transform, geom, this);\n        scale_y = t.rescaleY(base_scales[1]);\n        zoomNode.__zoom = t;\n        interior.attr('class', 'interior ' + BrunelD3.zoomLabel(t.k));;\n        build(time || -1);\n    });\n\n    // Define element #1 ///////////////////////////////////////////////////////////////////////////\n\n    elements[0] = function() {\n      var original, processed,                           // data sets passed in and then transformed\n        element, data,                                 // brunel element information and brunel data\n        selection, merged;                                      // d3 selection and merged selection\n      var elementGroup = interior.append('g').attr('class', 'element1'),\n        main = elementGroup.append('g').attr('class', 'main'),\n        labels = BrunelD3.undoTransform(elementGroup.append('g').attr('class', 'labels').attr('aria-hidden', 'true'), elementGroup);\n\n      function makeData() {\n        original = datasets[0];\n        if (filterRows) original = original.retainRows(filterRows);\n        processed = pre(original, 0)\n          .summarize('#count=#count:sum; PRODUCT_LINE=PRODUCT_LINE:base; AGE=AGE');\n        processed = post(processed, 0);\n        var f0 = processed.field('PRODUCT_LINE'),\n          f1 = processed.field('AGE'),\n          f2 = processed.field('#count'),\n          f3 = processed.field('#row'),\n          f4 = processed.field('#selection');\n        var keyFunc = function(d) { return f3.value(d) };\n        data = {\n          PRODUCT_LINE: function(d) { return f0.value(d.row) },\n          AGE:          function(d) { return f1.value(d.row) },\n          $count:       function(d) { return f2.value(d.row) },\n          $row:         function(d) { return f3.value(d.row) },\n          $selection:   function(d) { return f4.value(d.row) },\n          PRODUCT_LINE_f:function(d) { return f0.valueFormatted(d.row) },\n          AGE_f:        function(d) { return f1.valueFormatted(d.row) },\n          $count_f:     function(d) { return f2.valueFormatted(d.row) },\n          $row_f:       function(d) { return f3.valueFormatted(d.row) },\n          $selection_f: function(d) { return f4.valueFormatted(d.row) },\n          _split:       function(d) { return f2.value(d.row) },\n          _key:         keyFunc,\n          _rows:        BrunelD3.makeRowsWithKeys(keyFunc, processed.rowCount())\n        };\n      }\n      // Aesthetic Functions\n      var scale_color = d3.scaleSqrt().domain([1, 20.906404, 66.336207, 137.28941, 233.76601, 355.76601, 503.28941, 676.33621, 874.9064, 1099])\n        .interpolate(d3.interpolateHcl)\n        .range([ '#FFFFFF', '#E3E3FF', '#C6C6FF', '#AAAAFF', '#8E8EFF', '#7171FF', \n          '#5555FF', '#3939FF', '#1C1CFF', '#0000FF']);\n      var color = function(d) { return scale_color(data.$count(d)) };\n      legends._legend = legends._legend || { title: ['Count'], \n        ticks: [1200, 1000, 800, 600, 400, 200, 0]};\n      legends._legend.color = scale_color;\n\n      // Build element from data ///////////////////////////////////////////////////////////////////\n\n      function build(transitionMillis) {\n        element = elements[0];\n        var w = 1.0 * Math.abs(scale_x(scale_x.domain()[1]) - scale_x(scale_x.domain()[0]) );\n        var x = function(d) { return scale_x(data.PRODUCT_LINE(d))};\n        var h = 1.0 * geom.default_point_size;\n        var y = function(d) { return scale_y(data.AGE(d))};\n\n        // Define selection entry operations\n        function initialState(selection) {\n          selection\n            .attr('class', 'element point filled')\n            .style('pointer-events', 'none')\n        }\n\n        // Define selection update operations on merged data\n        function updateState(selection) {\n          selection\n            .each(function(d) {\n              var width = w, left = x(d) - width/2, \n              height = h, top = y(d) - height/2;\n              this.r = {x:left, y:top, w:width, h:height};\n            })\n            .attr('x', function(d) { return this.r.x })\n            .attr('y', function(d) { return this.r.y })\n            .attr('width', function(d) { return this.r.w })\n            .attr('height', function(d) { return this.r.h })\n            .filter(BrunelD3.hasData)                     // following only performed for data items\n            .style('fill', color);\n        }\n\n        // Define labeling for the selection\n        function label(selection, transitionMillis) {\n        }\n        // Create selections, set the initial state and transition updates\n        selection = main.selectAll('.element').data(data._rows, function(d) { return d.key });\n        var added = selection.enter().append('rect');\n        merged = selection.merge(added);\n        initialState(added);\n        selection.filter(BrunelD3.hasData)\n          .classed('selected', BrunelD3.isSelected(data))\n          .filter(BrunelD3.isSelected(data)).raise();\n        updateState(BrunelD3.transition(merged, transitionMillis));\n\n        BrunelD3.transition(selection.exit(), transitionMillis/3)\n          .style('opacity', 0.5).each( function() {\n            this.remove(); BrunelD3.removeLabels(this); \n        });\n      }\n\n      return {\n        data:           function() { return processed },\n        original:       function() { return original },\n        internal:       function() { return data },\n        selection:      function() { return merged },\n        makeData:       makeData,\n        build:          build,\n        chart:          function() { return charts[0] },\n        group:          function() { return elementGroup },\n        fields: {\n          x:            ['PRODUCT_LINE'],\n          y:            ['AGE'],\n          key:          ['#row'],\n          color:        ['#count']\n        }\n      };\n    }();\n\n    function build(time, noData) {\n      var first = elements[0].data() == null;\n      if (first) time = 0;                                           // no transition for first call\n      buildAxes(time);\n      if ((first || time > -1) && !noData) {\n        elements[0].makeData();\n        BrunelD3.addLegend(legends, legends._legend);\n      }\n      elements[0].build(time);\n    }\n\n    // Expose the following components of the chart\n    return {\n      elements : elements,\n      interior : interior,\n      scales: {x:scale_x, y:scale_y},\n      zoom: function(params, time) {\n          if (params) zoom.on('zoom').call(zoomNode, params, time);\n          return d3.zoomTransform(zoomNode);\n      },\n      build : build\n    };\n    }();\n\n  function setData(rowData, i) { datasets[i||0] = BrunelD3.makeData(rowData) }\n  function updateAll(time) { charts.forEach(function(x) {x.build(time || 0)}) }\n  function buildAll() {\n    for (var i=0;i<arguments.length;i++) setData(arguments[i], i);\n    updateAll(transitionTime);\n  }\n\n  return {\n    dataPreProcess:     function(f) { if (f) pre = f; return pre },\n    dataPostProcess:    function(f) { if (f) post = f; return post },\n    data:               function(d,i) { if (d) setData(d,i); return datasets[i||0] },\n    visId:              visId,\n    build:              buildAll,\n    rebuild:            updateAll,\n    charts:             charts\n  }\n}\n\n// Data Tables /////////////////////////////////////////////////////////////////////////////////////\n\nvar table1 = {\n   summarized: true,\n   names: ['PRODUCT_LINE', 'AGE', '#count'], \n   options: ['string', 'numeric', 'numeric'], \n   rows: [['Camping Equipment', 17, 2], ['Mountaineering Equipment', 17, 1],\n  ['Outdoor Protection', 17, 25], ['Personal Accessories', 17, 78], ['Camping Equipment', 18, 10],\n  ['Golf Equipment', 18, 3], ['Mountaineering Equipment', 18, 4], ['Outdoor Protection', 18, 16],\n  ['Personal Accessories', 18, 210], ['Camping Equipment', 19, 554], ['Golf Equipment', 19, 8],\n  ['Mountaineering Equipment', 19, 369], ['Outdoor Protection', 19, 44],\n  ['Personal Accessories', 19, 554], ['Camping Equipment', 20, 629], ['Golf Equipment', 20, 11],\n  ['Mountaineering Equipment', 20, 406], ['Outdoor Protection', 20, 76],\n  ['Personal Accessories', 20, 618], ['Camping Equipment', 21, 626], ['Golf Equipment', 21, 17],\n  ['Mountaineering Equipment', 21, 415], ['Outdoor Protection', 21, 61],\n  ['Personal Accessories', 21, 575], ['Camping Equipment', 22, 652], ['Golf Equipment', 22, 16],\n  ['Mountaineering Equipment', 22, 391], ['Outdoor Protection', 22, 71],\n  ['Personal Accessories', 22, 613], ['Camping Equipment', 23, 762], ['Golf Equipment', 23, 15],\n  ['Mountaineering Equipment', 23, 505], ['Outdoor Protection', 23, 69],\n  ['Personal Accessories', 23, 636], ['Camping Equipment', 24, 709], ['Golf Equipment', 24, 14],\n  ['Mountaineering Equipment', 24, 475], ['Outdoor Protection', 24, 63],\n  ['Personal Accessories', 24, 587], ['Camping Equipment', 25, 774], ['Golf Equipment', 25, 70],\n  ['Mountaineering Equipment', 25, 512], ['Outdoor Protection', 25, 44],\n  ['Personal Accessories', 25, 851], ['Camping Equipment', 26, 885], ['Golf Equipment', 26, 55],\n  ['Mountaineering Equipment', 26, 573], ['Outdoor Protection', 26, 63],\n  ['Personal Accessories', 26, 880], ['Camping Equipment', 27, 871], ['Golf Equipment', 27, 74],\n  ['Mountaineering Equipment', 27, 626], ['Outdoor Protection', 27, 50],\n  ['Personal Accessories', 27, 875], ['Camping Equipment', 28, 848], ['Golf Equipment', 28, 58],\n  ['Mountaineering Equipment', 28, 584], ['Outdoor Protection', 28, 43],\n  ['Personal Accessories', 28, 914], ['Camping Equipment', 29, 955], ['Golf Equipment', 29, 77],\n  ['Mountaineering Equipment', 29, 652], ['Outdoor Protection', 29, 44],\n  ['Personal Accessories', 29, 956], ['Camping Equipment', 30, 1028], ['Golf Equipment', 30, 140],\n  ['Mountaineering Equipment', 30, 361], ['Outdoor Protection', 30, 86],\n  ['Personal Accessories', 30, 465], ['Camping Equipment', 31, 1003], ['Golf Equipment', 31, 119],\n  ['Mountaineering Equipment', 31, 383], ['Outdoor Protection', 31, 84],\n  ['Personal Accessories', 31, 450], ['Camping Equipment', 32, 955], ['Golf Equipment', 32, 141],\n  ['Mountaineering Equipment', 32, 379], ['Outdoor Protection', 32, 101],\n  ['Personal Accessories', 32, 443], ['Camping Equipment', 33, 1023], ['Golf Equipment', 33, 121],\n  ['Mountaineering Equipment', 33, 325], ['Outdoor Protection', 33, 105],\n  ['Personal Accessories', 33, 410], ['Camping Equipment', 34, 1099], ['Golf Equipment', 34, 128],\n  ['Mountaineering Equipment', 34, 351], ['Outdoor Protection', 34, 111],\n  ['Personal Accessories', 34, 468], ['Camping Equipment', 35, 988], ['Golf Equipment', 35, 129],\n  ['Mountaineering Equipment', 35, 264], ['Outdoor Protection', 35, 86],\n  ['Personal Accessories', 35, 351], ['Camping Equipment', 36, 941], ['Golf Equipment', 36, 170],\n  ['Mountaineering Equipment', 36, 271], ['Outdoor Protection', 36, 96],\n  ['Personal Accessories', 36, 437], ['Camping Equipment', 37, 948], ['Golf Equipment', 37, 116],\n  ['Mountaineering Equipment', 37, 270], ['Outdoor Protection', 37, 78],\n  ['Personal Accessories', 37, 408], ['Camping Equipment', 38, 886], ['Golf Equipment', 38, 144],\n  ['Mountaineering Equipment', 38, 303], ['Outdoor Protection', 38, 92],\n  ['Personal Accessories', 38, 418], ['Camping Equipment', 39, 978], ['Golf Equipment', 39, 158],\n  ['Mountaineering Equipment', 39, 350], ['Outdoor Protection', 39, 84],\n  ['Personal Accessories', 39, 506], ['Camping Equipment', 40, 776], ['Golf Equipment', 40, 233],\n  ['Mountaineering Equipment', 40, 196], ['Outdoor Protection', 40, 74],\n  ['Personal Accessories', 40, 315], ['Camping Equipment', 41, 820], ['Golf Equipment', 41, 257],\n  ['Mountaineering Equipment', 41, 235], ['Outdoor Protection', 41, 67],\n  ['Personal Accessories', 41, 325], ['Camping Equipment', 42, 773], ['Golf Equipment', 42, 212],\n  ['Mountaineering Equipment', 42, 149], ['Outdoor Protection', 42, 75],\n  ['Personal Accessories', 42, 271], ['Camping Equipment', 43, 837], ['Golf Equipment', 43, 237],\n  ['Mountaineering Equipment', 43, 196], ['Outdoor Protection', 43, 74],\n  ['Personal Accessories', 43, 315], ['Camping Equipment', 44, 841], ['Golf Equipment', 44, 290],\n  ['Mountaineering Equipment', 44, 186], ['Outdoor Protection', 44, 77],\n  ['Personal Accessories', 44, 351], ['Camping Equipment', 45, 346], ['Golf Equipment', 45, 218],\n  ['Mountaineering Equipment', 45, 44], ['Outdoor Protection', 45, 64],\n  ['Personal Accessories', 45, 266], ['Camping Equipment', 46, 351], ['Golf Equipment', 46, 243],\n  ['Mountaineering Equipment', 46, 51], ['Outdoor Protection', 46, 56],\n  ['Personal Accessories', 46, 275], ['Camping Equipment', 47, 292], ['Golf Equipment', 47, 220],\n  ['Mountaineering Equipment', 47, 41], ['Outdoor Protection', 47, 58],\n  ['Personal Accessories', 47, 259], ['Camping Equipment', 48, 369], ['Golf Equipment', 48, 181],\n  ['Mountaineering Equipment', 48, 40], ['Outdoor Protection', 48, 57],\n  ['Personal Accessories', 48, 293], ['Camping Equipment', 49, 349], ['Golf Equipment', 49, 267],\n  ['Mountaineering Equipment', 49, 44], ['Outdoor Protection', 49, 63],\n  ['Personal Accessories', 49, 242], ['Camping Equipment', 50, 22], ['Golf Equipment', 50, 245],\n  ['Mountaineering Equipment', 50, 4], ['Outdoor Protection', 50, 17],\n  ['Personal Accessories', 50, 96], ['Camping Equipment', 51, 16], ['Golf Equipment', 51, 223],\n  ['Mountaineering Equipment', 51, 10], ['Outdoor Protection', 51, 12],\n  ['Personal Accessories', 51, 105], ['Camping Equipment', 52, 23], ['Golf Equipment', 52, 224],\n  ['Mountaineering Equipment', 52, 3], ['Outdoor Protection', 52, 14],\n  ['Personal Accessories', 52, 93], ['Camping Equipment', 53, 20], ['Golf Equipment', 53, 252],\n  ['Mountaineering Equipment', 53, 7], ['Outdoor Protection', 53, 17],\n  ['Personal Accessories', 53, 115], ['Camping Equipment', 54, 24], ['Golf Equipment', 54, 237],\n  ['Mountaineering Equipment', 54, 12], ['Outdoor Protection', 54, 21],\n  ['Personal Accessories', 54, 123], ['Camping Equipment', 55, 7], ['Golf Equipment', 55, 194],\n  ['Mountaineering Equipment', 55, 4], ['Outdoor Protection', 55, 11],\n  ['Personal Accessories', 55, 79], ['Camping Equipment', 56, 13], ['Golf Equipment', 56, 233],\n  ['Mountaineering Equipment', 56, 1], ['Outdoor Protection', 56, 13],\n  ['Personal Accessories', 56, 87], ['Camping Equipment', 57, 10], ['Golf Equipment', 57, 207],\n  ['Mountaineering Equipment', 57, 5], ['Outdoor Protection', 57, 12],\n  ['Personal Accessories', 57, 75], ['Camping Equipment', 58, 8], ['Golf Equipment', 58, 258],\n  ['Mountaineering Equipment', 58, 4], ['Outdoor Protection', 58, 9],\n  ['Personal Accessories', 58, 75], ['Camping Equipment', 59, 9], ['Golf Equipment', 59, 236],\n  ['Mountaineering Equipment', 59, 2], ['Outdoor Protection', 59, 15],\n  ['Personal Accessories', 59, 97], ['Camping Equipment', 60, 4], ['Golf Equipment', 60, 1],\n  ['Mountaineering Equipment', 60, 1], ['Outdoor Protection', 60, 15],\n  ['Personal Accessories', 60, 72], ['Camping Equipment', 61, 3], ['Golf Equipment', 61, 2],\n  ['Mountaineering Equipment', 61, 1], ['Outdoor Protection', 61, 16],\n  ['Personal Accessories', 61, 58], ['Camping Equipment', 62, 4], ['Golf Equipment', 62, 1],\n  ['Mountaineering Equipment', 62, 3], ['Outdoor Protection', 62, 14],\n  ['Personal Accessories', 62, 63], ['Camping Equipment', 63, 4], ['Golf Equipment', 63, 1],\n  ['Outdoor Protection', 63, 10], ['Personal Accessories', 63, 64], ['Camping Equipment', 64, 1],\n  ['Outdoor Protection', 64, 12], ['Personal Accessories', 64, 59], ['Camping Equipment', 65, 2],\n  ['Outdoor Protection', 65, 11], ['Personal Accessories', 65, 50], ['Camping Equipment', 66, 1],\n  ['Golf Equipment', 66, 1], ['Outdoor Protection', 66, 10], ['Personal Accessories', 66, 68],\n  ['Golf Equipment', 67, 3], ['Mountaineering Equipment', 67, 1], ['Outdoor Protection', 67, 15],\n  ['Personal Accessories', 67, 57], ['Golf Equipment', 68, 1], ['Mountaineering Equipment', 68, 3],\n  ['Outdoor Protection', 68, 17], ['Personal Accessories', 68, 74], ['Camping Equipment', 69, 5],\n  ['Mountaineering Equipment', 69, 1], ['Outdoor Protection', 69, 20],\n  ['Personal Accessories', 69, 58]]\n};\n\n// Call Code to Build the system ///////////////////////////////////////////////////////////////////\n\nvar v  = new BrunelVis('visidd41b6320-5e60-11ea-b7bc-6fda9e14f743');\nv.build(table1);\n\n    });\n});",
                        "text/plain": "<IPython.core.display.Javascript object>"
                    },
                    "metadata": {}
                }
            ]
        },
        {
            "metadata": {},
            "cell_type": "markdown",
            "source": "The intensity of the blue color in the plot represents purchases of a specific `PRODUCT_LINE` by customers in respective AGE group. You can see that people in the age group of 20 to 40 have an inclination towards buying Camping Equipment and Personal Accessories, while the people in 50-60 years of range have higher tendency to buy Golf Equipments."
        },
        {
            "metadata": {},
            "cell_type": "markdown",
            "source": "<a id=\"model\"></a>\n## 3. Build a machine learning model\n\nIn this section, you will learn how to:\n\n- [3.1 Split data](#prep)\n- [3.2 Build a machine learning pipeline](#pipe)\n- [3.3 Train a model](#train)"
        },
        {
            "metadata": {},
            "cell_type": "markdown",
            "source": "### 3.1 Split data<a id=\"prep\"></a>\n\nTo avoid overfitting our machine learning model and ensure a good performance on unseen data, split the data set into two data sets: \n- Train data set\n- Test data set"
        },
        {
            "metadata": {},
            "cell_type": "code",
            "source": "split_data = df.randomSplit([0.8, 0.2], 24)\ntrain_data = split_data[0]\ntest_data = split_data[1]\n\nprint('Number of training records: ' + str(train_data.count()))\nprint('Number of testing records : ' + str(test_data.count()))",
            "execution_count": 12,
            "outputs": [
                {
                    "output_type": "stream",
                    "text": "Number of training records: 48176\nNumber of testing records : 12076\n",
                    "name": "stdout"
                }
            ]
        },
        {
            "metadata": {},
            "cell_type": "markdown",
            "source": "As you can see, the data has been successfully split into two data sets with a proportion of 80% and 20% for train and test data set respectively.\n\n-  The train data set which is the larger group is used for training (80%).\n-  The test data set will be used for model evaluation and is used to test the assumptions of the model (20%)."
        },
        {
            "metadata": {},
            "cell_type": "markdown",
            "source": "### 3.2 Create the pipeline<a id=\"pipe\"></a>"
        },
        {
            "metadata": {},
            "cell_type": "markdown",
            "source": "In this subsection, you will create an Apache\u00ae Spark machine learning pipeline and train the model. In the first step, you need to import the Apache\u00ae Spark machine learning modules that will be needed in the subsequent steps."
        },
        {
            "metadata": {},
            "cell_type": "code",
            "source": "from pyspark.ml.feature import OneHotEncoder, StringIndexer, IndexToString, VectorAssembler\nfrom pyspark.ml.classification import RandomForestClassifier\nfrom pyspark.ml.evaluation import MulticlassClassificationEvaluator\nfrom pyspark.ml import Pipeline, Model",
            "execution_count": 13,
            "outputs": []
        },
        {
            "metadata": {},
            "cell_type": "markdown",
            "source": "Now, use the `StringIndexer` transformer to convert all string fields into numerical type."
        },
        {
            "metadata": {},
            "cell_type": "code",
            "source": "stringIndexer_label = StringIndexer(inputCol='PRODUCT_LINE', outputCol='label').fit(df)\nstringIndexer_prof = StringIndexer(inputCol='PROFESSION', outputCol='PROFESSION_IX')\nstringIndexer_gend = StringIndexer(inputCol='GENDER', outputCol='GENDER_IX')\nstringIndexer_mar = StringIndexer(inputCol='MARITAL_STATUS', outputCol='MARITAL_STATUS_IX')",
            "execution_count": 14,
            "outputs": []
        },
        {
            "metadata": {},
            "cell_type": "markdown",
            "source": "In the following step, create a feature vector to combine all features (predictors) together. This transformer merges multiple columns into a vector column."
        },
        {
            "metadata": {},
            "cell_type": "code",
            "source": "vectorAssembler_features = VectorAssembler(inputCols=['GENDER_IX', 'AGE', 'MARITAL_STATUS_IX', 'PROFESSION_IX'], outputCol='features')",
            "execution_count": 15,
            "outputs": []
        },
        {
            "metadata": {},
            "cell_type": "markdown",
            "source": "Next, select the estimator you want to use for classification. <a href=\"http://spark.apache.org/docs/2.3.0/api/python/pyspark.ml.html#pyspark.ml.classification.RandomForestClassifier\" target=\"_blank\" rel=\"noopener no referrer\">Random Forest</a> is used in this example. It supports both binary and multiclass labels, as well as both continuous and categorical features."
        },
        {
            "metadata": {},
            "cell_type": "code",
            "source": "rf = RandomForestClassifier(labelCol='label', featuresCol='features')",
            "execution_count": 16,
            "outputs": []
        },
        {
            "metadata": {},
            "cell_type": "markdown",
            "source": "Finally, convert the indexed labels back to original labels. This transformer maps a column of indices back to a new column of corresponding string values. "
        },
        {
            "metadata": {},
            "cell_type": "code",
            "source": "labelConverter = IndexToString(inputCol='prediction', outputCol='predictedLabel', labels=stringIndexer_label.labels)",
            "execution_count": 17,
            "outputs": []
        },
        {
            "metadata": {},
            "cell_type": "markdown",
            "source": "Now build the pipeline. A Pipeline consists of a sequence of stages, each of which is either an Estimator or a Transformer."
        },
        {
            "metadata": {},
            "cell_type": "code",
            "source": "pipeline_rf = Pipeline(stages=[stringIndexer_label, stringIndexer_prof, stringIndexer_gend, stringIndexer_mar, vectorAssembler_features, rf, labelConverter])",
            "execution_count": 18,
            "outputs": []
        },
        {
            "metadata": {},
            "cell_type": "markdown",
            "source": "### 3.3 Train a model<a id=\"train\"></a>"
        },
        {
            "metadata": {},
            "cell_type": "markdown",
            "source": "Now, you can train your Random Forest model by using the previously defined **pipeline** and **train data**. In order to train the `Random Forest` model, run the following cell. When the `fit()` method is called on the pipeline, all the stages defined in the pipeline are executed in order."
        },
        {
            "metadata": {},
            "cell_type": "code",
            "source": "model_rf = pipeline_rf.fit(train_data)",
            "execution_count": 19,
            "outputs": []
        },
        {
            "metadata": {},
            "cell_type": "markdown",
            "source": "Congratulations! you just trained a machine learning model. You can check your **model accuracy** now. Use **test data** to evaluate the model."
        },
        {
            "metadata": {},
            "cell_type": "markdown",
            "source": "Now let us look at which features have more importance in deciding the outcome in the model."
        },
        {
            "metadata": {},
            "cell_type": "code",
            "source": "feature_importances = pd.DataFrame({'feature' : ['GENDER', 'AGE', 'MARITAL_STATUS', 'PROFESSION'],\n                                   'importance' : model_rf.stages[5].featureImportances.values}).sort_values('importance', ascending=False)\n%brunel data('feature_importances') bar x(feature) y(importance) sort(importance) transpose",
            "execution_count": 20,
            "outputs": [
                {
                    "output_type": "display_data",
                    "data": {
                        "text/html": "<!--\n  ~ Copyright (c) 2015 IBM Corporation and others.\n  ~\n  ~ Licensed under the Apache License, Version 2.0 (the \"License\");\n  ~ You may not use this file except in compliance with the License.\n  ~ You may obtain a copy of the License at\n  ~\n  ~     http://www.apache.org/licenses/LICENSE-2.0\n  ~\n  ~ Unless required by applicable law or agreed to in writing, software\n  ~ distributed under the License is distributed on an \"AS IS\" BASIS,\n  ~ WITHOUT WARRANTIES OR CONDITIONS OF ANY KIND, either express or implied.\n  ~ See the License for the specific language governing permissions and\n  ~ limitations under the License.\n  -->\n\n\n<link rel=\"stylesheet\" type=\"text/css\" href=\"/data/jupyter2/static-file-content-delivery-network/nbextensions/brunel_ext/brunel.2.3.css\">\n<link rel=\"stylesheet\" type=\"text/css\" href=\"/data/jupyter2/static-file-content-delivery-network/nbextensions/brunel_ext/sumoselect.css\">\n\n<style>\n    \n</style>\n\n<div id=\"controlsidfb3fad8a-5e60-11ea-b7bc-6fda9e14f743\" class=\"brunel\"/>\n<svg id=\"visidfb3fac36-5e60-11ea-b7bc-6fda9e14f743\" width=\"500\" height=\"400\"></svg>",
                        "text/plain": "<IPython.core.display.HTML object>"
                    },
                    "metadata": {}
                },
                {
                    "output_type": "execute_result",
                    "execution_count": 20,
                    "data": {
                        "application/javascript": "/*\n * Copyright (c) 2015 IBM Corporation and others.\n *\n * Licensed under the Apache License, Version 2.0 (the \"License\");\n * You may not use this file except in compliance with the License.\n * You may obtain a copy of the License at\n *\n *     http://www.apache.org/licenses/LICENSE-2.0\n *\n * Unless required by applicable law or agreed to in writing, software\n * distributed under the License is distributed on an \"AS IS\" BASIS,\n * WITHOUT WARRANTIES OR CONDITIONS OF ANY KIND, either express or implied.\n * See the License for the specific language governing permissions and\n * limitations under the License.\n */\n\nrequire.config({\n    waitSeconds: 60,\n    paths: {\n        'd3': '//cdnjs.cloudflare.com/ajax/libs/d3/4.2.1/d3.min',\n        'topojson': '//cdnjs.cloudflare.com/ajax/libs/topojson/1.6.20/topojson.min',\n        'brunel' : '/data/jupyter2/static-file-content-delivery-network/nbextensions/brunel_ext/brunel.2.3.min',\n        'brunelControls' : '/data/jupyter2/static-file-content-delivery-network/nbextensions/brunel_ext/brunel.controls.2.3.min'\n    },\n    shim: {\n       'brunel' : {\n            exports: 'BrunelD3',\n            deps: ['d3', 'topojson'],\n            init: function() {\n               return {\n                 BrunelD3 : BrunelD3,\n                 BrunelData : BrunelData\n              }\n            }\n        },\n       'brunelControls' : {\n            exports: 'BrunelEventHandlers',\n            init: function() {\n               return {\n                 BrunelEventHandlers: BrunelEventHandlers,\n                 BrunelJQueryControlFactory: BrunelJQueryControlFactory\n              }\n            }\n        }\n\n    }\n\n});\n\nrequire([\"d3\"], function(d3) {\n    require([\"brunel\", \"brunelControls\"], function(brunel, brunelControls) {\n        function  BrunelVis(visId) {\n  \"use strict\";                                                                       // strict mode\n  var datasets = [],                                      // array of datasets for the original data\n      pre = function(d, i) { return d },                         // default pre-process does nothing\n      post = function(d, i) { return d },                       // default post-process does nothing\n      transitionTime = 200,                                        // transition time for animations\n      charts = [],                                                       // the charts in the system\n      vis = d3.select('#' + visId).attr('class', 'brunel');                     // the SVG container\n\n  BrunelD3.addDefinitions(vis);                                   // ensure standard symbols present\n\n  // Define chart #1 in the visualization //////////////////////////////////////////////////////////\n\n  charts[0] = function(parentNode, filterRows) {\n    var geom = BrunelD3.geometry(parentNode || vis.node(), 0, 0, 1, 1, 5, 104, 37, 16),\n      elements = [];                                              // array of elements in this chart\n    geom.transpose();\n\n    // Define groups for the chart parts ///////////////////////////////////////////////////////////\n\n    var chart =  vis.append('g').attr('class', 'chart1')\n      .attr('transform','translate(' + geom.chart_left + ',' + geom.chart_top + ')');\n    var overlay = chart.append('g').attr('class', 'element').attr('class', 'overlay');\n    var zoom = d3.zoom().scaleExtent([1/3,3]);\n    var zoomNode = overlay.append('rect').attr('class', 'overlay')\n      .attr('x', geom.inner_left).attr('y', geom.inner_top)\n      .attr('width', geom.inner_rawWidth).attr('height', geom.inner_rawHeight)\n      .style('cursor', 'move').call(zoom)\n      .node();\n    zoomNode.__zoom = d3.zoomIdentity;\n    chart.append('rect').attr('class', 'background').attr('width', geom.chart_right-geom.chart_left).attr('height', geom.chart_bottom-geom.chart_top);\n    var interior = chart.append('g').attr('class', 'interior zoomNone')\n      .attr('transform','translate(' + geom.inner_left + ',' + geom.inner_top + ')')\n      .attr('clip-path', 'url(#clip_visidfb3fac36-5e60-11ea-b7bc-6fda9e14f743_chart1_inner)');\n    interior.append('rect').attr('class', 'inner').attr('width', geom.inner_width).attr('height', geom.inner_height);\n    var gridGroup = interior.append('g').attr('class', 'grid');\n    var axes = chart.append('g').attr('class', 'axis')\n      .attr('transform','translate(' + geom.inner_left + ',' + geom.inner_top + ')');\n    vis.append('clipPath').attr('id', 'clip_visidfb3fac36-5e60-11ea-b7bc-6fda9e14f743_chart1_inner').append('rect')\n      .attr('x', 0).attr('y', 0)\n      .attr('width', geom.inner_rawWidth+1).attr('height', geom.inner_rawHeight+1);\n\n    // Scales //////////////////////////////////////////////////////////////////////////////////////\n\n    var scale_x = d3.scalePoint().padding(0.5)\n      .domain(['MARITAL_STATUS', 'PROFESSION', 'GENDER', 'AGE'])\n      .range([geom.inner_width, 0]);\n    var scale_inner = d3.scaleLinear().domain([0,1])\n      .range([-0.5, 0.5]);\n    var scale_y = d3.scaleLinear().domain([0, 0.35])\n      .range([0, geom.inner_height]);\n    var base_scales = [scale_x, scale_y];                           // untransformed original scales\n\n    // Axes ////////////////////////////////////////////////////////////////////////////////////////\n\n    axes.append('g').attr('class', 'x axis')\n      .attr('transform','translate(0,' + geom.inner_rawHeight + ')')\n      .attr('clip-path', 'url(#clip_visidfb3fac36-5e60-11ea-b7bc-6fda9e14f743_chart1_haxis)');\n    vis.append('clipPath').attr('id', 'clip_visidfb3fac36-5e60-11ea-b7bc-6fda9e14f743_chart1_haxis').append('polyline')\n      .attr('points', '-1,-1000, -1,-1 -5,5, -1000,5, -100,1000, 10000,1000 10000,-1000');\n    axes.select('g.axis.x').append('text').attr('class', 'title').text('Importance').style('text-anchor', 'middle')\n      .attr('x',geom.inner_rawWidth/2)\n      .attr('y', geom.inner_bottom - 2.0).attr('dy','-0.27em');\n    axes.append('g').attr('class', 'y axis')\n      .attr('clip-path', 'url(#clip_visidfb3fac36-5e60-11ea-b7bc-6fda9e14f743_chart1_vaxis)');\n    vis.append('clipPath').attr('id', 'clip_visidfb3fac36-5e60-11ea-b7bc-6fda9e14f743_chart1_vaxis').append('polyline')\n      .attr('points', '-1000,-10000, 10000,-10000, 10000,' + (geom.inner_rawHeight+1) + ', -1,' + (geom.inner_rawHeight+1) + ', -1,' + (geom.inner_rawHeight+5) + ', -1000,' + (geom.inner_rawHeight+5) );\n    axes.select('g.axis.y').append('text').attr('class', 'title').text('Feature').style('text-anchor', 'middle')\n      .attr('x',-geom.inner_rawHeight/2)\n      .attr('y', 4-geom.inner_left).attr('dy', '0.7em').attr('transform', 'rotate(270)');\n\n    var axis_bottom = d3.axisBottom(scale_y).ticks(Math.min(10, Math.round(geom.inner_width / 42.0)));\n    var axis_left = d3.axisLeft(scale_x).ticks(Math.min(10, Math.round(geom.inner_width / 20)));\n\n    function buildAxes(time) {\n      var axis_x = axes.select('g.axis.x');\n      BrunelD3.transition(axis_x, time).call(axis_bottom.scale(scale_y));\n      axis_left.tickValues(BrunelD3.filterTicks(scale_x))\n      var axis_y = axes.select('g.axis.y');\n      BrunelD3.transition(axis_y, time).call(axis_left.scale(scale_x));\n    }\n    zoom.on('zoom', function(t, time) {\n        t = t ||BrunelD3.restrictZoom(d3.event.transform, geom, this);\n        scale_y = t.rescaleX(base_scales[1]);\n        zoomNode.__zoom = t;\n        interior.attr('class', 'interior ' + BrunelD3.zoomLabel(t.k));;\n        build(time || -1);\n    });\n\n    // Define element #1 ///////////////////////////////////////////////////////////////////////////\n\n    elements[0] = function() {\n      var original, processed,                           // data sets passed in and then transformed\n        element, data,                                 // brunel element information and brunel data\n        selection, merged;                                      // d3 selection and merged selection\n      var elementGroup = interior.append('g').attr('class', 'element1')\n        .attr('transform','matrix(0,1,1,0,0,0)'),\n        main = elementGroup.append('g').attr('class', 'main'),\n        labels = BrunelD3.undoTransform(elementGroup.append('g').attr('class', 'labels').attr('aria-hidden', 'true'), elementGroup);\n\n      function makeData() {\n        original = datasets[0];\n        if (filterRows) original = original.retainRows(filterRows);\n        processed = pre(original, 0)\n          .sort('importance');\n        processed = post(processed, 0);\n        var f0 = processed.field('feature'),\n          f1 = processed.field('importance'),\n          f2 = processed.field('#row'),\n          f3 = processed.field('#selection');\n        var keyFunc = function(d) { return f0.value(d) };\n        data = {\n          feature:      function(d) { return f0.value(d.row) },\n          importance:   function(d) { return f1.value(d.row) },\n          $row:         function(d) { return f2.value(d.row) },\n          $selection:   function(d) { return f3.value(d.row) },\n          feature_f:    function(d) { return f0.valueFormatted(d.row) },\n          importance_f: function(d) { return f1.valueFormatted(d.row) },\n          $row_f:       function(d) { return f2.valueFormatted(d.row) },\n          $selection_f: function(d) { return f3.valueFormatted(d.row) },\n          _split:       function(d) { return 'ALL' },\n          _key:         keyFunc,\n          _rows:        BrunelD3.makeRowsWithKeys(keyFunc, processed.rowCount())\n        };\n      }\n\n      // Build element from data ///////////////////////////////////////////////////////////////////\n\n      function build(transitionMillis) {\n        element = elements[0];\n        var w = 0.9 * Math.abs(scale_x(scale_x.domain()[1]) - scale_x(scale_x.domain()[0]) );\n        var x = function(d) { return scale_x(data.feature(d))};\n        var h = geom.default_point_size;\n        var y1 = scale_y.range()[0];\n        var y2 = function(d) { return scale_y(data.importance(d))};\n\n        // Define selection entry operations\n        function initialState(selection) {\n          selection\n            .attr('class', 'element bar filled')\n            .style('pointer-events', 'none')\n        }\n\n        // Define selection update operations on merged data\n        function updateState(selection) {\n          selection\n            .each(function(d) {\n              var width = w, left = x(d) - width/2, \n              c = y1, d = y2(d), top = Math.min(c,d), height = Math.max(1e-6, Math.abs(c-d));\n              this.r = {x:left, y:top, w:width, h:height};\n            })\n            .attr('x', function(d) { return this.r.x })\n            .attr('y', function(d) { return this.r.y })\n            .attr('width', function(d) { return this.r.w })\n            .attr('height', function(d) { return this.r.h });\n        }\n\n        // Define labeling for the selection\n        function label(selection, transitionMillis) {\n        }\n        // Create selections, set the initial state and transition updates\n        selection = main.selectAll('.element').data(data._rows, function(d) { return d.key });\n        var added = selection.enter().append('rect');\n        merged = selection.merge(added);\n        initialState(added);\n        selection.filter(BrunelD3.hasData)\n          .classed('selected', BrunelD3.isSelected(data))\n          .filter(BrunelD3.isSelected(data)).raise();\n        updateState(BrunelD3.transition(merged, transitionMillis));\n\n        BrunelD3.transition(selection.exit(), transitionMillis/3)\n          .style('opacity', 0.5).each( function() {\n            this.remove(); BrunelD3.removeLabels(this); \n        });\n      }\n\n      return {\n        data:           function() { return processed },\n        original:       function() { return original },\n        internal:       function() { return data },\n        selection:      function() { return merged },\n        makeData:       makeData,\n        build:          build,\n        chart:          function() { return charts[0] },\n        group:          function() { return elementGroup },\n        fields: {\n          x:            ['feature'],\n          y:            ['importance'],\n          key:          ['feature']\n        }\n      };\n    }();\n\n    function build(time, noData) {\n      var first = elements[0].data() == null;\n      if (first) time = 0;                                           // no transition for first call\n      buildAxes(time);\n      if ((first || time > -1) && !noData) {\n        elements[0].makeData();\n      }\n      elements[0].build(time);\n    }\n\n    // Expose the following components of the chart\n    return {\n      elements : elements,\n      interior : interior,\n      scales: {x:scale_x, y:scale_y},\n      zoom: function(params, time) {\n          if (params) zoom.on('zoom').call(zoomNode, params, time);\n          return d3.zoomTransform(zoomNode);\n      },\n      build : build\n    };\n    }();\n\n  function setData(rowData, i) { datasets[i||0] = BrunelD3.makeData(rowData) }\n  function updateAll(time) { charts.forEach(function(x) {x.build(time || 0)}) }\n  function buildAll() {\n    for (var i=0;i<arguments.length;i++) setData(arguments[i], i);\n    updateAll(transitionTime);\n  }\n\n  return {\n    dataPreProcess:     function(f) { if (f) pre = f; return pre },\n    dataPostProcess:    function(f) { if (f) post = f; return post },\n    data:               function(d,i) { if (d) setData(d,i); return datasets[i||0] },\n    visId:              visId,\n    build:              buildAll,\n    rebuild:            updateAll,\n    charts:             charts\n  }\n}\n\n// Data Tables /////////////////////////////////////////////////////////////////////////////////////\n\nvar table1 = {\n   summarized: false,\n   names: ['feature', 'importance'], \n   options: ['string', 'numeric'], \n   rows: [['AGE', 0.3150585], ['GENDER', 0.2402183], ['PROFESSION', 0.2384905],\n  ['MARITAL_STATUS', 0.2062327]]\n};\n\n// Call Code to Build the system ///////////////////////////////////////////////////////////////////\n\nvar v  = new BrunelVis('visidfb3fac36-5e60-11ea-b7bc-6fda9e14f743');\nv.build(table1);\n\n    });\n});",
                        "text/plain": "<IPython.core.display.Javascript object>"
                    },
                    "metadata": {}
                }
            ]
        },
        {
            "metadata": {},
            "cell_type": "markdown",
            "source": "As you can see form the plot above the features `AGE` and `PROFESSION` are important in deciding the outcome of our machine learning model."
        },
        {
            "metadata": {},
            "cell_type": "code",
            "source": "predictions = model_rf.transform(test_data)\nevaluatorRF = MulticlassClassificationEvaluator(labelCol='label', predictionCol='prediction', metricName='accuracy')\naccuracy = evaluatorRF.evaluate(predictions)\n\nprint('Accuracy = {:.2f}%'.format(accuracy*100))\nprint('Test Error = {:.2f}%'.format((1.0 - accuracy)*100))",
            "execution_count": 21,
            "outputs": [
                {
                    "output_type": "stream",
                    "text": "Accuracy = 58.33%\nTest Error = 41.67%\n",
                    "name": "stdout"
                }
            ]
        },
        {
            "metadata": {
                "collapsed": true
            },
            "cell_type": "markdown",
            "source": "You can tune your model to achieve better accuracy. For simplicity, the tuning step is omitted in this example."
        },
        {
            "metadata": {},
            "cell_type": "markdown",
            "source": "<a id=\"visualization\"></a>\n## 4. Predict and visualize prediction results"
        },
        {
            "metadata": {},
            "cell_type": "markdown",
            "source": "In this section, you will learn how to score the model using test data and visualize the prediction results.\n\n- [4.1 Make a prediction using the trained model and test data](#local)\n- [4.2 Visualize data](#plotly)"
        },
        {
            "metadata": {},
            "cell_type": "markdown",
            "source": "### 4.1 Make a prediction using the trained model and test data<a id=\"local\"></a>"
        },
        {
            "metadata": {},
            "cell_type": "markdown",
            "source": "In this subsection, you will score the model with the *test_data* data set that we kept aside earlier."
        },
        {
            "metadata": {},
            "cell_type": "code",
            "source": "predictions = model_rf.transform(test_data)",
            "execution_count": 22,
            "outputs": []
        },
        {
            "metadata": {},
            "cell_type": "markdown",
            "source": "Let us preview the predictions DataFrame. We will convert this to a Pandas dataframe first."
        },
        {
            "metadata": {},
            "cell_type": "code",
            "source": "predictions_pd = predictions.toPandas()\npredictions_pd.head()",
            "execution_count": 23,
            "outputs": [
                {
                    "output_type": "execute_result",
                    "execution_count": 23,
                    "data": {
                        "text/html": "<div>\n<style scoped>\n    .dataframe tbody tr th:only-of-type {\n        vertical-align: middle;\n    }\n\n    .dataframe tbody tr th {\n        vertical-align: top;\n    }\n\n    .dataframe thead th {\n        text-align: right;\n    }\n</style>\n<table border=\"1\" class=\"dataframe\">\n  <thead>\n    <tr style=\"text-align: right;\">\n      <th></th>\n      <th>PRODUCT_LINE</th>\n      <th>GENDER</th>\n      <th>AGE</th>\n      <th>MARITAL_STATUS</th>\n      <th>PROFESSION</th>\n      <th>label</th>\n      <th>PROFESSION_IX</th>\n      <th>GENDER_IX</th>\n      <th>MARITAL_STATUS_IX</th>\n      <th>features</th>\n      <th>rawPrediction</th>\n      <th>probability</th>\n      <th>prediction</th>\n      <th>predictedLabel</th>\n    </tr>\n  </thead>\n  <tbody>\n    <tr>\n      <th>0</th>\n      <td>Camping Equipment</td>\n      <td>F</td>\n      <td>18</td>\n      <td>Single</td>\n      <td>Other</td>\n      <td>0.0</td>\n      <td>0.0</td>\n      <td>1.0</td>\n      <td>1.0</td>\n      <td>[1.0, 18.0, 1.0, 0.0]</td>\n      <td>[5.124552125949895, 10.605156378261995, 3.6527...</td>\n      <td>[0.25622760629749475, 0.5302578189130998, 0.18...</td>\n      <td>1.0</td>\n      <td>Personal Accessories</td>\n    </tr>\n    <tr>\n      <th>1</th>\n      <td>Camping Equipment</td>\n      <td>F</td>\n      <td>18</td>\n      <td>Single</td>\n      <td>Retail</td>\n      <td>0.0</td>\n      <td>7.0</td>\n      <td>1.0</td>\n      <td>1.0</td>\n      <td>[1.0, 18.0, 1.0, 7.0]</td>\n      <td>[2.8801550883500178, 14.633599219456125, 1.844...</td>\n      <td>[0.14400775441750088, 0.7316799609728062, 0.09...</td>\n      <td>1.0</td>\n      <td>Personal Accessories</td>\n    </tr>\n    <tr>\n      <th>2</th>\n      <td>Camping Equipment</td>\n      <td>F</td>\n      <td>19</td>\n      <td>Single</td>\n      <td>Hospitality</td>\n      <td>0.0</td>\n      <td>5.0</td>\n      <td>1.0</td>\n      <td>1.0</td>\n      <td>[1.0, 19.0, 1.0, 5.0]</td>\n      <td>[11.865711439003766, 6.169157712269847, 1.3703...</td>\n      <td>[0.5932855719501883, 0.30845788561349236, 0.06...</td>\n      <td>0.0</td>\n      <td>Camping Equipment</td>\n    </tr>\n    <tr>\n      <th>3</th>\n      <td>Camping Equipment</td>\n      <td>F</td>\n      <td>19</td>\n      <td>Single</td>\n      <td>Hospitality</td>\n      <td>0.0</td>\n      <td>5.0</td>\n      <td>1.0</td>\n      <td>1.0</td>\n      <td>[1.0, 19.0, 1.0, 5.0]</td>\n      <td>[11.865711439003766, 6.169157712269847, 1.3703...</td>\n      <td>[0.5932855719501883, 0.30845788561349236, 0.06...</td>\n      <td>0.0</td>\n      <td>Camping Equipment</td>\n    </tr>\n    <tr>\n      <th>4</th>\n      <td>Camping Equipment</td>\n      <td>F</td>\n      <td>19</td>\n      <td>Single</td>\n      <td>Hospitality</td>\n      <td>0.0</td>\n      <td>5.0</td>\n      <td>1.0</td>\n      <td>1.0</td>\n      <td>[1.0, 19.0, 1.0, 5.0]</td>\n      <td>[11.865711439003766, 6.169157712269847, 1.3703...</td>\n      <td>[0.5932855719501883, 0.30845788561349236, 0.06...</td>\n      <td>0.0</td>\n      <td>Camping Equipment</td>\n    </tr>\n  </tbody>\n</table>\n</div>",
                        "text/plain": "        PRODUCT_LINE GENDER  AGE MARITAL_STATUS   PROFESSION  label  \\\n0  Camping Equipment      F   18         Single        Other    0.0   \n1  Camping Equipment      F   18         Single       Retail    0.0   \n2  Camping Equipment      F   19         Single  Hospitality    0.0   \n3  Camping Equipment      F   19         Single  Hospitality    0.0   \n4  Camping Equipment      F   19         Single  Hospitality    0.0   \n\n   PROFESSION_IX  GENDER_IX  MARITAL_STATUS_IX               features  \\\n0            0.0        1.0                1.0  [1.0, 18.0, 1.0, 0.0]   \n1            7.0        1.0                1.0  [1.0, 18.0, 1.0, 7.0]   \n2            5.0        1.0                1.0  [1.0, 19.0, 1.0, 5.0]   \n3            5.0        1.0                1.0  [1.0, 19.0, 1.0, 5.0]   \n4            5.0        1.0                1.0  [1.0, 19.0, 1.0, 5.0]   \n\n                                       rawPrediction  \\\n0  [5.124552125949895, 10.605156378261995, 3.6527...   \n1  [2.8801550883500178, 14.633599219456125, 1.844...   \n2  [11.865711439003766, 6.169157712269847, 1.3703...   \n3  [11.865711439003766, 6.169157712269847, 1.3703...   \n4  [11.865711439003766, 6.169157712269847, 1.3703...   \n\n                                         probability  prediction  \\\n0  [0.25622760629749475, 0.5302578189130998, 0.18...         1.0   \n1  [0.14400775441750088, 0.7316799609728062, 0.09...         1.0   \n2  [0.5932855719501883, 0.30845788561349236, 0.06...         0.0   \n3  [0.5932855719501883, 0.30845788561349236, 0.06...         0.0   \n4  [0.5932855719501883, 0.30845788561349236, 0.06...         0.0   \n\n         predictedLabel  \n0  Personal Accessories  \n1  Personal Accessories  \n2     Camping Equipment  \n3     Camping Equipment  \n4     Camping Equipment  "
                    },
                    "metadata": {}
                }
            ]
        },
        {
            "metadata": {},
            "cell_type": "markdown",
            "source": "### 4.2 Visualize results <a id=\"plotly\"></a>"
        },
        {
            "metadata": {},
            "cell_type": "markdown",
            "source": "In this subsection, you will use the Plotly package to explore the prediction results. Plotly is an online analytics and data visualization tool."
        },
        {
            "metadata": {},
            "cell_type": "markdown",
            "source": "Import Plotly and the other required packages."
        },
        {
            "metadata": {},
            "cell_type": "code",
            "source": "from plotly.offline import download_plotlyjs, init_notebook_mode, plot, iplot\nimport plotly.graph_objs as go\nimport sys\n\ninit_notebook_mode(connected=True)\nsys.path.append(''.join([os.environ['HOME']])) ",
            "execution_count": 29,
            "outputs": [
                {
                    "output_type": "display_data",
                    "data": {
                        "text/html": "        <script type=\"text/javascript\">\n        window.PlotlyConfig = {MathJaxConfig: 'local'};\n        if (window.MathJax) {MathJax.Hub.Config({SVG: {font: \"STIX-Web\"}});}\n        if (typeof require !== 'undefined') {\n        require.undef(\"plotly\");\n        requirejs.config({\n            paths: {\n                'plotly': ['https://cdn.plot.ly/plotly-latest.min']\n            }\n        });\n        require(['plotly'], function(Plotly) {\n            window._Plotly = Plotly;\n        });\n        }\n        </script>\n        "
                    },
                    "metadata": {}
                }
            ]
        },
        {
            "metadata": {},
            "cell_type": "markdown",
            "source": "Plot a pie chart that shows the predicted product-line interest."
        },
        {
            "metadata": {},
            "cell_type": "code",
            "source": "cumulative_stats = predictions_pd.groupby(['predictedLabel']).count()\nproduct_data = [go.Pie(labels=cumulative_stats.index, values=cumulative_stats['GENDER'])]\nproduct_layout = go.Layout(title='Predicted product line client interest distribution')\n\nfig = go.Figure(data=product_data, layout=product_layout)\niplot(fig)",
            "execution_count": 30,
            "outputs": [
                {
                    "output_type": "display_data",
                    "data": {
                        "text/html": "<div>\n        \n        \n            <div id=\"19fb4a4d-fa1b-4b12-b57d-8b870d246f71\" class=\"plotly-graph-div\" style=\"height:525px; width:100%;\"></div>\n            <script type=\"text/javascript\">\n                require([\"plotly\"], function(Plotly) {\n                    window.PLOTLYENV=window.PLOTLYENV || {};\n                    \n                if (document.getElementById(\"19fb4a4d-fa1b-4b12-b57d-8b870d246f71\")) {\n                    Plotly.newPlot(\n                        '19fb4a4d-fa1b-4b12-b57d-8b870d246f71',\n                        [{\"labels\": [\"Camping Equipment\", \"Golf Equipment\", \"Mountaineering Equipment\", \"Personal Accessories\"], \"type\": \"pie\", \"values\": [7211, 647, 762, 3456]}],\n                        {\"template\": {\"data\": {\"bar\": [{\"error_x\": {\"color\": \"#2a3f5f\"}, \"error_y\": {\"color\": \"#2a3f5f\"}, \"marker\": {\"line\": {\"color\": \"#E5ECF6\", \"width\": 0.5}}, \"type\": \"bar\"}], \"barpolar\": [{\"marker\": {\"line\": {\"color\": \"#E5ECF6\", \"width\": 0.5}}, \"type\": \"barpolar\"}], \"carpet\": [{\"aaxis\": {\"endlinecolor\": \"#2a3f5f\", \"gridcolor\": \"white\", \"linecolor\": \"white\", \"minorgridcolor\": \"white\", \"startlinecolor\": \"#2a3f5f\"}, \"baxis\": {\"endlinecolor\": \"#2a3f5f\", \"gridcolor\": \"white\", \"linecolor\": \"white\", \"minorgridcolor\": \"white\", \"startlinecolor\": \"#2a3f5f\"}, \"type\": \"carpet\"}], \"choropleth\": [{\"colorbar\": {\"outlinewidth\": 0, \"ticks\": \"\"}, \"type\": \"choropleth\"}], \"contour\": [{\"colorbar\": {\"outlinewidth\": 0, \"ticks\": \"\"}, \"colorscale\": [[0.0, \"#0d0887\"], [0.1111111111111111, \"#46039f\"], [0.2222222222222222, \"#7201a8\"], [0.3333333333333333, \"#9c179e\"], [0.4444444444444444, \"#bd3786\"], [0.5555555555555556, \"#d8576b\"], [0.6666666666666666, \"#ed7953\"], [0.7777777777777778, \"#fb9f3a\"], [0.8888888888888888, \"#fdca26\"], [1.0, \"#f0f921\"]], \"type\": \"contour\"}], \"contourcarpet\": [{\"colorbar\": {\"outlinewidth\": 0, \"ticks\": \"\"}, \"type\": \"contourcarpet\"}], \"heatmap\": [{\"colorbar\": {\"outlinewidth\": 0, \"ticks\": \"\"}, \"colorscale\": [[0.0, \"#0d0887\"], [0.1111111111111111, \"#46039f\"], [0.2222222222222222, \"#7201a8\"], [0.3333333333333333, \"#9c179e\"], [0.4444444444444444, \"#bd3786\"], [0.5555555555555556, \"#d8576b\"], [0.6666666666666666, \"#ed7953\"], [0.7777777777777778, \"#fb9f3a\"], [0.8888888888888888, \"#fdca26\"], [1.0, \"#f0f921\"]], \"type\": \"heatmap\"}], \"heatmapgl\": [{\"colorbar\": {\"outlinewidth\": 0, \"ticks\": \"\"}, \"colorscale\": [[0.0, \"#0d0887\"], [0.1111111111111111, \"#46039f\"], [0.2222222222222222, \"#7201a8\"], [0.3333333333333333, \"#9c179e\"], [0.4444444444444444, \"#bd3786\"], [0.5555555555555556, \"#d8576b\"], [0.6666666666666666, \"#ed7953\"], [0.7777777777777778, \"#fb9f3a\"], [0.8888888888888888, \"#fdca26\"], [1.0, \"#f0f921\"]], \"type\": \"heatmapgl\"}], \"histogram\": [{\"marker\": {\"colorbar\": {\"outlinewidth\": 0, \"ticks\": \"\"}}, \"type\": \"histogram\"}], \"histogram2d\": [{\"colorbar\": {\"outlinewidth\": 0, \"ticks\": \"\"}, \"colorscale\": [[0.0, \"#0d0887\"], [0.1111111111111111, \"#46039f\"], [0.2222222222222222, \"#7201a8\"], [0.3333333333333333, \"#9c179e\"], [0.4444444444444444, \"#bd3786\"], [0.5555555555555556, \"#d8576b\"], [0.6666666666666666, \"#ed7953\"], [0.7777777777777778, \"#fb9f3a\"], [0.8888888888888888, \"#fdca26\"], [1.0, \"#f0f921\"]], \"type\": \"histogram2d\"}], \"histogram2dcontour\": [{\"colorbar\": {\"outlinewidth\": 0, \"ticks\": \"\"}, \"colorscale\": [[0.0, \"#0d0887\"], [0.1111111111111111, \"#46039f\"], [0.2222222222222222, \"#7201a8\"], [0.3333333333333333, \"#9c179e\"], [0.4444444444444444, \"#bd3786\"], [0.5555555555555556, \"#d8576b\"], [0.6666666666666666, \"#ed7953\"], [0.7777777777777778, \"#fb9f3a\"], [0.8888888888888888, \"#fdca26\"], [1.0, \"#f0f921\"]], \"type\": \"histogram2dcontour\"}], \"mesh3d\": [{\"colorbar\": {\"outlinewidth\": 0, \"ticks\": \"\"}, \"type\": \"mesh3d\"}], \"parcoords\": [{\"line\": {\"colorbar\": {\"outlinewidth\": 0, \"ticks\": \"\"}}, \"type\": \"parcoords\"}], \"pie\": [{\"automargin\": true, \"type\": \"pie\"}], \"scatter\": [{\"marker\": {\"colorbar\": {\"outlinewidth\": 0, \"ticks\": \"\"}}, \"type\": \"scatter\"}], \"scatter3d\": [{\"line\": {\"colorbar\": {\"outlinewidth\": 0, \"ticks\": \"\"}}, \"marker\": {\"colorbar\": {\"outlinewidth\": 0, \"ticks\": \"\"}}, \"type\": \"scatter3d\"}], \"scattercarpet\": [{\"marker\": {\"colorbar\": {\"outlinewidth\": 0, \"ticks\": \"\"}}, \"type\": \"scattercarpet\"}], \"scattergeo\": [{\"marker\": {\"colorbar\": {\"outlinewidth\": 0, \"ticks\": \"\"}}, \"type\": \"scattergeo\"}], \"scattergl\": [{\"marker\": {\"colorbar\": {\"outlinewidth\": 0, \"ticks\": \"\"}}, \"type\": \"scattergl\"}], \"scattermapbox\": [{\"marker\": {\"colorbar\": {\"outlinewidth\": 0, \"ticks\": \"\"}}, \"type\": \"scattermapbox\"}], \"scatterpolar\": [{\"marker\": {\"colorbar\": {\"outlinewidth\": 0, \"ticks\": \"\"}}, \"type\": \"scatterpolar\"}], \"scatterpolargl\": [{\"marker\": {\"colorbar\": {\"outlinewidth\": 0, \"ticks\": \"\"}}, \"type\": \"scatterpolargl\"}], \"scatterternary\": [{\"marker\": {\"colorbar\": {\"outlinewidth\": 0, \"ticks\": \"\"}}, \"type\": \"scatterternary\"}], \"surface\": [{\"colorbar\": {\"outlinewidth\": 0, \"ticks\": \"\"}, \"colorscale\": [[0.0, \"#0d0887\"], [0.1111111111111111, \"#46039f\"], [0.2222222222222222, \"#7201a8\"], [0.3333333333333333, \"#9c179e\"], [0.4444444444444444, \"#bd3786\"], [0.5555555555555556, \"#d8576b\"], [0.6666666666666666, \"#ed7953\"], [0.7777777777777778, \"#fb9f3a\"], [0.8888888888888888, \"#fdca26\"], [1.0, \"#f0f921\"]], \"type\": \"surface\"}], \"table\": [{\"cells\": {\"fill\": {\"color\": \"#EBF0F8\"}, \"line\": {\"color\": \"white\"}}, \"header\": {\"fill\": {\"color\": \"#C8D4E3\"}, \"line\": {\"color\": \"white\"}}, \"type\": \"table\"}]}, \"layout\": {\"annotationdefaults\": {\"arrowcolor\": \"#2a3f5f\", \"arrowhead\": 0, \"arrowwidth\": 1}, \"coloraxis\": {\"colorbar\": {\"outlinewidth\": 0, \"ticks\": \"\"}}, \"colorscale\": {\"diverging\": [[0, \"#8e0152\"], [0.1, \"#c51b7d\"], [0.2, \"#de77ae\"], [0.3, \"#f1b6da\"], [0.4, \"#fde0ef\"], [0.5, \"#f7f7f7\"], [0.6, \"#e6f5d0\"], [0.7, \"#b8e186\"], [0.8, \"#7fbc41\"], [0.9, \"#4d9221\"], [1, \"#276419\"]], \"sequential\": [[0.0, \"#0d0887\"], [0.1111111111111111, \"#46039f\"], [0.2222222222222222, \"#7201a8\"], [0.3333333333333333, \"#9c179e\"], [0.4444444444444444, \"#bd3786\"], [0.5555555555555556, \"#d8576b\"], [0.6666666666666666, \"#ed7953\"], [0.7777777777777778, \"#fb9f3a\"], [0.8888888888888888, \"#fdca26\"], [1.0, \"#f0f921\"]], \"sequentialminus\": [[0.0, \"#0d0887\"], [0.1111111111111111, \"#46039f\"], [0.2222222222222222, \"#7201a8\"], [0.3333333333333333, \"#9c179e\"], [0.4444444444444444, \"#bd3786\"], [0.5555555555555556, \"#d8576b\"], [0.6666666666666666, \"#ed7953\"], [0.7777777777777778, \"#fb9f3a\"], [0.8888888888888888, \"#fdca26\"], [1.0, \"#f0f921\"]]}, \"colorway\": [\"#636efa\", \"#EF553B\", \"#00cc96\", \"#ab63fa\", \"#FFA15A\", \"#19d3f3\", \"#FF6692\", \"#B6E880\", \"#FF97FF\", \"#FECB52\"], \"font\": {\"color\": \"#2a3f5f\"}, \"geo\": {\"bgcolor\": \"white\", \"lakecolor\": \"white\", \"landcolor\": \"#E5ECF6\", \"showlakes\": true, \"showland\": true, \"subunitcolor\": \"white\"}, \"hoverlabel\": {\"align\": \"left\"}, \"hovermode\": \"closest\", \"mapbox\": {\"style\": \"light\"}, \"paper_bgcolor\": \"white\", \"plot_bgcolor\": \"#E5ECF6\", \"polar\": {\"angularaxis\": {\"gridcolor\": \"white\", \"linecolor\": \"white\", \"ticks\": \"\"}, \"bgcolor\": \"#E5ECF6\", \"radialaxis\": {\"gridcolor\": \"white\", \"linecolor\": \"white\", \"ticks\": \"\"}}, \"scene\": {\"xaxis\": {\"backgroundcolor\": \"#E5ECF6\", \"gridcolor\": \"white\", \"gridwidth\": 2, \"linecolor\": \"white\", \"showbackground\": true, \"ticks\": \"\", \"zerolinecolor\": \"white\"}, \"yaxis\": {\"backgroundcolor\": \"#E5ECF6\", \"gridcolor\": \"white\", \"gridwidth\": 2, \"linecolor\": \"white\", \"showbackground\": true, \"ticks\": \"\", \"zerolinecolor\": \"white\"}, \"zaxis\": {\"backgroundcolor\": \"#E5ECF6\", \"gridcolor\": \"white\", \"gridwidth\": 2, \"linecolor\": \"white\", \"showbackground\": true, \"ticks\": \"\", \"zerolinecolor\": \"white\"}}, \"shapedefaults\": {\"line\": {\"color\": \"#2a3f5f\"}}, \"ternary\": {\"aaxis\": {\"gridcolor\": \"white\", \"linecolor\": \"white\", \"ticks\": \"\"}, \"baxis\": {\"gridcolor\": \"white\", \"linecolor\": \"white\", \"ticks\": \"\"}, \"bgcolor\": \"#E5ECF6\", \"caxis\": {\"gridcolor\": \"white\", \"linecolor\": \"white\", \"ticks\": \"\"}}, \"title\": {\"x\": 0.05}, \"xaxis\": {\"automargin\": true, \"gridcolor\": \"white\", \"linecolor\": \"white\", \"ticks\": \"\", \"title\": {\"standoff\": 15}, \"zerolinecolor\": \"white\", \"zerolinewidth\": 2}, \"yaxis\": {\"automargin\": true, \"gridcolor\": \"white\", \"linecolor\": \"white\", \"ticks\": \"\", \"title\": {\"standoff\": 15}, \"zerolinecolor\": \"white\", \"zerolinewidth\": 2}}}, \"title\": {\"text\": \"Predicted product line client interest distribution\"}},\n                        {\"responsive\": true}\n                    ).then(function(){\n                            \nvar gd = document.getElementById('19fb4a4d-fa1b-4b12-b57d-8b870d246f71');\nvar x = new MutationObserver(function (mutations, observer) {{\n        var display = window.getComputedStyle(gd).display;\n        if (!display || display === 'none') {{\n            console.log([gd, 'removed!']);\n            Plotly.purge(gd);\n            observer.disconnect();\n        }}\n}});\n\n// Listen for the removal of the full notebook cells\nvar notebookContainer = gd.closest('#notebook-container');\nif (notebookContainer) {{\n    x.observe(notebookContainer, {childList: true});\n}}\n\n// Listen for the clearing of the current output cell\nvar outputEl = gd.closest('.output');\nif (outputEl) {{\n    x.observe(outputEl, {childList: true});\n}}\n\n                        })\n                };\n                });\n            </script>\n        </div>",
                        "application/vnd.plotly.v1+json": {
                            "data": [
                                {
                                    "values": [
                                        7211,
                                        647,
                                        762,
                                        3456
                                    ],
                                    "labels": [
                                        "Camping Equipment",
                                        "Golf Equipment",
                                        "Mountaineering Equipment",
                                        "Personal Accessories"
                                    ],
                                    "type": "pie"
                                }
                            ],
                            "config": {
                                "plotlyServerURL": "https://plot.ly",
                                "linkText": "Export to plot.ly",
                                "showLink": false
                            },
                            "layout": {
                                "template": {
                                    "layout": {
                                        "shapedefaults": {
                                            "line": {
                                                "color": "#2a3f5f"
                                            }
                                        },
                                        "polar": {
                                            "radialaxis": {
                                                "ticks": "",
                                                "gridcolor": "white",
                                                "linecolor": "white"
                                            },
                                            "bgcolor": "#E5ECF6",
                                            "angularaxis": {
                                                "ticks": "",
                                                "gridcolor": "white",
                                                "linecolor": "white"
                                            }
                                        },
                                        "colorway": [
                                            "#636efa",
                                            "#EF553B",
                                            "#00cc96",
                                            "#ab63fa",
                                            "#FFA15A",
                                            "#19d3f3",
                                            "#FF6692",
                                            "#B6E880",
                                            "#FF97FF",
                                            "#FECB52"
                                        ],
                                        "xaxis": {
                                            "automargin": true,
                                            "title": {
                                                "standoff": 15
                                            },
                                            "zerolinewidth": 2,
                                            "ticks": "",
                                            "zerolinecolor": "white",
                                            "gridcolor": "white",
                                            "linecolor": "white"
                                        },
                                        "colorscale": {
                                            "diverging": [
                                                [
                                                    0,
                                                    "#8e0152"
                                                ],
                                                [
                                                    0.1,
                                                    "#c51b7d"
                                                ],
                                                [
                                                    0.2,
                                                    "#de77ae"
                                                ],
                                                [
                                                    0.3,
                                                    "#f1b6da"
                                                ],
                                                [
                                                    0.4,
                                                    "#fde0ef"
                                                ],
                                                [
                                                    0.5,
                                                    "#f7f7f7"
                                                ],
                                                [
                                                    0.6,
                                                    "#e6f5d0"
                                                ],
                                                [
                                                    0.7,
                                                    "#b8e186"
                                                ],
                                                [
                                                    0.8,
                                                    "#7fbc41"
                                                ],
                                                [
                                                    0.9,
                                                    "#4d9221"
                                                ],
                                                [
                                                    1,
                                                    "#276419"
                                                ]
                                            ],
                                            "sequential": [
                                                [
                                                    0,
                                                    "#0d0887"
                                                ],
                                                [
                                                    0.1111111111111111,
                                                    "#46039f"
                                                ],
                                                [
                                                    0.2222222222222222,
                                                    "#7201a8"
                                                ],
                                                [
                                                    0.3333333333333333,
                                                    "#9c179e"
                                                ],
                                                [
                                                    0.4444444444444444,
                                                    "#bd3786"
                                                ],
                                                [
                                                    0.5555555555555556,
                                                    "#d8576b"
                                                ],
                                                [
                                                    0.6666666666666666,
                                                    "#ed7953"
                                                ],
                                                [
                                                    0.7777777777777778,
                                                    "#fb9f3a"
                                                ],
                                                [
                                                    0.8888888888888888,
                                                    "#fdca26"
                                                ],
                                                [
                                                    1,
                                                    "#f0f921"
                                                ]
                                            ],
                                            "sequentialminus": [
                                                [
                                                    0,
                                                    "#0d0887"
                                                ],
                                                [
                                                    0.1111111111111111,
                                                    "#46039f"
                                                ],
                                                [
                                                    0.2222222222222222,
                                                    "#7201a8"
                                                ],
                                                [
                                                    0.3333333333333333,
                                                    "#9c179e"
                                                ],
                                                [
                                                    0.4444444444444444,
                                                    "#bd3786"
                                                ],
                                                [
                                                    0.5555555555555556,
                                                    "#d8576b"
                                                ],
                                                [
                                                    0.6666666666666666,
                                                    "#ed7953"
                                                ],
                                                [
                                                    0.7777777777777778,
                                                    "#fb9f3a"
                                                ],
                                                [
                                                    0.8888888888888888,
                                                    "#fdca26"
                                                ],
                                                [
                                                    1,
                                                    "#f0f921"
                                                ]
                                            ]
                                        },
                                        "paper_bgcolor": "white",
                                        "plot_bgcolor": "#E5ECF6",
                                        "title": {
                                            "x": 0.05
                                        },
                                        "scene": {
                                            "zaxis": {
                                                "backgroundcolor": "#E5ECF6",
                                                "ticks": "",
                                                "gridwidth": 2,
                                                "showbackground": true,
                                                "zerolinecolor": "white",
                                                "gridcolor": "white",
                                                "linecolor": "white"
                                            },
                                            "xaxis": {
                                                "backgroundcolor": "#E5ECF6",
                                                "ticks": "",
                                                "gridwidth": 2,
                                                "showbackground": true,
                                                "zerolinecolor": "white",
                                                "gridcolor": "white",
                                                "linecolor": "white"
                                            },
                                            "yaxis": {
                                                "backgroundcolor": "#E5ECF6",
                                                "ticks": "",
                                                "gridwidth": 2,
                                                "showbackground": true,
                                                "zerolinecolor": "white",
                                                "gridcolor": "white",
                                                "linecolor": "white"
                                            }
                                        },
                                        "yaxis": {
                                            "automargin": true,
                                            "title": {
                                                "standoff": 15
                                            },
                                            "zerolinewidth": 2,
                                            "ticks": "",
                                            "zerolinecolor": "white",
                                            "gridcolor": "white",
                                            "linecolor": "white"
                                        },
                                        "annotationdefaults": {
                                            "arrowwidth": 1,
                                            "arrowhead": 0,
                                            "arrowcolor": "#2a3f5f"
                                        },
                                        "hoverlabel": {
                                            "align": "left"
                                        },
                                        "ternary": {
                                            "bgcolor": "#E5ECF6",
                                            "baxis": {
                                                "ticks": "",
                                                "gridcolor": "white",
                                                "linecolor": "white"
                                            },
                                            "caxis": {
                                                "ticks": "",
                                                "gridcolor": "white",
                                                "linecolor": "white"
                                            },
                                            "aaxis": {
                                                "ticks": "",
                                                "gridcolor": "white",
                                                "linecolor": "white"
                                            }
                                        },
                                        "mapbox": {
                                            "style": "light"
                                        },
                                        "hovermode": "closest",
                                        "font": {
                                            "color": "#2a3f5f"
                                        },
                                        "geo": {
                                            "showland": true,
                                            "landcolor": "#E5ECF6",
                                            "showlakes": true,
                                            "bgcolor": "white",
                                            "subunitcolor": "white",
                                            "lakecolor": "white"
                                        },
                                        "coloraxis": {
                                            "colorbar": {
                                                "outlinewidth": 0,
                                                "ticks": ""
                                            }
                                        }
                                    },
                                    "data": {
                                        "mesh3d": [
                                            {
                                                "colorbar": {
                                                    "outlinewidth": 0,
                                                    "ticks": ""
                                                },
                                                "type": "mesh3d"
                                            }
                                        ],
                                        "scattercarpet": [
                                            {
                                                "marker": {
                                                    "colorbar": {
                                                        "outlinewidth": 0,
                                                        "ticks": ""
                                                    }
                                                },
                                                "type": "scattercarpet"
                                            }
                                        ],
                                        "pie": [
                                            {
                                                "automargin": true,
                                                "type": "pie"
                                            }
                                        ],
                                        "surface": [
                                            {
                                                "colorbar": {
                                                    "outlinewidth": 0,
                                                    "ticks": ""
                                                },
                                                "type": "surface",
                                                "colorscale": [
                                                    [
                                                        0,
                                                        "#0d0887"
                                                    ],
                                                    [
                                                        0.1111111111111111,
                                                        "#46039f"
                                                    ],
                                                    [
                                                        0.2222222222222222,
                                                        "#7201a8"
                                                    ],
                                                    [
                                                        0.3333333333333333,
                                                        "#9c179e"
                                                    ],
                                                    [
                                                        0.4444444444444444,
                                                        "#bd3786"
                                                    ],
                                                    [
                                                        0.5555555555555556,
                                                        "#d8576b"
                                                    ],
                                                    [
                                                        0.6666666666666666,
                                                        "#ed7953"
                                                    ],
                                                    [
                                                        0.7777777777777778,
                                                        "#fb9f3a"
                                                    ],
                                                    [
                                                        0.8888888888888888,
                                                        "#fdca26"
                                                    ],
                                                    [
                                                        1,
                                                        "#f0f921"
                                                    ]
                                                ]
                                            }
                                        ],
                                        "table": [
                                            {
                                                "header": {
                                                    "line": {
                                                        "color": "white"
                                                    },
                                                    "fill": {
                                                        "color": "#C8D4E3"
                                                    }
                                                },
                                                "cells": {
                                                    "line": {
                                                        "color": "white"
                                                    },
                                                    "fill": {
                                                        "color": "#EBF0F8"
                                                    }
                                                },
                                                "type": "table"
                                            }
                                        ],
                                        "scatterpolargl": [
                                            {
                                                "marker": {
                                                    "colorbar": {
                                                        "outlinewidth": 0,
                                                        "ticks": ""
                                                    }
                                                },
                                                "type": "scatterpolargl"
                                            }
                                        ],
                                        "contour": [
                                            {
                                                "colorbar": {
                                                    "outlinewidth": 0,
                                                    "ticks": ""
                                                },
                                                "type": "contour",
                                                "colorscale": [
                                                    [
                                                        0,
                                                        "#0d0887"
                                                    ],
                                                    [
                                                        0.1111111111111111,
                                                        "#46039f"
                                                    ],
                                                    [
                                                        0.2222222222222222,
                                                        "#7201a8"
                                                    ],
                                                    [
                                                        0.3333333333333333,
                                                        "#9c179e"
                                                    ],
                                                    [
                                                        0.4444444444444444,
                                                        "#bd3786"
                                                    ],
                                                    [
                                                        0.5555555555555556,
                                                        "#d8576b"
                                                    ],
                                                    [
                                                        0.6666666666666666,
                                                        "#ed7953"
                                                    ],
                                                    [
                                                        0.7777777777777778,
                                                        "#fb9f3a"
                                                    ],
                                                    [
                                                        0.8888888888888888,
                                                        "#fdca26"
                                                    ],
                                                    [
                                                        1,
                                                        "#f0f921"
                                                    ]
                                                ]
                                            }
                                        ],
                                        "carpet": [
                                            {
                                                "type": "carpet",
                                                "baxis": {
                                                    "minorgridcolor": "white",
                                                    "gridcolor": "white",
                                                    "linecolor": "white",
                                                    "endlinecolor": "#2a3f5f",
                                                    "startlinecolor": "#2a3f5f"
                                                },
                                                "aaxis": {
                                                    "minorgridcolor": "white",
                                                    "gridcolor": "white",
                                                    "linecolor": "white",
                                                    "endlinecolor": "#2a3f5f",
                                                    "startlinecolor": "#2a3f5f"
                                                }
                                            }
                                        ],
                                        "contourcarpet": [
                                            {
                                                "colorbar": {
                                                    "outlinewidth": 0,
                                                    "ticks": ""
                                                },
                                                "type": "contourcarpet"
                                            }
                                        ],
                                        "heatmap": [
                                            {
                                                "colorbar": {
                                                    "outlinewidth": 0,
                                                    "ticks": ""
                                                },
                                                "type": "heatmap",
                                                "colorscale": [
                                                    [
                                                        0,
                                                        "#0d0887"
                                                    ],
                                                    [
                                                        0.1111111111111111,
                                                        "#46039f"
                                                    ],
                                                    [
                                                        0.2222222222222222,
                                                        "#7201a8"
                                                    ],
                                                    [
                                                        0.3333333333333333,
                                                        "#9c179e"
                                                    ],
                                                    [
                                                        0.4444444444444444,
                                                        "#bd3786"
                                                    ],
                                                    [
                                                        0.5555555555555556,
                                                        "#d8576b"
                                                    ],
                                                    [
                                                        0.6666666666666666,
                                                        "#ed7953"
                                                    ],
                                                    [
                                                        0.7777777777777778,
                                                        "#fb9f3a"
                                                    ],
                                                    [
                                                        0.8888888888888888,
                                                        "#fdca26"
                                                    ],
                                                    [
                                                        1,
                                                        "#f0f921"
                                                    ]
                                                ]
                                            }
                                        ],
                                        "scattermapbox": [
                                            {
                                                "marker": {
                                                    "colorbar": {
                                                        "outlinewidth": 0,
                                                        "ticks": ""
                                                    }
                                                },
                                                "type": "scattermapbox"
                                            }
                                        ],
                                        "scatter3d": [
                                            {
                                                "marker": {
                                                    "colorbar": {
                                                        "outlinewidth": 0,
                                                        "ticks": ""
                                                    }
                                                },
                                                "line": {
                                                    "colorbar": {
                                                        "outlinewidth": 0,
                                                        "ticks": ""
                                                    }
                                                },
                                                "type": "scatter3d"
                                            }
                                        ],
                                        "scattergl": [
                                            {
                                                "marker": {
                                                    "colorbar": {
                                                        "outlinewidth": 0,
                                                        "ticks": ""
                                                    }
                                                },
                                                "type": "scattergl"
                                            }
                                        ],
                                        "scatterternary": [
                                            {
                                                "marker": {
                                                    "colorbar": {
                                                        "outlinewidth": 0,
                                                        "ticks": ""
                                                    }
                                                },
                                                "type": "scatterternary"
                                            }
                                        ],
                                        "histogram": [
                                            {
                                                "marker": {
                                                    "colorbar": {
                                                        "outlinewidth": 0,
                                                        "ticks": ""
                                                    }
                                                },
                                                "type": "histogram"
                                            }
                                        ],
                                        "heatmapgl": [
                                            {
                                                "colorbar": {
                                                    "outlinewidth": 0,
                                                    "ticks": ""
                                                },
                                                "type": "heatmapgl",
                                                "colorscale": [
                                                    [
                                                        0,
                                                        "#0d0887"
                                                    ],
                                                    [
                                                        0.1111111111111111,
                                                        "#46039f"
                                                    ],
                                                    [
                                                        0.2222222222222222,
                                                        "#7201a8"
                                                    ],
                                                    [
                                                        0.3333333333333333,
                                                        "#9c179e"
                                                    ],
                                                    [
                                                        0.4444444444444444,
                                                        "#bd3786"
                                                    ],
                                                    [
                                                        0.5555555555555556,
                                                        "#d8576b"
                                                    ],
                                                    [
                                                        0.6666666666666666,
                                                        "#ed7953"
                                                    ],
                                                    [
                                                        0.7777777777777778,
                                                        "#fb9f3a"
                                                    ],
                                                    [
                                                        0.8888888888888888,
                                                        "#fdca26"
                                                    ],
                                                    [
                                                        1,
                                                        "#f0f921"
                                                    ]
                                                ]
                                            }
                                        ],
                                        "scatterpolar": [
                                            {
                                                "marker": {
                                                    "colorbar": {
                                                        "outlinewidth": 0,
                                                        "ticks": ""
                                                    }
                                                },
                                                "type": "scatterpolar"
                                            }
                                        ],
                                        "histogram2d": [
                                            {
                                                "colorbar": {
                                                    "outlinewidth": 0,
                                                    "ticks": ""
                                                },
                                                "type": "histogram2d",
                                                "colorscale": [
                                                    [
                                                        0,
                                                        "#0d0887"
                                                    ],
                                                    [
                                                        0.1111111111111111,
                                                        "#46039f"
                                                    ],
                                                    [
                                                        0.2222222222222222,
                                                        "#7201a8"
                                                    ],
                                                    [
                                                        0.3333333333333333,
                                                        "#9c179e"
                                                    ],
                                                    [
                                                        0.4444444444444444,
                                                        "#bd3786"
                                                    ],
                                                    [
                                                        0.5555555555555556,
                                                        "#d8576b"
                                                    ],
                                                    [
                                                        0.6666666666666666,
                                                        "#ed7953"
                                                    ],
                                                    [
                                                        0.7777777777777778,
                                                        "#fb9f3a"
                                                    ],
                                                    [
                                                        0.8888888888888888,
                                                        "#fdca26"
                                                    ],
                                                    [
                                                        1,
                                                        "#f0f921"
                                                    ]
                                                ]
                                            }
                                        ],
                                        "scattergeo": [
                                            {
                                                "marker": {
                                                    "colorbar": {
                                                        "outlinewidth": 0,
                                                        "ticks": ""
                                                    }
                                                },
                                                "type": "scattergeo"
                                            }
                                        ],
                                        "bar": [
                                            {
                                                "marker": {
                                                    "line": {
                                                        "color": "#E5ECF6",
                                                        "width": 0.5
                                                    }
                                                },
                                                "type": "bar",
                                                "error_x": {
                                                    "color": "#2a3f5f"
                                                },
                                                "error_y": {
                                                    "color": "#2a3f5f"
                                                }
                                            }
                                        ],
                                        "choropleth": [
                                            {
                                                "colorbar": {
                                                    "outlinewidth": 0,
                                                    "ticks": ""
                                                },
                                                "type": "choropleth"
                                            }
                                        ],
                                        "parcoords": [
                                            {
                                                "line": {
                                                    "colorbar": {
                                                        "outlinewidth": 0,
                                                        "ticks": ""
                                                    }
                                                },
                                                "type": "parcoords"
                                            }
                                        ],
                                        "barpolar": [
                                            {
                                                "marker": {
                                                    "line": {
                                                        "color": "#E5ECF6",
                                                        "width": 0.5
                                                    }
                                                },
                                                "type": "barpolar"
                                            }
                                        ],
                                        "histogram2dcontour": [
                                            {
                                                "colorbar": {
                                                    "outlinewidth": 0,
                                                    "ticks": ""
                                                },
                                                "type": "histogram2dcontour",
                                                "colorscale": [
                                                    [
                                                        0,
                                                        "#0d0887"
                                                    ],
                                                    [
                                                        0.1111111111111111,
                                                        "#46039f"
                                                    ],
                                                    [
                                                        0.2222222222222222,
                                                        "#7201a8"
                                                    ],
                                                    [
                                                        0.3333333333333333,
                                                        "#9c179e"
                                                    ],
                                                    [
                                                        0.4444444444444444,
                                                        "#bd3786"
                                                    ],
                                                    [
                                                        0.5555555555555556,
                                                        "#d8576b"
                                                    ],
                                                    [
                                                        0.6666666666666666,
                                                        "#ed7953"
                                                    ],
                                                    [
                                                        0.7777777777777778,
                                                        "#fb9f3a"
                                                    ],
                                                    [
                                                        0.8888888888888888,
                                                        "#fdca26"
                                                    ],
                                                    [
                                                        1,
                                                        "#f0f921"
                                                    ]
                                                ]
                                            }
                                        ],
                                        "scatter": [
                                            {
                                                "marker": {
                                                    "colorbar": {
                                                        "outlinewidth": 0,
                                                        "ticks": ""
                                                    }
                                                },
                                                "type": "scatter"
                                            }
                                        ]
                                    }
                                },
                                "title": {
                                    "text": "Predicted product line client interest distribution"
                                }
                            }
                        }
                    },
                    "metadata": {}
                }
            ]
        },
        {
            "metadata": {},
            "cell_type": "markdown",
            "source": "With this data set, perform some analysis of the mean AGE per product line by using a bar chart."
        },
        {
            "metadata": {},
            "cell_type": "code",
            "source": "age_data = [go.Bar(y=predictions_pd.groupby(['predictedLabel']).mean()['AGE'], x=cumulative_stats.index)]\n\nage_layout = go.Layout(\n    title='Mean AGE per predicted product line',\n    xaxis=dict(title = 'Product Line', showline=False),\n    yaxis=dict(title = 'Mean AGE'))\n\nfig = go.Figure(data=age_data, layout=age_layout)\niplot(fig)",
            "execution_count": 31,
            "outputs": [
                {
                    "output_type": "display_data",
                    "data": {
                        "text/html": "<div>\n        \n        \n            <div id=\"022e6a9f-b238-4555-b981-3c6127eaf229\" class=\"plotly-graph-div\" style=\"height:525px; width:100%;\"></div>\n            <script type=\"text/javascript\">\n                require([\"plotly\"], function(Plotly) {\n                    window.PLOTLYENV=window.PLOTLYENV || {};\n                    \n                if (document.getElementById(\"022e6a9f-b238-4555-b981-3c6127eaf229\")) {\n                    Plotly.newPlot(\n                        '022e6a9f-b238-4555-b981-3c6127eaf229',\n                        [{\"type\": \"bar\", \"x\": [\"Camping Equipment\", \"Golf Equipment\", \"Mountaineering Equipment\", \"Personal Accessories\"], \"y\": [33.66190542227153, 51.4451313755796, 35.06692913385827, 31.860243055555557]}],\n                        {\"template\": {\"data\": {\"bar\": [{\"error_x\": {\"color\": \"#2a3f5f\"}, \"error_y\": {\"color\": \"#2a3f5f\"}, \"marker\": {\"line\": {\"color\": \"#E5ECF6\", \"width\": 0.5}}, \"type\": \"bar\"}], \"barpolar\": [{\"marker\": {\"line\": {\"color\": \"#E5ECF6\", \"width\": 0.5}}, \"type\": \"barpolar\"}], \"carpet\": [{\"aaxis\": {\"endlinecolor\": \"#2a3f5f\", \"gridcolor\": \"white\", \"linecolor\": \"white\", \"minorgridcolor\": \"white\", \"startlinecolor\": \"#2a3f5f\"}, \"baxis\": {\"endlinecolor\": \"#2a3f5f\", \"gridcolor\": \"white\", \"linecolor\": \"white\", \"minorgridcolor\": \"white\", \"startlinecolor\": \"#2a3f5f\"}, \"type\": \"carpet\"}], \"choropleth\": [{\"colorbar\": {\"outlinewidth\": 0, \"ticks\": \"\"}, \"type\": \"choropleth\"}], \"contour\": [{\"colorbar\": {\"outlinewidth\": 0, \"ticks\": \"\"}, \"colorscale\": [[0.0, \"#0d0887\"], [0.1111111111111111, \"#46039f\"], [0.2222222222222222, \"#7201a8\"], [0.3333333333333333, \"#9c179e\"], [0.4444444444444444, \"#bd3786\"], [0.5555555555555556, \"#d8576b\"], [0.6666666666666666, \"#ed7953\"], [0.7777777777777778, \"#fb9f3a\"], [0.8888888888888888, \"#fdca26\"], [1.0, \"#f0f921\"]], \"type\": \"contour\"}], \"contourcarpet\": [{\"colorbar\": {\"outlinewidth\": 0, \"ticks\": \"\"}, \"type\": \"contourcarpet\"}], \"heatmap\": [{\"colorbar\": {\"outlinewidth\": 0, \"ticks\": \"\"}, \"colorscale\": [[0.0, \"#0d0887\"], [0.1111111111111111, \"#46039f\"], [0.2222222222222222, \"#7201a8\"], [0.3333333333333333, \"#9c179e\"], [0.4444444444444444, \"#bd3786\"], [0.5555555555555556, \"#d8576b\"], [0.6666666666666666, \"#ed7953\"], [0.7777777777777778, \"#fb9f3a\"], [0.8888888888888888, \"#fdca26\"], [1.0, \"#f0f921\"]], \"type\": \"heatmap\"}], \"heatmapgl\": [{\"colorbar\": {\"outlinewidth\": 0, \"ticks\": \"\"}, \"colorscale\": [[0.0, \"#0d0887\"], [0.1111111111111111, \"#46039f\"], [0.2222222222222222, \"#7201a8\"], [0.3333333333333333, \"#9c179e\"], [0.4444444444444444, \"#bd3786\"], [0.5555555555555556, \"#d8576b\"], [0.6666666666666666, \"#ed7953\"], [0.7777777777777778, \"#fb9f3a\"], [0.8888888888888888, \"#fdca26\"], [1.0, \"#f0f921\"]], \"type\": \"heatmapgl\"}], \"histogram\": [{\"marker\": {\"colorbar\": {\"outlinewidth\": 0, \"ticks\": \"\"}}, \"type\": \"histogram\"}], \"histogram2d\": [{\"colorbar\": {\"outlinewidth\": 0, \"ticks\": \"\"}, \"colorscale\": [[0.0, \"#0d0887\"], [0.1111111111111111, \"#46039f\"], [0.2222222222222222, \"#7201a8\"], [0.3333333333333333, \"#9c179e\"], [0.4444444444444444, \"#bd3786\"], [0.5555555555555556, \"#d8576b\"], [0.6666666666666666, \"#ed7953\"], [0.7777777777777778, \"#fb9f3a\"], [0.8888888888888888, \"#fdca26\"], [1.0, \"#f0f921\"]], \"type\": \"histogram2d\"}], \"histogram2dcontour\": [{\"colorbar\": {\"outlinewidth\": 0, \"ticks\": \"\"}, \"colorscale\": [[0.0, \"#0d0887\"], [0.1111111111111111, \"#46039f\"], [0.2222222222222222, \"#7201a8\"], [0.3333333333333333, \"#9c179e\"], [0.4444444444444444, \"#bd3786\"], [0.5555555555555556, \"#d8576b\"], [0.6666666666666666, \"#ed7953\"], [0.7777777777777778, \"#fb9f3a\"], [0.8888888888888888, \"#fdca26\"], [1.0, \"#f0f921\"]], \"type\": \"histogram2dcontour\"}], \"mesh3d\": [{\"colorbar\": {\"outlinewidth\": 0, \"ticks\": \"\"}, \"type\": \"mesh3d\"}], \"parcoords\": [{\"line\": {\"colorbar\": {\"outlinewidth\": 0, \"ticks\": \"\"}}, \"type\": \"parcoords\"}], \"pie\": [{\"automargin\": true, \"type\": \"pie\"}], \"scatter\": [{\"marker\": {\"colorbar\": {\"outlinewidth\": 0, \"ticks\": \"\"}}, \"type\": \"scatter\"}], \"scatter3d\": [{\"line\": {\"colorbar\": {\"outlinewidth\": 0, \"ticks\": \"\"}}, \"marker\": {\"colorbar\": {\"outlinewidth\": 0, \"ticks\": \"\"}}, \"type\": \"scatter3d\"}], \"scattercarpet\": [{\"marker\": {\"colorbar\": {\"outlinewidth\": 0, \"ticks\": \"\"}}, \"type\": \"scattercarpet\"}], \"scattergeo\": [{\"marker\": {\"colorbar\": {\"outlinewidth\": 0, \"ticks\": \"\"}}, \"type\": \"scattergeo\"}], \"scattergl\": [{\"marker\": {\"colorbar\": {\"outlinewidth\": 0, \"ticks\": \"\"}}, \"type\": \"scattergl\"}], \"scattermapbox\": [{\"marker\": {\"colorbar\": {\"outlinewidth\": 0, \"ticks\": \"\"}}, \"type\": \"scattermapbox\"}], \"scatterpolar\": [{\"marker\": {\"colorbar\": {\"outlinewidth\": 0, \"ticks\": \"\"}}, \"type\": \"scatterpolar\"}], \"scatterpolargl\": [{\"marker\": {\"colorbar\": {\"outlinewidth\": 0, \"ticks\": \"\"}}, \"type\": \"scatterpolargl\"}], \"scatterternary\": [{\"marker\": {\"colorbar\": {\"outlinewidth\": 0, \"ticks\": \"\"}}, \"type\": \"scatterternary\"}], \"surface\": [{\"colorbar\": {\"outlinewidth\": 0, \"ticks\": \"\"}, \"colorscale\": [[0.0, \"#0d0887\"], [0.1111111111111111, \"#46039f\"], [0.2222222222222222, \"#7201a8\"], [0.3333333333333333, \"#9c179e\"], [0.4444444444444444, \"#bd3786\"], [0.5555555555555556, \"#d8576b\"], [0.6666666666666666, \"#ed7953\"], [0.7777777777777778, \"#fb9f3a\"], [0.8888888888888888, \"#fdca26\"], [1.0, \"#f0f921\"]], \"type\": \"surface\"}], \"table\": [{\"cells\": {\"fill\": {\"color\": \"#EBF0F8\"}, \"line\": {\"color\": \"white\"}}, \"header\": {\"fill\": {\"color\": \"#C8D4E3\"}, \"line\": {\"color\": \"white\"}}, \"type\": \"table\"}]}, \"layout\": {\"annotationdefaults\": {\"arrowcolor\": \"#2a3f5f\", \"arrowhead\": 0, \"arrowwidth\": 1}, \"coloraxis\": {\"colorbar\": {\"outlinewidth\": 0, \"ticks\": \"\"}}, \"colorscale\": {\"diverging\": [[0, \"#8e0152\"], [0.1, \"#c51b7d\"], [0.2, \"#de77ae\"], [0.3, \"#f1b6da\"], [0.4, \"#fde0ef\"], [0.5, \"#f7f7f7\"], [0.6, \"#e6f5d0\"], [0.7, \"#b8e186\"], [0.8, \"#7fbc41\"], [0.9, \"#4d9221\"], [1, \"#276419\"]], \"sequential\": [[0.0, \"#0d0887\"], [0.1111111111111111, \"#46039f\"], [0.2222222222222222, \"#7201a8\"], [0.3333333333333333, \"#9c179e\"], [0.4444444444444444, \"#bd3786\"], [0.5555555555555556, \"#d8576b\"], [0.6666666666666666, \"#ed7953\"], [0.7777777777777778, \"#fb9f3a\"], [0.8888888888888888, \"#fdca26\"], [1.0, \"#f0f921\"]], \"sequentialminus\": [[0.0, \"#0d0887\"], [0.1111111111111111, \"#46039f\"], [0.2222222222222222, \"#7201a8\"], [0.3333333333333333, \"#9c179e\"], [0.4444444444444444, \"#bd3786\"], [0.5555555555555556, \"#d8576b\"], [0.6666666666666666, \"#ed7953\"], [0.7777777777777778, \"#fb9f3a\"], [0.8888888888888888, \"#fdca26\"], [1.0, \"#f0f921\"]]}, \"colorway\": [\"#636efa\", \"#EF553B\", \"#00cc96\", \"#ab63fa\", \"#FFA15A\", \"#19d3f3\", \"#FF6692\", \"#B6E880\", \"#FF97FF\", \"#FECB52\"], \"font\": {\"color\": \"#2a3f5f\"}, \"geo\": {\"bgcolor\": \"white\", \"lakecolor\": \"white\", \"landcolor\": \"#E5ECF6\", \"showlakes\": true, \"showland\": true, \"subunitcolor\": \"white\"}, \"hoverlabel\": {\"align\": \"left\"}, \"hovermode\": \"closest\", \"mapbox\": {\"style\": \"light\"}, \"paper_bgcolor\": \"white\", \"plot_bgcolor\": \"#E5ECF6\", \"polar\": {\"angularaxis\": {\"gridcolor\": \"white\", \"linecolor\": \"white\", \"ticks\": \"\"}, \"bgcolor\": \"#E5ECF6\", \"radialaxis\": {\"gridcolor\": \"white\", \"linecolor\": \"white\", \"ticks\": \"\"}}, \"scene\": {\"xaxis\": {\"backgroundcolor\": \"#E5ECF6\", \"gridcolor\": \"white\", \"gridwidth\": 2, \"linecolor\": \"white\", \"showbackground\": true, \"ticks\": \"\", \"zerolinecolor\": \"white\"}, \"yaxis\": {\"backgroundcolor\": \"#E5ECF6\", \"gridcolor\": \"white\", \"gridwidth\": 2, \"linecolor\": \"white\", \"showbackground\": true, \"ticks\": \"\", \"zerolinecolor\": \"white\"}, \"zaxis\": {\"backgroundcolor\": \"#E5ECF6\", \"gridcolor\": \"white\", \"gridwidth\": 2, \"linecolor\": \"white\", \"showbackground\": true, \"ticks\": \"\", \"zerolinecolor\": \"white\"}}, \"shapedefaults\": {\"line\": {\"color\": \"#2a3f5f\"}}, \"ternary\": {\"aaxis\": {\"gridcolor\": \"white\", \"linecolor\": \"white\", \"ticks\": \"\"}, \"baxis\": {\"gridcolor\": \"white\", \"linecolor\": \"white\", \"ticks\": \"\"}, \"bgcolor\": \"#E5ECF6\", \"caxis\": {\"gridcolor\": \"white\", \"linecolor\": \"white\", \"ticks\": \"\"}}, \"title\": {\"x\": 0.05}, \"xaxis\": {\"automargin\": true, \"gridcolor\": \"white\", \"linecolor\": \"white\", \"ticks\": \"\", \"title\": {\"standoff\": 15}, \"zerolinecolor\": \"white\", \"zerolinewidth\": 2}, \"yaxis\": {\"automargin\": true, \"gridcolor\": \"white\", \"linecolor\": \"white\", \"ticks\": \"\", \"title\": {\"standoff\": 15}, \"zerolinecolor\": \"white\", \"zerolinewidth\": 2}}}, \"title\": {\"text\": \"Mean AGE per predicted product line\"}, \"xaxis\": {\"showline\": false, \"title\": {\"text\": \"Product Line\"}}, \"yaxis\": {\"title\": {\"text\": \"Mean AGE\"}}},\n                        {\"responsive\": true}\n                    ).then(function(){\n                            \nvar gd = document.getElementById('022e6a9f-b238-4555-b981-3c6127eaf229');\nvar x = new MutationObserver(function (mutations, observer) {{\n        var display = window.getComputedStyle(gd).display;\n        if (!display || display === 'none') {{\n            console.log([gd, 'removed!']);\n            Plotly.purge(gd);\n            observer.disconnect();\n        }}\n}});\n\n// Listen for the removal of the full notebook cells\nvar notebookContainer = gd.closest('#notebook-container');\nif (notebookContainer) {{\n    x.observe(notebookContainer, {childList: true});\n}}\n\n// Listen for the clearing of the current output cell\nvar outputEl = gd.closest('.output');\nif (outputEl) {{\n    x.observe(outputEl, {childList: true});\n}}\n\n                        })\n                };\n                });\n            </script>\n        </div>",
                        "application/vnd.plotly.v1+json": {
                            "data": [
                                {
                                    "y": [
                                        33.66190542227153,
                                        51.4451313755796,
                                        35.06692913385827,
                                        31.860243055555557
                                    ],
                                    "x": [
                                        "Camping Equipment",
                                        "Golf Equipment",
                                        "Mountaineering Equipment",
                                        "Personal Accessories"
                                    ],
                                    "type": "bar"
                                }
                            ],
                            "config": {
                                "plotlyServerURL": "https://plot.ly",
                                "linkText": "Export to plot.ly",
                                "showLink": false
                            },
                            "layout": {
                                "yaxis": {
                                    "title": {
                                        "text": "Mean AGE"
                                    }
                                },
                                "xaxis": {
                                    "showline": false,
                                    "title": {
                                        "text": "Product Line"
                                    }
                                },
                                "template": {
                                    "layout": {
                                        "shapedefaults": {
                                            "line": {
                                                "color": "#2a3f5f"
                                            }
                                        },
                                        "polar": {
                                            "radialaxis": {
                                                "ticks": "",
                                                "gridcolor": "white",
                                                "linecolor": "white"
                                            },
                                            "bgcolor": "#E5ECF6",
                                            "angularaxis": {
                                                "ticks": "",
                                                "gridcolor": "white",
                                                "linecolor": "white"
                                            }
                                        },
                                        "colorway": [
                                            "#636efa",
                                            "#EF553B",
                                            "#00cc96",
                                            "#ab63fa",
                                            "#FFA15A",
                                            "#19d3f3",
                                            "#FF6692",
                                            "#B6E880",
                                            "#FF97FF",
                                            "#FECB52"
                                        ],
                                        "xaxis": {
                                            "automargin": true,
                                            "title": {
                                                "standoff": 15
                                            },
                                            "zerolinewidth": 2,
                                            "ticks": "",
                                            "zerolinecolor": "white",
                                            "gridcolor": "white",
                                            "linecolor": "white"
                                        },
                                        "colorscale": {
                                            "diverging": [
                                                [
                                                    0,
                                                    "#8e0152"
                                                ],
                                                [
                                                    0.1,
                                                    "#c51b7d"
                                                ],
                                                [
                                                    0.2,
                                                    "#de77ae"
                                                ],
                                                [
                                                    0.3,
                                                    "#f1b6da"
                                                ],
                                                [
                                                    0.4,
                                                    "#fde0ef"
                                                ],
                                                [
                                                    0.5,
                                                    "#f7f7f7"
                                                ],
                                                [
                                                    0.6,
                                                    "#e6f5d0"
                                                ],
                                                [
                                                    0.7,
                                                    "#b8e186"
                                                ],
                                                [
                                                    0.8,
                                                    "#7fbc41"
                                                ],
                                                [
                                                    0.9,
                                                    "#4d9221"
                                                ],
                                                [
                                                    1,
                                                    "#276419"
                                                ]
                                            ],
                                            "sequential": [
                                                [
                                                    0,
                                                    "#0d0887"
                                                ],
                                                [
                                                    0.1111111111111111,
                                                    "#46039f"
                                                ],
                                                [
                                                    0.2222222222222222,
                                                    "#7201a8"
                                                ],
                                                [
                                                    0.3333333333333333,
                                                    "#9c179e"
                                                ],
                                                [
                                                    0.4444444444444444,
                                                    "#bd3786"
                                                ],
                                                [
                                                    0.5555555555555556,
                                                    "#d8576b"
                                                ],
                                                [
                                                    0.6666666666666666,
                                                    "#ed7953"
                                                ],
                                                [
                                                    0.7777777777777778,
                                                    "#fb9f3a"
                                                ],
                                                [
                                                    0.8888888888888888,
                                                    "#fdca26"
                                                ],
                                                [
                                                    1,
                                                    "#f0f921"
                                                ]
                                            ],
                                            "sequentialminus": [
                                                [
                                                    0,
                                                    "#0d0887"
                                                ],
                                                [
                                                    0.1111111111111111,
                                                    "#46039f"
                                                ],
                                                [
                                                    0.2222222222222222,
                                                    "#7201a8"
                                                ],
                                                [
                                                    0.3333333333333333,
                                                    "#9c179e"
                                                ],
                                                [
                                                    0.4444444444444444,
                                                    "#bd3786"
                                                ],
                                                [
                                                    0.5555555555555556,
                                                    "#d8576b"
                                                ],
                                                [
                                                    0.6666666666666666,
                                                    "#ed7953"
                                                ],
                                                [
                                                    0.7777777777777778,
                                                    "#fb9f3a"
                                                ],
                                                [
                                                    0.8888888888888888,
                                                    "#fdca26"
                                                ],
                                                [
                                                    1,
                                                    "#f0f921"
                                                ]
                                            ]
                                        },
                                        "paper_bgcolor": "white",
                                        "plot_bgcolor": "#E5ECF6",
                                        "title": {
                                            "x": 0.05
                                        },
                                        "scene": {
                                            "zaxis": {
                                                "backgroundcolor": "#E5ECF6",
                                                "ticks": "",
                                                "gridwidth": 2,
                                                "showbackground": true,
                                                "zerolinecolor": "white",
                                                "gridcolor": "white",
                                                "linecolor": "white"
                                            },
                                            "xaxis": {
                                                "backgroundcolor": "#E5ECF6",
                                                "ticks": "",
                                                "gridwidth": 2,
                                                "showbackground": true,
                                                "zerolinecolor": "white",
                                                "gridcolor": "white",
                                                "linecolor": "white"
                                            },
                                            "yaxis": {
                                                "backgroundcolor": "#E5ECF6",
                                                "ticks": "",
                                                "gridwidth": 2,
                                                "showbackground": true,
                                                "zerolinecolor": "white",
                                                "gridcolor": "white",
                                                "linecolor": "white"
                                            }
                                        },
                                        "yaxis": {
                                            "automargin": true,
                                            "title": {
                                                "standoff": 15
                                            },
                                            "zerolinewidth": 2,
                                            "ticks": "",
                                            "zerolinecolor": "white",
                                            "gridcolor": "white",
                                            "linecolor": "white"
                                        },
                                        "annotationdefaults": {
                                            "arrowwidth": 1,
                                            "arrowhead": 0,
                                            "arrowcolor": "#2a3f5f"
                                        },
                                        "hoverlabel": {
                                            "align": "left"
                                        },
                                        "ternary": {
                                            "bgcolor": "#E5ECF6",
                                            "baxis": {
                                                "ticks": "",
                                                "gridcolor": "white",
                                                "linecolor": "white"
                                            },
                                            "caxis": {
                                                "ticks": "",
                                                "gridcolor": "white",
                                                "linecolor": "white"
                                            },
                                            "aaxis": {
                                                "ticks": "",
                                                "gridcolor": "white",
                                                "linecolor": "white"
                                            }
                                        },
                                        "mapbox": {
                                            "style": "light"
                                        },
                                        "hovermode": "closest",
                                        "font": {
                                            "color": "#2a3f5f"
                                        },
                                        "geo": {
                                            "showland": true,
                                            "landcolor": "#E5ECF6",
                                            "showlakes": true,
                                            "bgcolor": "white",
                                            "subunitcolor": "white",
                                            "lakecolor": "white"
                                        },
                                        "coloraxis": {
                                            "colorbar": {
                                                "outlinewidth": 0,
                                                "ticks": ""
                                            }
                                        }
                                    },
                                    "data": {
                                        "mesh3d": [
                                            {
                                                "colorbar": {
                                                    "outlinewidth": 0,
                                                    "ticks": ""
                                                },
                                                "type": "mesh3d"
                                            }
                                        ],
                                        "scattercarpet": [
                                            {
                                                "marker": {
                                                    "colorbar": {
                                                        "outlinewidth": 0,
                                                        "ticks": ""
                                                    }
                                                },
                                                "type": "scattercarpet"
                                            }
                                        ],
                                        "pie": [
                                            {
                                                "automargin": true,
                                                "type": "pie"
                                            }
                                        ],
                                        "surface": [
                                            {
                                                "colorbar": {
                                                    "outlinewidth": 0,
                                                    "ticks": ""
                                                },
                                                "type": "surface",
                                                "colorscale": [
                                                    [
                                                        0,
                                                        "#0d0887"
                                                    ],
                                                    [
                                                        0.1111111111111111,
                                                        "#46039f"
                                                    ],
                                                    [
                                                        0.2222222222222222,
                                                        "#7201a8"
                                                    ],
                                                    [
                                                        0.3333333333333333,
                                                        "#9c179e"
                                                    ],
                                                    [
                                                        0.4444444444444444,
                                                        "#bd3786"
                                                    ],
                                                    [
                                                        0.5555555555555556,
                                                        "#d8576b"
                                                    ],
                                                    [
                                                        0.6666666666666666,
                                                        "#ed7953"
                                                    ],
                                                    [
                                                        0.7777777777777778,
                                                        "#fb9f3a"
                                                    ],
                                                    [
                                                        0.8888888888888888,
                                                        "#fdca26"
                                                    ],
                                                    [
                                                        1,
                                                        "#f0f921"
                                                    ]
                                                ]
                                            }
                                        ],
                                        "table": [
                                            {
                                                "header": {
                                                    "line": {
                                                        "color": "white"
                                                    },
                                                    "fill": {
                                                        "color": "#C8D4E3"
                                                    }
                                                },
                                                "cells": {
                                                    "line": {
                                                        "color": "white"
                                                    },
                                                    "fill": {
                                                        "color": "#EBF0F8"
                                                    }
                                                },
                                                "type": "table"
                                            }
                                        ],
                                        "scatterpolargl": [
                                            {
                                                "marker": {
                                                    "colorbar": {
                                                        "outlinewidth": 0,
                                                        "ticks": ""
                                                    }
                                                },
                                                "type": "scatterpolargl"
                                            }
                                        ],
                                        "contour": [
                                            {
                                                "colorbar": {
                                                    "outlinewidth": 0,
                                                    "ticks": ""
                                                },
                                                "type": "contour",
                                                "colorscale": [
                                                    [
                                                        0,
                                                        "#0d0887"
                                                    ],
                                                    [
                                                        0.1111111111111111,
                                                        "#46039f"
                                                    ],
                                                    [
                                                        0.2222222222222222,
                                                        "#7201a8"
                                                    ],
                                                    [
                                                        0.3333333333333333,
                                                        "#9c179e"
                                                    ],
                                                    [
                                                        0.4444444444444444,
                                                        "#bd3786"
                                                    ],
                                                    [
                                                        0.5555555555555556,
                                                        "#d8576b"
                                                    ],
                                                    [
                                                        0.6666666666666666,
                                                        "#ed7953"
                                                    ],
                                                    [
                                                        0.7777777777777778,
                                                        "#fb9f3a"
                                                    ],
                                                    [
                                                        0.8888888888888888,
                                                        "#fdca26"
                                                    ],
                                                    [
                                                        1,
                                                        "#f0f921"
                                                    ]
                                                ]
                                            }
                                        ],
                                        "carpet": [
                                            {
                                                "type": "carpet",
                                                "baxis": {
                                                    "minorgridcolor": "white",
                                                    "gridcolor": "white",
                                                    "linecolor": "white",
                                                    "endlinecolor": "#2a3f5f",
                                                    "startlinecolor": "#2a3f5f"
                                                },
                                                "aaxis": {
                                                    "minorgridcolor": "white",
                                                    "gridcolor": "white",
                                                    "linecolor": "white",
                                                    "endlinecolor": "#2a3f5f",
                                                    "startlinecolor": "#2a3f5f"
                                                }
                                            }
                                        ],
                                        "contourcarpet": [
                                            {
                                                "colorbar": {
                                                    "outlinewidth": 0,
                                                    "ticks": ""
                                                },
                                                "type": "contourcarpet"
                                            }
                                        ],
                                        "heatmap": [
                                            {
                                                "colorbar": {
                                                    "outlinewidth": 0,
                                                    "ticks": ""
                                                },
                                                "type": "heatmap",
                                                "colorscale": [
                                                    [
                                                        0,
                                                        "#0d0887"
                                                    ],
                                                    [
                                                        0.1111111111111111,
                                                        "#46039f"
                                                    ],
                                                    [
                                                        0.2222222222222222,
                                                        "#7201a8"
                                                    ],
                                                    [
                                                        0.3333333333333333,
                                                        "#9c179e"
                                                    ],
                                                    [
                                                        0.4444444444444444,
                                                        "#bd3786"
                                                    ],
                                                    [
                                                        0.5555555555555556,
                                                        "#d8576b"
                                                    ],
                                                    [
                                                        0.6666666666666666,
                                                        "#ed7953"
                                                    ],
                                                    [
                                                        0.7777777777777778,
                                                        "#fb9f3a"
                                                    ],
                                                    [
                                                        0.8888888888888888,
                                                        "#fdca26"
                                                    ],
                                                    [
                                                        1,
                                                        "#f0f921"
                                                    ]
                                                ]
                                            }
                                        ],
                                        "scattermapbox": [
                                            {
                                                "marker": {
                                                    "colorbar": {
                                                        "outlinewidth": 0,
                                                        "ticks": ""
                                                    }
                                                },
                                                "type": "scattermapbox"
                                            }
                                        ],
                                        "scatter3d": [
                                            {
                                                "marker": {
                                                    "colorbar": {
                                                        "outlinewidth": 0,
                                                        "ticks": ""
                                                    }
                                                },
                                                "line": {
                                                    "colorbar": {
                                                        "outlinewidth": 0,
                                                        "ticks": ""
                                                    }
                                                },
                                                "type": "scatter3d"
                                            }
                                        ],
                                        "scattergl": [
                                            {
                                                "marker": {
                                                    "colorbar": {
                                                        "outlinewidth": 0,
                                                        "ticks": ""
                                                    }
                                                },
                                                "type": "scattergl"
                                            }
                                        ],
                                        "scatterternary": [
                                            {
                                                "marker": {
                                                    "colorbar": {
                                                        "outlinewidth": 0,
                                                        "ticks": ""
                                                    }
                                                },
                                                "type": "scatterternary"
                                            }
                                        ],
                                        "histogram": [
                                            {
                                                "marker": {
                                                    "colorbar": {
                                                        "outlinewidth": 0,
                                                        "ticks": ""
                                                    }
                                                },
                                                "type": "histogram"
                                            }
                                        ],
                                        "heatmapgl": [
                                            {
                                                "colorbar": {
                                                    "outlinewidth": 0,
                                                    "ticks": ""
                                                },
                                                "type": "heatmapgl",
                                                "colorscale": [
                                                    [
                                                        0,
                                                        "#0d0887"
                                                    ],
                                                    [
                                                        0.1111111111111111,
                                                        "#46039f"
                                                    ],
                                                    [
                                                        0.2222222222222222,
                                                        "#7201a8"
                                                    ],
                                                    [
                                                        0.3333333333333333,
                                                        "#9c179e"
                                                    ],
                                                    [
                                                        0.4444444444444444,
                                                        "#bd3786"
                                                    ],
                                                    [
                                                        0.5555555555555556,
                                                        "#d8576b"
                                                    ],
                                                    [
                                                        0.6666666666666666,
                                                        "#ed7953"
                                                    ],
                                                    [
                                                        0.7777777777777778,
                                                        "#fb9f3a"
                                                    ],
                                                    [
                                                        0.8888888888888888,
                                                        "#fdca26"
                                                    ],
                                                    [
                                                        1,
                                                        "#f0f921"
                                                    ]
                                                ]
                                            }
                                        ],
                                        "scatterpolar": [
                                            {
                                                "marker": {
                                                    "colorbar": {
                                                        "outlinewidth": 0,
                                                        "ticks": ""
                                                    }
                                                },
                                                "type": "scatterpolar"
                                            }
                                        ],
                                        "histogram2d": [
                                            {
                                                "colorbar": {
                                                    "outlinewidth": 0,
                                                    "ticks": ""
                                                },
                                                "type": "histogram2d",
                                                "colorscale": [
                                                    [
                                                        0,
                                                        "#0d0887"
                                                    ],
                                                    [
                                                        0.1111111111111111,
                                                        "#46039f"
                                                    ],
                                                    [
                                                        0.2222222222222222,
                                                        "#7201a8"
                                                    ],
                                                    [
                                                        0.3333333333333333,
                                                        "#9c179e"
                                                    ],
                                                    [
                                                        0.4444444444444444,
                                                        "#bd3786"
                                                    ],
                                                    [
                                                        0.5555555555555556,
                                                        "#d8576b"
                                                    ],
                                                    [
                                                        0.6666666666666666,
                                                        "#ed7953"
                                                    ],
                                                    [
                                                        0.7777777777777778,
                                                        "#fb9f3a"
                                                    ],
                                                    [
                                                        0.8888888888888888,
                                                        "#fdca26"
                                                    ],
                                                    [
                                                        1,
                                                        "#f0f921"
                                                    ]
                                                ]
                                            }
                                        ],
                                        "scattergeo": [
                                            {
                                                "marker": {
                                                    "colorbar": {
                                                        "outlinewidth": 0,
                                                        "ticks": ""
                                                    }
                                                },
                                                "type": "scattergeo"
                                            }
                                        ],
                                        "bar": [
                                            {
                                                "marker": {
                                                    "line": {
                                                        "color": "#E5ECF6",
                                                        "width": 0.5
                                                    }
                                                },
                                                "type": "bar",
                                                "error_x": {
                                                    "color": "#2a3f5f"
                                                },
                                                "error_y": {
                                                    "color": "#2a3f5f"
                                                }
                                            }
                                        ],
                                        "choropleth": [
                                            {
                                                "colorbar": {
                                                    "outlinewidth": 0,
                                                    "ticks": ""
                                                },
                                                "type": "choropleth"
                                            }
                                        ],
                                        "parcoords": [
                                            {
                                                "line": {
                                                    "colorbar": {
                                                        "outlinewidth": 0,
                                                        "ticks": ""
                                                    }
                                                },
                                                "type": "parcoords"
                                            }
                                        ],
                                        "barpolar": [
                                            {
                                                "marker": {
                                                    "line": {
                                                        "color": "#E5ECF6",
                                                        "width": 0.5
                                                    }
                                                },
                                                "type": "barpolar"
                                            }
                                        ],
                                        "histogram2dcontour": [
                                            {
                                                "colorbar": {
                                                    "outlinewidth": 0,
                                                    "ticks": ""
                                                },
                                                "type": "histogram2dcontour",
                                                "colorscale": [
                                                    [
                                                        0,
                                                        "#0d0887"
                                                    ],
                                                    [
                                                        0.1111111111111111,
                                                        "#46039f"
                                                    ],
                                                    [
                                                        0.2222222222222222,
                                                        "#7201a8"
                                                    ],
                                                    [
                                                        0.3333333333333333,
                                                        "#9c179e"
                                                    ],
                                                    [
                                                        0.4444444444444444,
                                                        "#bd3786"
                                                    ],
                                                    [
                                                        0.5555555555555556,
                                                        "#d8576b"
                                                    ],
                                                    [
                                                        0.6666666666666666,
                                                        "#ed7953"
                                                    ],
                                                    [
                                                        0.7777777777777778,
                                                        "#fb9f3a"
                                                    ],
                                                    [
                                                        0.8888888888888888,
                                                        "#fdca26"
                                                    ],
                                                    [
                                                        1,
                                                        "#f0f921"
                                                    ]
                                                ]
                                            }
                                        ],
                                        "scatter": [
                                            {
                                                "marker": {
                                                    "colorbar": {
                                                        "outlinewidth": 0,
                                                        "ticks": ""
                                                    }
                                                },
                                                "type": "scatter"
                                            }
                                        ]
                                    }
                                },
                                "title": {
                                    "text": "Mean AGE per predicted product line"
                                }
                            }
                        }
                    },
                    "metadata": {}
                }
            ]
        },
        {
            "metadata": {},
            "cell_type": "markdown",
            "source": "\n\nBased on the bar plot you created, the following conclusion can be reached: the mean age of clients that are interested in golf equipment is predicted to be over 50 years old.\n"
        },
        {
            "metadata": {
                "collapsed": true
            },
            "cell_type": "markdown",
            "source": "<a id=\"summary\"></a>\n## 5. Summary and next steps     "
        },
        {
            "metadata": {
                "collapsed": true
            },
            "cell_type": "markdown",
            "source": "You successfully completed this notebook! You learned how to load and explore data, visualizations as well as use Apache\u00ae Spark Machine Learning for model creation. \n \nCheck out our [Online Documentation](https://dataplatform.cloud.ibm.com/community?context=wdp) for more samples, tutorials, documentation, how-tos, and blog posts. "
        },
        {
            "metadata": {},
            "cell_type": "markdown",
            "source": "Copyright \u00a9 2017-2019 IBM. This notebook and its source code are released under the terms of the MIT License."
        }
    ],
    "metadata": {
        "kernelspec": {
            "name": "python36",
            "display_name": "Python 3.6 with Spark",
            "language": "python3"
        },
        "language_info": {
            "mimetype": "text/x-python",
            "nbconvert_exporter": "python",
            "name": "python",
            "pygments_lexer": "ipython3",
            "version": "3.6.8",
            "file_extension": ".py",
            "codemirror_mode": {
                "version": 3,
                "name": "ipython"
            }
        }
    },
    "nbformat": 4,
    "nbformat_minor": 1
}